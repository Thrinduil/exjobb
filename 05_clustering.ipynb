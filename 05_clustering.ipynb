{
 "metadata": {
  "name": ""
 },
 "nbformat": 3,
 "nbformat_minor": 0,
 "worksheets": [
  {
   "cells": [
    {
     "cell_type": "code",
     "collapsed": false,
     "input": [
      "import numpy as np\n",
      "import matplotlib.pyplot as plt\n",
      "import seaborn as sns\n",
      "import pandas as pd\n",
      "%matplotlib inline"
     ],
     "language": "python",
     "metadata": {},
     "outputs": [],
     "prompt_number": 248
    },
    {
     "cell_type": "heading",
     "level": 1,
     "metadata": {},
     "source": [
      "Clustering"
     ]
    },
    {
     "cell_type": "markdown",
     "metadata": {},
     "source": [
      "Up until now, we have cheated. A bit.\n",
      "\n",
      "As some of our proteins might be very similar to each other, the classifier can learn those examples \"by heart\", and a good score might not indicate a good generalization by the classifier, just a good memory.\n",
      "\n",
      "What we want to do is to group all proteins by similarity, and then make sure all similar proteins **go in the same fold**.\n",
      "\n",
      "I have already used BLAST to do the clustering. Now we manually need to sort them into folds."
     ]
    },
    {
     "cell_type": "heading",
     "level": 2,
     "metadata": {},
     "source": [
      "Sort Names Into Folds"
     ]
    },
    {
     "cell_type": "code",
     "collapsed": false,
     "input": [
      "fold_names = {0: [], 1: [], 2: [], 3: [], 4: []}\n",
      "\n",
      "with open(\"../data/blastclust.blast\", \"r\") as clust_file:\n",
      "    lines = clust_file.readlines()\n",
      "\n",
      "for line_idx, line in enumerate(lines):\n",
      "    line_sorted = False\n",
      "    fold_turn = line_idx % 5\n",
      "    words = line.split()\n",
      "    for fold_idx in [(fold_turn + i) % 5 for i in range(5)]:\n",
      "        if len(fold_names[fold_idx]) < 1320 / 5 and not line_sorted:\n",
      "            for word in words:\n",
      "                fold_names[fold_idx].append(word)\n",
      "                line_sorted = True\n",
      "        else:\n",
      "            continue\n",
      "\n",
      "for idx in range(5):\n",
      "    print \"Fold %i: %i proteins\" % (idx, len(fold_names[idx]))\n",
      "    print fold_names[idx][:5]"
     ],
     "language": "python",
     "metadata": {},
     "outputs": [
      {
       "output_type": "stream",
       "stream": "stdout",
       "text": [
        "Fold 0: 264 proteins\n",
        "['MoRFQ9WVL4', 'IID50053', 'IID00277', 'IID50044', 'MoRFQ5RDR1']\n",
        "Fold 1: 264 proteins\n",
        "['MoRFQ74084', 'MoRFA8JZA3', 'MoRFQ5S530', 'MoRFQ7ZNK7', 'MoRFA9RAN7']\n",
        "Fold 2: 264 proteins\n",
        "['IID00272', 'IID00062', 'IID00086', 'IID00088', 'IID00239']\n",
        "Fold 3: 264 proteins\n",
        "['MoRFQ9W705', 'MoRFQ5F393', 'MoRFQ8UVH3', 'MoRFQ98TW1', 'MoRFA8WGE8']\n",
        "Fold 4: 264 proteins\n",
        "['IID00013', 'IID00368', 'IID00091', 'IID00011', 'IID00391']\n"
       ]
      }
     ],
     "prompt_number": 249
    },
    {
     "cell_type": "heading",
     "level": 2,
     "metadata": {},
     "source": [
      "Get Features"
     ]
    },
    {
     "cell_type": "markdown",
     "metadata": {},
     "source": [
      "Now we need to grab the features and labels for the proteins. We reuse the functions from chapter 1."
     ]
    },
    {
     "cell_type": "code",
     "collapsed": false,
     "input": [
      "def get_aa_features(name):\n",
      "    \n",
      "    filename = \"/home/freso388/nsc/disopred/output/\" + name + \".mtx\"\n",
      "    aaList = ['A', 'C', 'D', 'E', 'F', 'G', 'H', 'I', 'K', 'L',\n",
      "              'M', 'N', 'P', 'Q', 'R', 'S', 'T', 'V', 'W', 'Y']\n",
      "    \n",
      "    with open(filename) as f:\n",
      "        lines = f.readlines()\n",
      "    seq = lines[1].strip()\n",
      "    \n",
      "    aa_features = []\n",
      "    for residue in range(len(seq)):\n",
      "        window_residues = range(-7,8)\n",
      "        current_window = []\n",
      "        row_shares = []\n",
      "        for window_residue in window_residues:\n",
      "            idx = residue + window_residue\n",
      "            if not 0 <= idx <= len(seq) - 1:\n",
      "                pass\n",
      "            else:\n",
      "                current_window.extend(seq[idx])\n",
      "    \n",
      "        for aa in aaList:\n",
      "            count = current_window.count(aa)\n",
      "            row_shares.append(round(float(count)/float(len(current_window)), 5))\n",
      "        \n",
      "        aa_features.append(row_shares)\n",
      "    \n",
      "    aa_features = np.array(aa_features)\n",
      "    \n",
      "    return aa_features"
     ],
     "language": "python",
     "metadata": {},
     "outputs": [],
     "prompt_number": 250
    },
    {
     "cell_type": "code",
     "collapsed": false,
     "input": [
      "def get_disorder_features(name):\n",
      "        \n",
      "    filename = \"/home/freso388/nsc/disopred/output/\" + name + \".diso\"\n",
      "    disorder_cutoff = 0.5\n",
      "    \n",
      "    with open(filename) as f:\n",
      "        lines = f.readlines()[3:]\n",
      "    scores = []\n",
      "    for line in lines:\n",
      "        words = line.split()\n",
      "        scores.append(float(words[3].strip()))\n",
      "    \n",
      "    disorder_features = []\n",
      "    for residue in range(len(scores)):\n",
      "        if scores[residue] < disorder_cutoff:\n",
      "            length = 0\n",
      "            start = 0\n",
      "            stop = 0\n",
      "    \n",
      "        else:    \n",
      "            start_idx = residue\n",
      "            found_start = False\n",
      "            at_end = False\n",
      "            while not found_start and not at_end:\n",
      "                if scores[start_idx] >= disorder_cutoff:\n",
      "                    if start_idx == 0:\n",
      "                        at_end = True\n",
      "                    else:\n",
      "                        start_idx -= 1    # Move to next residue and try again\n",
      "                else:\n",
      "                    found_start = True\n",
      "                    start_idx += 1    # The region actually stopped last round\n",
      "            start = round(float(start_idx) / len(scores), 5)\n",
      "    \n",
      "            stop_idx = residue\n",
      "            found_stop = False\n",
      "            at_end = False\n",
      "            while not found_stop and not at_end:\n",
      "                if scores[stop_idx] >= disorder_cutoff:\n",
      "                    if stop_idx == len(scores) - 1:\n",
      "                        at_end = True\n",
      "                    else:\n",
      "                        stop_idx += 1    # Move to next residue and try again\n",
      "                else:\n",
      "                    found_stop = True\n",
      "                    stop_idx -= 1    # The region actually stopped last round\n",
      "            stop = round(float(stop_idx + 1) / len(scores), 5)\n",
      "    \n",
      "            length = stop_idx - start_idx + 1\n",
      "    \n",
      "        score = scores[residue]\n",
      "            \n",
      "        row_features = [score, length, start, stop]\n",
      "    \n",
      "        disorder_features.append(row_features)\n",
      "    \n",
      "    disorder_features = np.array(disorder_features)\n",
      "    \n",
      "    return disorder_features"
     ],
     "language": "python",
     "metadata": {},
     "outputs": [],
     "prompt_number": 251
    },
    {
     "cell_type": "code",
     "collapsed": false,
     "input": [
      "def make_features(names):\n",
      "\n",
      "    all_features = np.zeros((1,24))\n",
      "    \n",
      "    for name in names:\n",
      "        \n",
      "        aa_features = get_aa_features(name)\n",
      "        disorder_features = get_disorder_features(name)\n",
      "        \n",
      "        features = np.hstack((aa_features, disorder_features))\n",
      "        \n",
      "        all_features = np.vstack((all_features, features))\n",
      "        \n",
      "    all_features = all_features[1:,:]\n",
      "    \n",
      "    return all_features"
     ],
     "language": "python",
     "metadata": {},
     "outputs": [],
     "prompt_number": 252
    },
    {
     "cell_type": "code",
     "collapsed": false,
     "input": [
      "fold_features = {}\n",
      "for idx in range(5):\n",
      "    fold_features[idx] = make_features(fold_names[idx])"
     ],
     "language": "python",
     "metadata": {},
     "outputs": [],
     "prompt_number": 253
    },
    {
     "cell_type": "code",
     "collapsed": false,
     "input": [
      "for idx in range(5):\n",
      "    print \"Fold %i: %i examples, %i features\" % (idx, fold_features[idx].shape[0],\n",
      "                                                 fold_features[idx].shape[1])"
     ],
     "language": "python",
     "metadata": {},
     "outputs": [
      {
       "output_type": "stream",
       "stream": "stdout",
       "text": [
        "Fold 0: 159196 examples, 24 features\n",
        "Fold 1: 154831 examples, 24 features\n",
        "Fold 2: 150048 examples, 24 features\n",
        "Fold 3: 187032 examples, 24 features\n",
        "Fold 4: 159260 examples, 24 features\n"
       ]
      }
     ],
     "prompt_number": 254
    },
    {
     "cell_type": "heading",
     "level": 2,
     "metadata": {},
     "source": [
      "Get Labels"
     ]
    },
    {
     "cell_type": "code",
     "collapsed": false,
     "input": [
      "def morf_labels(name):\n",
      "    y = []\n",
      "    data_filepath = \"/home/freso388/nsc/data/MoRF/\"\n",
      "    data_test_filename = data_filepath + \"MoRF_test.fasta\"\n",
      "    data_train_filename = data_filepath + \"MoRF_training.fasta\"\n",
      "    with open(data_test_filename, \"r\") as test_file:\n",
      "        test_lines = test_file.readlines()\n",
      "    with open(data_train_filename, \"r\") as train_file:\n",
      "        train_lines = train_file.readlines()\n",
      "    \n",
      "    found = False\n",
      "    identifier = name[4:]\n",
      "\n",
      "    for line_idx, line in enumerate(test_lines):\n",
      "        inline_idx = line.find(identifier)\n",
      "        if inline_idx != -1:\n",
      "            found = True\n",
      "            train_name = False\n",
      "            break\n",
      "\n",
      "    if not found:\n",
      "        for line_idx, line in enumerate(train_lines):\n",
      "            inline_idx = line.find(identifier)\n",
      "            if inline_idx != -1:\n",
      "                found = True\n",
      "                train_name = True\n",
      "                break\n",
      "\n",
      "    if found:\n",
      "        if not train_name:\n",
      "            y_vals = list(test_lines[line_idx + 2].strip())\n",
      "            y_vals = [int(y_val) for y_val in y_vals]\n",
      "        else:\n",
      "            y_vals = list(train_lines[line_idx + 2].strip())\n",
      "            y_vals = [int(y_val) for y_val in y_vals]\n",
      "    else:\n",
      "        return \"I'm so sorry!\"\n",
      "\n",
      "    y.extend(y_vals)\n",
      "    \n",
      "    #y = np.array(y)\n",
      "    return y"
     ],
     "language": "python",
     "metadata": {},
     "outputs": [],
     "prompt_number": 255
    },
    {
     "cell_type": "code",
     "collapsed": false,
     "input": [
      "def pros_labels(name):\n",
      "    y = []\n",
      "    data_filepath = \"/home/freso388/nsc/data/\"\n",
      "    data_filename = data_filepath + \"allRecords.myformat\"\n",
      "    with open(data_filename, \"r\") as data_file:\n",
      "        lines = data_file.readlines()\n",
      "    \n",
      "    found = False\n",
      "\n",
      "    for line_idx, line in enumerate(lines):\n",
      "        inline_idx = line.find(name)\n",
      "        if inline_idx != -1:\n",
      "            found = True\n",
      "            break\n",
      "\n",
      "    if found:\n",
      "            y_vals = list(lines[line_idx + 3].strip())\n",
      "            y_vals = [int(y_val) for y_val in y_vals[8:]]\n",
      "    else:\n",
      "        return \"I'm so sorry!\"\n",
      "\n",
      "    y.extend(y_vals)\n",
      "    \n",
      "    #y = np.array(y)\n",
      "    return y"
     ],
     "language": "python",
     "metadata": {},
     "outputs": [],
     "prompt_number": 256
    },
    {
     "cell_type": "code",
     "collapsed": false,
     "input": [
      "fold_labels = {}\n",
      "for idx in range(5):\n",
      "    fold_labels[idx] = []\n",
      "    for name in fold_names[idx]:\n",
      "        if name[0] == \"I\":\n",
      "            y_name = pros_labels(name)\n",
      "        elif name[0] == \"M\":\n",
      "            y_name = morf_labels(name)\n",
      "        fold_labels[idx].extend(y_name)\n",
      "    fold_labels[idx] = np.array(fold_labels[idx]).reshape((len(fold_labels[idx]), 1))"
     ],
     "language": "python",
     "metadata": {},
     "outputs": [],
     "prompt_number": 257
    },
    {
     "cell_type": "code",
     "collapsed": false,
     "input": [
      "for idx in range(5):\n",
      "    print \"Fold %i: %i examples, %i labels, %i features\" % (idx,\n",
      "                                                            fold_features[idx].shape[0],\n",
      "                                                            fold_labels[idx].shape[0],\n",
      "                                                            fold_features[idx].shape[1])"
     ],
     "language": "python",
     "metadata": {},
     "outputs": [
      {
       "output_type": "stream",
       "stream": "stdout",
       "text": [
        "Fold 0: 159196 examples, 159196 labels, 24 features\n",
        "Fold 1: 154831 examples, 154831 labels, 24 features\n",
        "Fold 2: 150048 examples, 150048 labels, 24 features\n",
        "Fold 3: 187032 examples, 187032 labels, 24 features\n",
        "Fold 4: 159260 examples, 159260 labels, 24 features\n"
       ]
      }
     ],
     "prompt_number": 258
    },
    {
     "cell_type": "heading",
     "level": 2,
     "metadata": {},
     "source": [
      "Evaluate classifier!"
     ]
    },
    {
     "cell_type": "code",
     "collapsed": false,
     "input": [
      "from sklearn.metrics import make_scorer\n",
      "from sklearn.metrics import matthews_corrcoef\n",
      "mcc = make_scorer(matthews_corrcoef)\n",
      "from sklearn.ensemble import ExtraTreesClassifier\n",
      "\n",
      "et_clf_5jobs = ExtraTreesClassifier(n_estimators=50,\n",
      "                                    class_weight=\"auto\",\n",
      "                                    random_state=42, n_jobs=5)"
     ],
     "language": "python",
     "metadata": {},
     "outputs": [],
     "prompt_number": 259
    },
    {
     "cell_type": "code",
     "collapsed": false,
     "input": [
      "def my_train_test_split(test_idx):\n",
      "    if test_idx > 4:\n",
      "        return \"Oh, come on!\"\n",
      "    X_train = np.zeros((1,24))\n",
      "    y_train = np.zeros((1,1))\n",
      "    for idx in range(5):\n",
      "        if idx == test_idx:\n",
      "            X_test = fold_features[idx]\n",
      "            y_test = fold_labels[idx]\n",
      "        else:\n",
      "            X_train = np.vstack((X_train, fold_features[idx]))\n",
      "            y_train = np.vstack((y_train, fold_labels[idx]))\n",
      "    \n",
      "    return X_train[1:,:], X_test, np.ravel(y_train[1:,:]), np.ravel(y_test)"
     ],
     "language": "python",
     "metadata": {},
     "outputs": [],
     "prompt_number": 260
    },
    {
     "cell_type": "code",
     "collapsed": false,
     "input": [
      "mcc_scores_mtt = np.array([np.NaN])\n",
      "for idx in range(5):\n",
      "    X_train, X_test, y_train, y_test = my_train_test_split(idx)\n",
      "    et_clf_5jobs.fit(X_train, y_train)\n",
      "    mcc_scores_mtt = np.append(mcc_scores_mtt, mcc(et_clf_5jobs, X_test, y_test))\n",
      "mcc_scores_mtt = mcc_scores_mtt[1:]"
     ],
     "language": "python",
     "metadata": {},
     "outputs": [],
     "prompt_number": 298
    },
    {
     "cell_type": "code",
     "collapsed": false,
     "input": [
      "X = np.zeros((1, 24))\n",
      "y = np.zeros((1,))\n",
      "for idx in range(5):\n",
      "    X = np.vstack((X, fold_features[idx]))\n",
      "    y = np.vstack((y, fold_labels[idx]))\n",
      "X = X[1:,:]\n",
      "y = np.ravel(y[1:,:])"
     ],
     "language": "python",
     "metadata": {},
     "outputs": [],
     "prompt_number": 269
    },
    {
     "cell_type": "code",
     "collapsed": false,
     "input": [
      "from sklearn.cross_validation import train_test_split\n",
      "X_train, X_test, y_train, y_test = train_test_split(X, y)\n",
      "mcc_scores_tt = np.array([np.NaN]) \n",
      "et_clf_5jobs.fit(X_train, np.ravel(y_train))\n",
      "mcc_scores_tt = mcc(et_clf_5jobs, X_test, y_test)\n",
      "mcc_scores_tt = mcc_scores_tt[1:]"
     ],
     "language": "python",
     "metadata": {},
     "outputs": [],
     "prompt_number": 270
    },
    {
     "cell_type": "code",
     "collapsed": false,
     "input": [
      "from sklearn.cross_validation import KFold\n",
      "from sklearn.cross_validation import cross_val_score\n",
      "cv_kfold_s = KFold(X.shape[0], n_folds=5, shuffle=True, random_state=42)\n",
      "mcc_scores_kfold_s = cross_val_score(et_clf_5jobs, X, y, scoring=mcc, cv=cv_kfold_s)"
     ],
     "language": "python",
     "metadata": {},
     "outputs": [],
     "prompt_number": 271
    },
    {
     "cell_type": "code",
     "collapsed": false,
     "input": [
      "cv_kfold_ns = KFold(X.shape[0], n_folds=5, shuffle=False, random_state=42)\n",
      "mcc_scores_kfold_ns = cross_val_score(et_clf_5jobs, X, y, scoring=mcc, cv=cv_kfold_ns)"
     ],
     "language": "python",
     "metadata": {},
     "outputs": [],
     "prompt_number": 272
    },
    {
     "cell_type": "code",
     "collapsed": false,
     "input": [
      "from sklearn.cross_validation import StratifiedKFold\n",
      "cv_skfold_s = StratifiedKFold(y, n_folds=5, shuffle=True, random_state=42)\n",
      "mcc_scores_skfold_s = cross_val_score(et_clf_5jobs, X, y, scoring=mcc, cv=cv_skfold_s)"
     ],
     "language": "python",
     "metadata": {},
     "outputs": [],
     "prompt_number": 273
    },
    {
     "cell_type": "code",
     "collapsed": false,
     "input": [
      "cv_skfold_ns = StratifiedKFold(y, n_folds=5, shuffle=False, random_state=42)\n",
      "mcc_scores_skfold_ns = cross_val_score(et_clf_5jobs, X, y, scoring=mcc, cv=cv_skfold_ns)"
     ],
     "language": "python",
     "metadata": {},
     "outputs": [],
     "prompt_number": 274
    },
    {
     "cell_type": "code",
     "collapsed": false,
     "input": [
      "data = {\"mcc_score\": np.concatenate((mcc_scores_mtt,\n",
      "                                     mcc_scores_tt,\n",
      "                                     mcc_scores_kfold_ns,\n",
      "                                     mcc_scores_kfold_s,\n",
      "                                     mcc_scores_skfold_ns,\n",
      "                                     mcc_scores_skfold_s)),\n",
      "        \"cv_type\": ([\"my_5-fold\"] * 5 +\n",
      "                    [\"train_test_split\"] +\n",
      "                    [\"5-fold\"] * 10 +\n",
      "                    [\"stratified 5-fold\"] * 10),\n",
      "        \"shuffle\": ([\"no\"] * 5 + [\"yes\"] +\n",
      "                    ([\"no\"] * 5 + [\"yes\"] * 5) * 2)\n",
      "        }\n",
      "data = pd.DataFrame(data)\n",
      "sns.factorplot(\"cv_type\", \"mcc_score\", \"shuffle\", data=data, kind=\"bar\", palette=\"deep\")        "
     ],
     "language": "python",
     "metadata": {},
     "outputs": [
      {
       "metadata": {},
       "output_type": "pyout",
       "prompt_number": 304,
       "text": [
        "<seaborn.axisgrid.FacetGrid at 0x7f22b8fa21d0>"
       ]
      },
      {
       "metadata": {},
       "output_type": "display_data",
       "png": "[encoded data removed]",
       "text": [
        "<matplotlib.figure.Figure at 0x7f22b8fa2210>"
       ]
      }
     ],
     "prompt_number": 304
    },
    {
     "cell_type": "markdown",
     "metadata": {},
     "source": [
      "Thoroughly depressing."
     ]
    }
   ],
   "metadata": {}
  }
 ]
}