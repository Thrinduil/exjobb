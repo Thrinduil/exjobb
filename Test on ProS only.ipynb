{
 "metadata": {
  "name": ""
 },
 "nbformat": 3,
 "nbformat_minor": 0,
 "worksheets": [
  {
   "cells": [
    {
     "cell_type": "code",
     "collapsed": false,
     "input": [
      "import numpy as np\n",
      "import matplotlib.pyplot as plt\n",
      "import seaborn as sns\n",
      "import pandas as pd\n",
      "%matplotlib inline\n",
      "sns.set(context='paper', style='darkgrid', palette='deep', font='sans-serif', font_scale=1.5, rc=None)"
     ],
     "language": "python",
     "metadata": {},
     "outputs": [],
     "prompt_number": 1
    },
    {
     "cell_type": "code",
     "collapsed": false,
     "input": [
      "import pickle\n",
      "def load_obj(name):\n",
      "    with open(\"../data/\" + name + \".pkl\", \"rb\") as f:\n",
      "        return pickle.load(f)\n",
      "fold_names = load_obj(\"fold_names\")\n",
      "y_clstr = np.load(\"../data/y_clstr.npy\")\n",
      "X_clstr = np.load(\"../data/X_clstr.npy\")"
     ],
     "language": "python",
     "metadata": {},
     "outputs": [],
     "prompt_number": 8
    },
    {
     "cell_type": "code",
     "collapsed": false,
     "input": [
      "splits_ProS_only = []\n",
      "name_counter = 0\n",
      "for fold in range(len(fold_names)):\n",
      "    for name in fold_names[fold]:\n",
      "        fasta_file = \"../disopred/output/\"+ name + \".fa\"\n",
      "        name_counter += 1\n",
      "        with open(fasta_file, \"r\") as f:\n",
      "            seq = \"\"\n",
      "            lines = f.readlines()\n",
      "            for line in lines[1:]:\n",
      "                seq += line.strip()\n",
      "            if name[0] == \"M\":\n",
      "                splits_ProS_only.extend([-1] * len(seq))\n",
      "            elif name[0] == \"I\":\n",
      "                splits_ProS_only.extend([fold] * len(seq))\n",
      "splits_ProS_only = np.array(splits_ProS_only)\n",
      "np.save(\"../data/splits_ProS_only\", splits_ProS_only)"
     ],
     "language": "python",
     "metadata": {},
     "outputs": [],
     "prompt_number": 4
    },
    {
     "cell_type": "code",
     "collapsed": false,
     "input": [
      "%%time\n",
      "from sklearn.ensemble import RandomForestClassifier\n",
      "from sklearn.cross_validation import PredefinedSplit\n",
      "from sklearn.metrics import matthews_corrcoef\n",
      "from sklearn.metrics import precision_score\n",
      "from sklearn.metrics import recall_score\n",
      "from sklearn.metrics import f1_score\n",
      "splits_ProS_only = np.load(\"../data/splits_ProS_only.npy\")\n",
      "rf_ProS_scores = {'mcc': [], 'precision': [], 'recall': [], 'f1': []}\n",
      "rf_clf_ProS_only = RandomForestClassifier(n_estimators=50, n_jobs=8, random_state=42, class_weight=\"auto\", max_depth=13)\n",
      "cv_ProS_only = PredefinedSplit(test_fold=splits_ProS_only)\n",
      "for train, test in cv_ProS_only:\n",
      "    rf_clf_ProS_only.fit(X_clstr[train], y_clstr[train])\n",
      "    y_pred = rf_clf_ProS_only.predict(X_clstr[test])\n",
      "    rf_ProS_scores['mcc'].append(matthews_corrcoef(y_clstr[test], y_pred))\n",
      "    rf_ProS_scores['f1'].append(f1_score(y_clstr[test], y_pred))\n",
      "    rf_ProS_scores['precision'].append(precision_score(y_clstr[test], y_pred))\n",
      "    rf_ProS_scores['recall'].append(recall_score(y_clstr[test], y_pred))"
     ],
     "language": "python",
     "metadata": {},
     "outputs": [
      {
       "output_type": "stream",
       "stream": "stdout",
       "text": [
        "CPU times: user 1h 11min 30s, sys: 13 s, total: 1h 11min 43s\n",
        "Wall time: 10min 8s\n"
       ]
      }
     ],
     "prompt_number": 10
    },
    {
     "cell_type": "code",
     "collapsed": false,
     "input": [
      "def pros_labels(name):\n",
      "    y = []\n",
      "    data_filepath = \"../data/\"\n",
      "    data_filename = data_filepath + \"allRecords.myformat\"\n",
      "    with open(data_filename, \"r\") as data_file:\n",
      "        lines = data_file.readlines()\n",
      "    \n",
      "    found = False\n",
      "\n",
      "    for line_idx, line in enumerate(lines):\n",
      "        inline_idx = line.find(name)\n",
      "        if inline_idx != -1:\n",
      "            found = True\n",
      "            break\n",
      "\n",
      "    if found:\n",
      "            y_vals = list(lines[line_idx + 3].strip())\n",
      "            y_vals = [int(y_val) for y_val in y_vals[8:]]\n",
      "    else:\n",
      "        return \"I'm so sorry!\"\n",
      "\n",
      "    y.extend(y_vals)\n",
      "    \n",
      "    return y"
     ],
     "language": "python",
     "metadata": {},
     "outputs": [],
     "prompt_number": 23
    },
    {
     "cell_type": "code",
     "collapsed": false,
     "input": [
      "def disopreds_labels(name):\n",
      "    y = []\n",
      "    filename = \"../disopred/output/\" + name + \".pbdat\"\n",
      "    with open(filename, \"r\") as f:\n",
      "        lines = f.readlines()\n",
      "    for line in lines[5:]:\n",
      "        if line.split()[2] == \"^\":\n",
      "            y.append(1)\n",
      "        else:\n",
      "            y.append(0)\n",
      "    return y"
     ],
     "language": "python",
     "metadata": {},
     "outputs": [],
     "prompt_number": 24
    },
    {
     "cell_type": "code",
     "collapsed": false,
     "input": [
      "y_true = []\n",
      "y_diso = []\n",
      "for fold in range(len(fold_names)):\n",
      "    for name in fold_names[fold]:\n",
      "        if name[0] == \"M\":\n",
      "            continue\n",
      "        # Read true labels\n",
      "        y_true.extend(pros_labels(name))\n",
      "        # Read Disopreds predicted labels\n",
      "        y_diso.extend(disopreds_labels(name))\n",
      "print len(y_true)\n",
      "print len(y_diso)"
     ],
     "language": "python",
     "metadata": {},
     "outputs": [
      {
       "output_type": "stream",
       "stream": "stdout",
       "text": [
        "361794\n",
        "361794\n"
       ]
      }
     ],
     "prompt_number": 25
    },
    {
     "cell_type": "code",
     "collapsed": false,
     "input": [
      "diso_ProS_scores = {'mcc': 0, 'precision': 0, 'recall': 0, 'f1': 0}\n",
      "diso_ProS_scores['mcc'] = matthews_corrcoef(y_true, y_diso)\n",
      "diso_ProS_scores['f1'] = f1_score(y_true, y_diso)\n",
      "diso_ProS_scores['precision'] = precision_score(y_true, y_diso)\n",
      "diso_ProS_scores['recall'] = recall_score(y_true, y_diso)"
     ],
     "language": "python",
     "metadata": {},
     "outputs": [],
     "prompt_number": 26
    },
    {
     "cell_type": "code",
     "collapsed": false,
     "input": [
      "data_ProS_only = {\"Score\": [np.array(rf_ProS_scores['recall']).mean(), np.array(rf_ProS_scores['precision']).mean(),\n",
      "                            np.array(rf_ProS_scores['f1']).mean(), np.array(rf_ProS_scores['mcc']).mean(),\n",
      "                  diso_ProS_scores['recall'], diso_ProS_scores['precision'],\n",
      "                  diso_ProS_scores['f1'], diso_ProS_scores['mcc']],\n",
      "                  \"Score type\": [\"Recall\", \"Precision\", \"F1\", \"MCC\"] * 2,\n",
      "                  \"Method\": ([\"Proteus\"] * 4 + [\"DISOPRED3\"] * 4)}\n",
      "data_ProS_only = pd.DataFrame(data_ProS_only)"
     ],
     "language": "python",
     "metadata": {},
     "outputs": [],
     "prompt_number": 30
    },
    {
     "cell_type": "code",
     "collapsed": false,
     "input": [
      "sns.factorplot(\"Method\", \"Score\", \"Score type\", data=data_ProS_only, kind=\"bar\", aspect=7./3.5, legend_out=False,\n",
      "               x_order=[\"Proteus\", \"DISOPRED3\"],\n",
      "               hue_order=[\"Precision\", \"Recall\", \"F1\", \"MCC\"], size=3.5)\n",
      "plt.savefig('method_comparison_ProS_only.pdf', bbox_inches='tight')"
     ],
     "language": "python",
     "metadata": {},
     "outputs": [
      {
       "metadata": {},
       "output_type": "display_data",
       "png": "[encoded data removed]",
       "text": [
        "<matplotlib.figure.Figure at 0x7f175c17ca50>"
       ]
      }
     ],
     "prompt_number": 32
    },
    {
     "cell_type": "code",
     "collapsed": false,
     "input": [],
     "language": "python",
     "metadata": {},
     "outputs": []
    }
   ],
   "metadata": {}
  }
 ]
}