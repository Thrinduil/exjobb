{
 "metadata": {
  "name": ""
 },
 "nbformat": 3,
 "nbformat_minor": 0,
 "worksheets": [
  {
   "cells": [
    {
     "cell_type": "code",
     "collapsed": false,
     "input": [
      "import numpy as np\n",
      "import matplotlib.pyplot as plt\n",
      "import seaborn as sns\n",
      "import pandas as pd\n",
      "%matplotlib inline\n",
      "sns.set(context='paper', style='darkgrid', palette='deep', font='sans-serif', font_scale=1.2, rc=None)"
     ],
     "language": "python",
     "metadata": {},
     "outputs": [],
     "prompt_number": 36
    },
    {
     "cell_type": "code",
     "collapsed": false,
     "input": [
      "length_param = 0.7\n",
      "score_param = 10\n",
      "blast_file_out = \"../data/blastclustref_\" + str(length_param) + \"_\" + str(score_param) + \".blast\""
     ],
     "language": "python",
     "metadata": {},
     "outputs": [],
     "prompt_number": 72
    },
    {
     "cell_type": "code",
     "collapsed": false,
     "input": [
      "%%time\n",
      "from subprocess import call\n",
      "fasta_file = \"../data/allRecordsAndRef.fasta\"\n",
      "call([\"blastclust\", \"-i\", fasta_file, \"-o\", blast_file_out,\n",
      "      \"-p\", \"T\", \"-L\", str(length_param), \"-b\", \"T\", \"-S\", str(score_param)])"
     ],
     "language": "python",
     "metadata": {},
     "outputs": [
      {
       "output_type": "stream",
       "stream": "stdout",
       "text": [
        "CPU times: user 399 \u00b5s, sys: 6.11 ms, total: 6.51 ms\n",
        "Wall time: 50.9 s\n"
       ]
      }
     ],
     "prompt_number": 73
    },
    {
     "cell_type": "code",
     "collapsed": false,
     "input": [
      "total_ProS = 0\n",
      "total_MoRF = 0\n",
      "total_val = 0\n",
      "with open(blast_file_out) as cluster_file:\n",
      "    lines = cluster_file.readlines()\n",
      "for line in lines:\n",
      "    for word in line.strip().split():\n",
      "        if word[0] == 'I':\n",
      "            total_ProS += 1\n",
      "        elif word[0] == 'M':\n",
      "            total_MoRF += 1\n",
      "        else:\n",
      "            total_val += 1\n",
      "print \"%i ProS proteins\" % total_ProS\n",
      "print \"%i MoRF proteins\" % total_MoRF\n",
      "print \"%i validation proteins\" % total_val"
     ],
     "language": "python",
     "metadata": {},
     "outputs": [
      {
       "output_type": "stream",
       "stream": "stdout",
       "text": [
        "557 ProS proteins\n",
        "763 MoRF proteins\n",
        "9 validation proteins\n"
       ]
      }
     ],
     "prompt_number": 74
    },
    {
     "cell_type": "code",
     "collapsed": false,
     "input": [
      "for line in lines:\n",
      "    for word in line.strip().split():\n",
      "        if word in set(ref_names):\n",
      "            print \"%s cluster with %i other proteins\" % (word, len(line.strip().split()) - 1)\n",
      "            print line.strip()"
     ],
     "language": "python",
     "metadata": {},
     "outputs": [
      {
       "output_type": "stream",
       "stream": "stdout",
       "text": [
        "P46937 cluster with 1 other proteins\n",
        "IID00304 P46937\n",
        "Q99LM3 cluster with 0 other proteins\n",
        "Q99LM3\n",
        "P45976 cluster with 0 other proteins\n",
        "P45976\n",
        "P46108 cluster with 0 other proteins\n",
        "P46108\n",
        "O43236-6 cluster with 0 other proteins\n",
        "O43236-6\n",
        "Q9Y3M2 cluster with 0 other proteins\n",
        "Q9Y3M2\n",
        "Q06253 cluster with 0 other proteins\n",
        "Q06253\n",
        "Q98XH7 cluster with 0 other proteins\n",
        "Q98XH7\n",
        "P60896 cluster with 0 other proteins\n",
        "P60896\n"
       ]
      }
     ],
     "prompt_number": 75
    },
    {
     "cell_type": "code",
     "collapsed": false,
     "input": [
      "num_ProS_share = 0\n",
      "num_MoRF_share = 0\n",
      "for line in lines:\n",
      "    num_ProS = 0\n",
      "    num_MoRF = 0\n",
      "    for word in line.strip().split():\n",
      "        if word[0] == 'I':\n",
      "            num_ProS += 1\n",
      "        elif word[0] == 'M':\n",
      "            num_MoRF += 1\n",
      "    if num_ProS > 0 and num_MoRF > 0:\n",
      "        num_ProS_share += num_ProS\n",
      "        num_MoRF_share += num_MoRF\n",
      "print \"%.1f%% of all ProS proteins share a cluster with at least 1 MoRF protein\" % (100 * float(num_ProS_share) / total_ProS)\n",
      "print \"%.1f%% of all MoRF proteins share a cluster with at least 1 ProS protein\" % (100 * float(num_MoRF_share) / total_MoRF)"
     ],
     "language": "python",
     "metadata": {},
     "outputs": [
      {
       "output_type": "stream",
       "stream": "stdout",
       "text": [
        "25.5% of all ProS proteins share a cluster with at least 1 MoRF protein\n",
        "25.2% of all MoRF proteins share a cluster with at least 1 ProS protein\n"
       ]
      }
     ],
     "prompt_number": 76
    },
    {
     "cell_type": "code",
     "collapsed": false,
     "input": [],
     "language": "python",
     "metadata": {},
     "outputs": []
    }
   ],
   "metadata": {}
  }
 ]
}