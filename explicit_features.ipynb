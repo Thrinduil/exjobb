{
 "metadata": {
  "name": ""
 },
 "nbformat": 3,
 "nbformat_minor": 0,
 "worksheets": [
  {
   "cells": [
    {
     "cell_type": "code",
     "collapsed": false,
     "input": [
      "import numpy as np\n",
      "import matplotlib.pyplot as plt\n",
      "import seaborn as sns\n",
      "import pandas as pd\n",
      "%matplotlib inline"
     ],
     "language": "python",
     "metadata": {},
     "outputs": [],
     "prompt_number": 31
    },
    {
     "cell_type": "heading",
     "level": 1,
     "metadata": {},
     "source": [
      "Explicit Amino Acid Features"
     ]
    },
    {
     "cell_type": "markdown",
     "metadata": {},
     "source": [
      "One bid to get better results is to make implicit features more explicit.\n",
      "\n",
      "We already have the amino acid composition as features, but maybe we could gain performance by adding some data about the amino acids."
     ]
    },
    {
     "cell_type": "heading",
     "level": 2,
     "metadata": {},
     "source": [
      "The New Features"
     ]
    },
    {
     "cell_type": "heading",
     "level": 3,
     "metadata": {},
     "source": [
      "Amino Acid Properties"
     ]
    },
    {
     "cell_type": "markdown",
     "metadata": {},
     "source": [
      "Below is some data I stole from Wikipedia. First we have polarity (polar, nonpolar, acidic polar and basic polar), then we have the charge (neutral, positive, negative), then the hydrophobicity and at last the molecular weight.\n",
      "\n",
      "These will become 9 new features, and the will be calculated by summing over the current window. For instance, if we have 3 positivly charged amino acids in the current window, the positive feature will be = 3."
     ]
    },
    {
     "cell_type": "code",
     "collapsed": false,
     "input": [
      "aa_data = {\"A\": {\"polar\": 0,\n",
      "                 \"nonpolar\": 1,\n",
      "                 \"a_polar\": 0,\n",
      "                 \"b_polar\": 0,\n",
      "                 \"neutral\": 1,\n",
      "                 \"positive\": 0,\n",
      "                 \"negative\": 0,\n",
      "                 \"hydropathy\": 1.8,\n",
      "                 \"weight\": 89},\n",
      "           \"C\": {\"polar\": 0,\n",
      "                 \"nonpolar\": 1,\n",
      "                 \"a_polar\": 0,\n",
      "                 \"b_polar\": 0,\n",
      "                 \"neutral\": 1,\n",
      "                 \"positive\": 0,\n",
      "                 \"negative\": 0,\n",
      "                 \"hydropathy\": 2.5,\n",
      "                 \"weight\": 121},\n",
      "           \"D\": {\"polar\": 0,\n",
      "                 \"nonpolar\": 0,\n",
      "                 \"a_polar\": 1,\n",
      "                 \"b_polar\": 0,\n",
      "                 \"neutral\": 0,\n",
      "                 \"positive\": 0,\n",
      "                 \"negative\": 1,\n",
      "                 \"hydropathy\": -3.5,\n",
      "                 \"weight\": 133},\n",
      "           \"E\": {\"polar\": 0,\n",
      "                 \"nonpolar\": 0,\n",
      "                 \"a_polar\": 1,\n",
      "                 \"b_polar\": 0,\n",
      "                 \"neutral\": 0,\n",
      "                 \"positive\": 0,\n",
      "                 \"negative\": 1,\n",
      "                 \"hydropathy\": -3.5,\n",
      "                 \"weight\": 147},\n",
      "           \"F\": {\"polar\": 0,\n",
      "                 \"nonpolar\": 1,\n",
      "                 \"a_polar\": 0,\n",
      "                 \"b_polar\": 0,\n",
      "                 \"neutral\": 1,\n",
      "                 \"positive\": 0,\n",
      "                 \"negative\": 0,\n",
      "                 \"hydropathy\": 2.8,\n",
      "                 \"weight\": 165},\n",
      "           \"G\": {\"polar\": 0,\n",
      "                 \"nonpolar\": 1,\n",
      "                 \"a_polar\": 0,\n",
      "                 \"b_polar\": 0,\n",
      "                 \"neutral\": 1,\n",
      "                 \"positive\": 0,\n",
      "                 \"negative\": 0,\n",
      "                 \"hydropathy\": -0.4,\n",
      "                 \"weight\": 75},\n",
      "           \"H\": {\"polar\": 0,\n",
      "                 \"nonpolar\": 0,\n",
      "                 \"a_polar\": 0,\n",
      "                 \"b_polar\": 1,\n",
      "                 \"neutral\": 0.9,\n",
      "                 \"positive\": 0.1,\n",
      "                 \"negative\": 0,\n",
      "                 \"hydropathy\": -3.2,\n",
      "                 \"weight\": 155},\n",
      "           \"I\": {\"polar\": 0,\n",
      "                 \"nonpolar\": 1,\n",
      "                 \"a_polar\": 0,\n",
      "                 \"b_polar\": 0,\n",
      "                 \"neutral\": 1,\n",
      "                 \"positive\": 0,\n",
      "                 \"negative\": 0,\n",
      "                 \"hydropathy\": 4.5,\n",
      "                 \"weight\": 131},\n",
      "           \"K\": {\"polar\": 0,\n",
      "                 \"nonpolar\": 0,\n",
      "                 \"a_polar\": 0,\n",
      "                 \"b_polar\": 1,\n",
      "                 \"neutral\": 0,\n",
      "                 \"positive\": 1,\n",
      "                 \"negative\": 0,\n",
      "                 \"hydropathy\": -3.9,\n",
      "                 \"weight\": 146},\n",
      "           \"L\": {\"polar\": 0,\n",
      "                 \"nonpolar\": 1,\n",
      "                 \"a_polar\": 0,\n",
      "                 \"b_polar\": 0,\n",
      "                 \"neutral\": 1,\n",
      "                 \"positive\": 0,\n",
      "                 \"negative\": 0,\n",
      "                 \"hydropathy\": 3.8,\n",
      "                 \"weight\": 131},\n",
      "           \"M\": {\"polar\": 0,\n",
      "                 \"nonpolar\": 1,\n",
      "                 \"a_polar\": 0,\n",
      "                 \"b_polar\": 0,\n",
      "                 \"neutral\": 1,\n",
      "                 \"positive\": 0,\n",
      "                 \"negative\": 0,\n",
      "                 \"hydropathy\": 1.9,\n",
      "                 \"weight\": 149},\n",
      "           \"N\": {\"polar\": 1,\n",
      "                 \"nonpolar\": 0,\n",
      "                 \"a_polar\": 0,\n",
      "                 \"b_polar\": 0,\n",
      "                 \"neutral\": 1,\n",
      "                 \"positive\": 0,\n",
      "                 \"negative\": 0,\n",
      "                 \"hydropathy\": -3.5,\n",
      "                 \"weight\": 132},\n",
      "           \"P\": {\"polar\": 0,\n",
      "                 \"nonpolar\": 1,\n",
      "                 \"a_polar\": 0,\n",
      "                 \"b_polar\": 0,\n",
      "                 \"neutral\": 1,\n",
      "                 \"positive\": 0,\n",
      "                 \"negative\": 0,\n",
      "                 \"hydropathy\": -1.6,\n",
      "                 \"weight\": 115},\n",
      "           \"Q\": {\"polar\": 1,\n",
      "                 \"nonpolar\": 0,\n",
      "                 \"a_polar\": 0,\n",
      "                 \"b_polar\": 0,\n",
      "                 \"neutral\": 1,\n",
      "                 \"positive\": 0,\n",
      "                 \"negative\": 0,\n",
      "                 \"hydropathy\": -3.5,\n",
      "                 \"weight\": 146},\n",
      "           \"R\": {\"polar\": 0,\n",
      "                 \"nonpolar\": 0,\n",
      "                 \"a_polar\": 0,\n",
      "                 \"b_polar\": 1,\n",
      "                 \"neutral\": 0,\n",
      "                 \"positive\": 1,\n",
      "                 \"negative\": 0,\n",
      "                 \"hydropathy\": -4.5,\n",
      "                 \"weight\": 174},\n",
      "           \"S\": {\"polar\": 1,\n",
      "                 \"nonpolar\": 0,\n",
      "                 \"a_polar\": 0,\n",
      "                 \"b_polar\": 0,\n",
      "                 \"neutral\": 1,\n",
      "                 \"positive\": 0,\n",
      "                 \"negative\": 0,\n",
      "                 \"hydropathy\": -0.8,\n",
      "                 \"weight\": 105},\n",
      "           \"T\": {\"polar\": 1,\n",
      "                 \"nonpolar\": 0,\n",
      "                 \"a_polar\": 0,\n",
      "                 \"b_polar\": 0,\n",
      "                 \"neutral\": 1,\n",
      "                 \"positive\": 0,\n",
      "                 \"negative\": 0,\n",
      "                 \"hydropathy\": -0.7,\n",
      "                 \"weight\": 119},\n",
      "           \"V\": {\"polar\": 0,\n",
      "                 \"nonpolar\": 1,\n",
      "                 \"a_polar\": 0,\n",
      "                 \"b_polar\": 0,\n",
      "                 \"neutral\": 1,\n",
      "                 \"positive\": 0,\n",
      "                 \"negative\": 0,\n",
      "                 \"hydropathy\": 4.2,\n",
      "                 \"weight\": 117},\n",
      "           \"W\": {\"polar\": 0,\n",
      "                 \"nonpolar\": 1,\n",
      "                 \"a_polar\": 0,\n",
      "                 \"b_polar\": 0,\n",
      "                 \"neutral\": 1,\n",
      "                 \"positive\": 0,\n",
      "                 \"negative\": 0,\n",
      "                 \"hydropathy\": -0.9,\n",
      "                 \"weight\": 204},\n",
      "           \"Y\": {\"polar\": 1,\n",
      "                 \"nonpolar\": 0,\n",
      "                 \"a_polar\": 0,\n",
      "                 \"b_polar\": 0,\n",
      "                 \"neutral\": 1,\n",
      "                 \"positive\": 0,\n",
      "                 \"negative\": 0,\n",
      "                 \"hydropathy\": -1.3,\n",
      "                 \"weight\": 181}\n",
      "           }"
     ],
     "language": "python",
     "metadata": {},
     "outputs": [],
     "prompt_number": 32
    },
    {
     "cell_type": "code",
     "collapsed": false,
     "input": [
      "def get_aa_features_extra(name):\n",
      "    \n",
      "    filename = \"/home/freso388/nsc/disopred/output/\" + name + \".mtx\"\n",
      "    aaList = ['A', 'C', 'D', 'E', 'F', 'G', 'H', 'I', 'K', 'L',\n",
      "              'M', 'N', 'P', 'Q', 'R', 'S', 'T', 'V', 'W', 'Y']\n",
      "    \n",
      "    with open(filename) as f:\n",
      "        lines = f.readlines()\n",
      "    seq = lines[1].strip()\n",
      "    \n",
      "    aa_features = []\n",
      "    for residue in range(len(seq)):\n",
      "        window_residues = range(-7,8)\n",
      "        current_window = []\n",
      "        row_shares = []\n",
      "        polar = 0\n",
      "        nonpolar = 0\n",
      "        a_polar = 0\n",
      "        b_polar = 0\n",
      "        neutral = 0\n",
      "        positive = 0\n",
      "        negative = 0\n",
      "        hydropathy = 0\n",
      "        weight = 0\n",
      "        for window_residue in window_residues:\n",
      "            idx = residue + window_residue\n",
      "            if not 0 <= idx <= len(seq) - 1:\n",
      "                pass\n",
      "            else:\n",
      "                current_window.extend(seq[idx])\n",
      "    \n",
      "        for aa in aaList:\n",
      "            count = current_window.count(aa)\n",
      "            row_shares.append(round(float(count)/float(len(current_window)), 5))\n",
      "            polar += aa_data[aa][\"polar\"] * count\n",
      "            nonpolar += aa_data[aa][\"nonpolar\"] * count\n",
      "            a_polar += aa_data[aa][\"a_polar\"] * count\n",
      "            b_polar += aa_data[aa][\"b_polar\"] * count\n",
      "            neutral += aa_data[aa][\"neutral\"] * count\n",
      "            positive += aa_data[aa][\"positive\"] * count\n",
      "            negative += aa_data[aa][\"negative\"] * count\n",
      "            hydropathy += aa_data[aa][\"hydropathy\"] * count\n",
      "            weight += aa_data[aa][\"weight\"] * count\n",
      "            \n",
      "            residue_features = row_shares + [polar, nonpolar, a_polar, b_polar,\n",
      "                                             neutral, positive, negative,\n",
      "                                             hydropathy, weight]\n",
      "        \n",
      "        aa_features.append(residue_features)\n",
      "    \n",
      "    aa_features = np.array(aa_features)\n",
      "    \n",
      "    return aa_features"
     ],
     "language": "python",
     "metadata": {},
     "outputs": [],
     "prompt_number": 33
    },
    {
     "cell_type": "heading",
     "level": 3,
     "metadata": {},
     "source": [
      "Order Features"
     ]
    },
    {
     "cell_type": "markdown",
     "metadata": {},
     "source": [
      "So far I've only been interested in disordered regions, but it turns out that many of the protean segments actually resides in ordered regions. So I should get some informations about those regions as well."
     ]
    },
    {
     "cell_type": "code",
     "collapsed": false,
     "input": [
      "def get_order_features(name):\n",
      "        \n",
      "    filename = \"/home/freso388/nsc/disopred/output/\" + name + \".diso\"\n",
      "    disorder_cutoff = 0.5\n",
      "    \n",
      "    with open(filename) as f:\n",
      "        lines = f.readlines()[3:]\n",
      "    scores = []\n",
      "    for line in lines:\n",
      "        words = line.split()\n",
      "        scores.append(float(words[3].strip()))\n",
      "    \n",
      "    order_features = []\n",
      "    for residue in range(len(scores)):\n",
      "        \n",
      "        if scores[residue] < disorder_cutoff:\n",
      "            \n",
      "            start_idx = residue\n",
      "            found_start = False\n",
      "            at_end = False\n",
      "            while not found_start and not at_end:\n",
      "                if scores[start_idx] < disorder_cutoff:\n",
      "                    if start_idx == 0:\n",
      "                        at_end = True\n",
      "                    else:\n",
      "                        start_idx -= 1    # Move to next residue and try again\n",
      "                else:\n",
      "                    found_start = True\n",
      "                    start_idx += 1    # The region actually stopped last round\n",
      "            start = round(float(start_idx) / len(scores), 5)\n",
      "    \n",
      "            stop_idx = residue\n",
      "            found_stop = False\n",
      "            at_end = False\n",
      "            while not found_stop and not at_end:\n",
      "                if scores[stop_idx] < disorder_cutoff:\n",
      "                    if stop_idx == len(scores) - 1:\n",
      "                        at_end = True\n",
      "                    else:\n",
      "                        stop_idx += 1    # Move to next residue and try again\n",
      "                else:\n",
      "                    found_stop = True\n",
      "                    stop_idx -= 1    # The region actually stopped last round\n",
      "            stop = round(float(stop_idx + 1) / len(scores), 5)\n",
      "    \n",
      "            length = stop_idx - start_idx + 1\n",
      "            \n",
      "        else:\n",
      "            length = 0\n",
      "            start = 0\n",
      "            stop = 0\n",
      "            \n",
      "        score = scores[residue]\n",
      "            \n",
      "        row_features = [length, start, stop]\n",
      "    \n",
      "        order_features.append(row_features)\n",
      "    \n",
      "    order_features = np.array(order_features)\n",
      "    \n",
      "    return order_features"
     ],
     "language": "python",
     "metadata": {},
     "outputs": [],
     "prompt_number": 34
    },
    {
     "cell_type": "heading",
     "level": 3,
     "metadata": {},
     "source": [
      "Topography Features"
     ]
    },
    {
     "cell_type": "markdown",
     "metadata": {},
     "source": [
      "After visual inspection, it seems that many of the protean regions resides on either peaks or in valleys in the disorder prediction graph. It would be nice to capture that information somehow."
     ]
    },
    {
     "cell_type": "code",
     "collapsed": false,
     "input": [
      "def get_topography_features(name):\n",
      "    filename = \"/home/freso388/nsc/disopred/output/\" + name + \".diso\"\n",
      "    disorder_cutoff = 0.5\n",
      "    \n",
      "    with open(filename) as f:\n",
      "        lines = f.readlines()[3:]\n",
      "    scores = []\n",
      "    for line in lines:\n",
      "        words = line.split()\n",
      "        scores.append(float(words[3].strip()))\n",
      "    \n",
      "    top_features = []\n",
      "    for residue in range(len(scores)):\n",
      "        start_idx = residue\n",
      "        start_score = scores[start_idx]\n",
      "        found_extreme_left = False\n",
      "        at_end = False\n",
      "        \n",
      "        while not found_extreme_left and not at_end:\n",
      "            if not ((scores[start_idx] < start_score - 0.1) or (scores[start_idx] > start_score + 0.1)):\n",
      "                if start_idx == 0:\n",
      "                    at_end = True\n",
      "                else:\n",
      "                    start_idx -= 1    # Move to next residue and try again\n",
      "            else:\n",
      "                found_extreme_left = True\n",
      "        extreme_score_left = scores[start_idx]\n",
      "    \n",
      "        stop_idx = residue\n",
      "        found_extreme_right = False\n",
      "        at_end = False\n",
      "        while not found_extreme_right and not at_end:\n",
      "            if not ((scores[stop_idx] < start_score - 0.1) or (scores[stop_idx] > start_score + 0.1)):\n",
      "                if stop_idx == len(scores) - 1:\n",
      "                    at_end = True\n",
      "                else:\n",
      "                    stop_idx += 1    # Move to next residue and try again\n",
      "            else:\n",
      "                found_extreme_right = True\n",
      "        extreme_score_right = scores[stop_idx]\n",
      "        \n",
      "        top_length = stop_idx - start_idx + 1\n",
      "        \n",
      "        if extreme_score_left < start_score - 0.1 and extreme_score_right < start_score - 0.1:\n",
      "            top_feature = 1\n",
      "        elif extreme_score_left > start_score + 0.1 and extreme_score_right > start_score + 0.1:\n",
      "            top_feature = -1\n",
      "        else:\n",
      "            top_feature = 0\n",
      "    \n",
      "        top_features.append([top_feature, top_length])\n",
      "                \n",
      "    top_features = np.array(top_features)\n",
      "    \n",
      "    return top_features"
     ],
     "language": "python",
     "metadata": {},
     "outputs": [],
     "prompt_number": 35
    },
    {
     "cell_type": "heading",
     "level": 3,
     "metadata": {},
     "source": [
      "Conservation Features"
     ]
    },
    {
     "cell_type": "markdown",
     "metadata": {},
     "source": [
      "When doing a PSI-BLAST search, you can get information about how conserved a certain residue is. If it is strongly conserved, odds are that residue is important for the protein's function. Protean segments are presumably important for the protein and should therefore have higher conservation scores than the rest of the proteins."
     ]
    },
    {
     "cell_type": "code",
     "collapsed": false,
     "input": [
      "def get_conservation_features(name):\n",
      "\n",
      "    filename = \"/home/freso388/nsc/disopred/output2/\" + name + \".psi\"\n",
      "    with open(filename) as f:\n",
      "        lines = f.readlines()[3:-6]\n",
      "    con_scores = []\n",
      "    for line in lines:\n",
      "        words = line.split()\n",
      "        con_scores.append([float(words[42].strip())])\n",
      "    \n",
      "    con_scores = np.array(con_scores)\n",
      "\n",
      "    return con_scores"
     ],
     "language": "python",
     "metadata": {},
     "outputs": [],
     "prompt_number": 56
    },
    {
     "cell_type": "heading",
     "level": 2,
     "metadata": {},
     "source": [
      "The Old Features"
     ]
    },
    {
     "cell_type": "markdown",
     "metadata": {},
     "source": [
      "To be able to make a fair comparison between the new and old features, we need the old disorder features as well."
     ]
    },
    {
     "cell_type": "code",
     "collapsed": false,
     "input": [
      "def get_score_features(name):\n",
      "    \n",
      "    filename = \"/home/freso388/nsc/disopred/output/\" + name + \".mtx\"\n",
      "    columns = [1, 3, 4, 5, 6, 7, 8, 9, 10, 11,\n",
      "               12, 13, 14, 15, 16, 17, 18, 19, 21, 22]\n",
      "    \n",
      "    with open(filename) as f:\n",
      "        lines = f.readlines()\n",
      "    \n",
      "    row_list = []\n",
      "    for line in lines[14:]:\n",
      "        col_list = []\n",
      "        words = line.split()\n",
      "        for idx in columns:\n",
      "            col_list.append(int(words[idx].strip()))\n",
      "        row_list.append(col_list)\n",
      "    \n",
      "    scoring_matrix = np.array(row_list)\n",
      "    \n",
      "    window_residues = range(-7, 8)\n",
      "    score_features = []\n",
      "    for residue in range(scoring_matrix.shape[0]):\n",
      "        row_scores = []\n",
      "        for window_residue in window_residues:\n",
      "            row = residue + window_residue\n",
      "            if not 0 <= row <= scoring_matrix.shape[0] - 1:\n",
      "                row_scores.extend([0] * 20)\n",
      "            else:\n",
      "                row_scores.extend(scoring_matrix[row,:])\n",
      "        score_features.append(row_scores)\n",
      "        \n",
      "    score_features = np.array(score_features)\n",
      "    \n",
      "    return score_features"
     ],
     "language": "python",
     "metadata": {},
     "outputs": [],
     "prompt_number": 36
    },
    {
     "cell_type": "code",
     "collapsed": false,
     "input": [
      "def get_disorder_features(name):\n",
      "        \n",
      "    filename = \"/home/freso388/nsc/disopred/output/\" + name + \".diso\"\n",
      "    disorder_cutoff = 0.5\n",
      "    \n",
      "    with open(filename) as f:\n",
      "        lines = f.readlines()[3:]\n",
      "    scores = []\n",
      "    for line in lines:\n",
      "        words = line.split()\n",
      "        scores.append(float(words[3].strip()))\n",
      "    \n",
      "    disorder_features = []\n",
      "    for residue in range(len(scores)):\n",
      "        if scores[residue] < disorder_cutoff:\n",
      "            length = 0\n",
      "            start = 0\n",
      "            stop = 0\n",
      "    \n",
      "        else:    \n",
      "            start_idx = residue\n",
      "            found_start = False\n",
      "            at_end = False\n",
      "            while not found_start and not at_end:\n",
      "                if scores[start_idx] >= disorder_cutoff:\n",
      "                    if start_idx == 0:\n",
      "                        at_end = True\n",
      "                    else:\n",
      "                        start_idx -= 1    # Move to next residue and try again\n",
      "                else:\n",
      "                    found_start = True\n",
      "                    start_idx += 1    # The region actually stopped last round\n",
      "            start = round(float(start_idx) / len(scores), 5)\n",
      "    \n",
      "            stop_idx = residue\n",
      "            found_stop = False\n",
      "            at_end = False\n",
      "            while not found_stop and not at_end:\n",
      "                if scores[stop_idx] >= disorder_cutoff:\n",
      "                    if stop_idx == len(scores) - 1:\n",
      "                        at_end = True\n",
      "                    else:\n",
      "                        stop_idx += 1    # Move to next residue and try again\n",
      "                else:\n",
      "                    found_stop = True\n",
      "                    stop_idx -= 1    # The region actually stopped last round\n",
      "            stop = round(float(stop_idx + 1) / len(scores), 5)\n",
      "    \n",
      "            length = stop_idx - start_idx + 1\n",
      "    \n",
      "        score = scores[residue]\n",
      "            \n",
      "        row_features = [score, length, start, stop]\n",
      "    \n",
      "        disorder_features.append(row_features)\n",
      "    \n",
      "    disorder_features = np.array(disorder_features)\n",
      "    \n",
      "    return disorder_features"
     ],
     "language": "python",
     "metadata": {},
     "outputs": [],
     "prompt_number": 37
    },
    {
     "cell_type": "code",
     "collapsed": false,
     "input": [
      "def get_structure_features(name):\n",
      "\n",
      "    filename = \"/home/freso388/nsc/disopred/output/\" + name + \".ss\"\n",
      "    with open(filename) as f:\n",
      "        lines = f.readlines()\n",
      "    scores = []\n",
      "    for line in lines:\n",
      "        words = line.split()\n",
      "        score_coil = float(words[3])\n",
      "        score_helix = float(words[4])\n",
      "        score_extended = float(words[5])\n",
      "        scores.append([score_coil, score_helix, score_extended])\n",
      "    \n",
      "    structure_features = np.array(scores)\n",
      "    \n",
      "    return structure_features"
     ],
     "language": "python",
     "metadata": {},
     "outputs": [],
     "prompt_number": 38
    },
    {
     "cell_type": "heading",
     "level": 2,
     "metadata": {},
     "source": [
      "Get Names"
     ]
    },
    {
     "cell_type": "code",
     "collapsed": false,
     "input": [
      "with open(\"/home/freso388/nsc/data/names.test\", \"r\") as inFile:\n",
      "    names = eval(inFile.read())\n",
      "names = [name.strip() for name in names]\n",
      "names.sort()\n",
      "for idx, name in enumerate(names):\n",
      "    if name[0] == 'M':\n",
      "        break\n",
      "both_names = names\n",
      "pros_names = names[:idx]\n",
      "morf_names = names[idx:]"
     ],
     "language": "python",
     "metadata": {},
     "outputs": [],
     "prompt_number": 39
    },
    {
     "cell_type": "code",
     "collapsed": false,
     "input": [
      "ref_names = np.load(\"../data/ref_names.npy\")"
     ],
     "language": "python",
     "metadata": {},
     "outputs": [],
     "prompt_number": 40
    },
    {
     "cell_type": "heading",
     "level": 2,
     "metadata": {},
     "source": [
      "Sort Names Into Folds"
     ]
    },
    {
     "cell_type": "code",
     "collapsed": false,
     "input": [
      "fold_names = {0: [], 1: [], 2: [], 3: [], 4: []}\n",
      "\n",
      "with open(\"../data/blastclustref.blast\", \"r\") as clust_file:\n",
      "    lines = clust_file.readlines()\n",
      "\n",
      "for line_idx, line in enumerate(lines):\n",
      "    line_sorted = False\n",
      "    fold_turn = line_idx % 5\n",
      "    words = line.split()\n",
      "    for word in words:\n",
      "        if word in ref_names:\n",
      "            line_sorted = True # Skip clusters with ref proteins\n",
      "    for fold_idx in [(fold_turn + i) % 5 for i in range(5)]:\n",
      "        if len(fold_names[fold_idx]) < 1320 / 5 and not line_sorted:\n",
      "            for word in words:\n",
      "                fold_names[fold_idx].append(word)\n",
      "                line_sorted = True\n",
      "        else:\n",
      "            continue\n",
      "\n",
      "for idx in range(5):\n",
      "    print \"Fold %i: %i proteins\" % (idx, len(fold_names[idx]))\n",
      "    print fold_names[idx][:5]"
     ],
     "language": "python",
     "metadata": {},
     "outputs": [
      {
       "output_type": "stream",
       "stream": "stdout",
       "text": [
        "Fold 0: 264 proteins\n",
        "['MoRFQ9WVL4', 'IID50053', 'IID00277', 'IID50044', 'MoRFQ5RDR1']\n",
        "Fold 1: 264 proteins\n",
        "['MoRFQ74084', 'MoRFA8JZA3', 'MoRFQ5S530', 'MoRFQ7ZNK7', 'MoRFA9RAN7']\n",
        "Fold 2: 264 proteins\n",
        "['IID00272', 'IID00062', 'IID00086', 'IID00088', 'IID00239']\n",
        "Fold 3: 264 proteins\n",
        "['MoRFQ9W705', 'MoRFQ5F393', 'MoRFQ8UVH3', 'MoRFQ98TW1', 'MoRFA8WGE8']\n",
        "Fold 4: 263 proteins\n",
        "['IID00013', 'IID00368', 'IID00091', 'IID00011', 'IID00391']\n"
       ]
      }
     ],
     "prompt_number": 41
    },
    {
     "cell_type": "heading",
     "level": 2,
     "metadata": {},
     "source": [
      "Make Features"
     ]
    },
    {
     "cell_type": "code",
     "collapsed": false,
     "input": [
      "def make_features(names):\n",
      "\n",
      "    all_features = np.zeros((1,342))\n",
      "    \n",
      "    for name in names:\n",
      "        \n",
      "        score_features = get_score_features(name)               # 300\n",
      "        aa_features_extra = get_aa_features_extra(name)         #  20 + 9\n",
      "        disorder_features = get_disorder_features(name)         #   4\n",
      "        order_features = get_order_features(name)               #   3\n",
      "        structure_features = get_structure_features(name)       #   3\n",
      "        topography_features = get_topography_features(name)     #   2\n",
      "        conservation_features = get_conservation_features(name) #   1\n",
      "                                                                # 342 features in total\n",
      "        \n",
      "        # Split the old and new aa features\n",
      "        aa_features_comp = aa_features_extra[:,:20]\n",
      "        aa_features_extra = aa_features_extra[:,20:]\n",
      "        \n",
      "        features = np.hstack((score_features,         # 300 [:300]\n",
      "                              aa_features_comp,       #  20 [300:320]\n",
      "                              disorder_features,      #   4 [320:324]\n",
      "                              order_features,         #   3 [324:327]\n",
      "                              structure_features,     #   3 [327:330]\n",
      "                              aa_features_extra,      #   9 [330:339]\n",
      "                              topography_features,    #   2 [339:341]\n",
      "                              conservation_features)) #   1 [341:342]\n",
      "        \n",
      "        \n",
      "        all_features = np.vstack((all_features, features))\n",
      "        \n",
      "    all_features = all_features[1:,:]\n",
      "    \n",
      "    return all_features"
     ],
     "language": "python",
     "metadata": {},
     "outputs": [],
     "prompt_number": 42
    },
    {
     "cell_type": "code",
     "collapsed": false,
     "input": [
      "fold_features = {}\n",
      "for idx in range(5):\n",
      "    fold_features[idx] = make_features(fold_names[idx])"
     ],
     "language": "python",
     "metadata": {},
     "outputs": [],
     "prompt_number": 43
    },
    {
     "cell_type": "code",
     "collapsed": false,
     "input": [
      "X_ref = make_features(ref_names)"
     ],
     "language": "python",
     "metadata": {},
     "outputs": [],
     "prompt_number": 13
    },
    {
     "cell_type": "heading",
     "level": 3,
     "metadata": {},
     "source": [
      "Merge fold_features into X matrix"
     ]
    },
    {
     "cell_type": "code",
     "collapsed": false,
     "input": [
      "X_explicit = np.zeros((1,342))\n",
      "y_explicit = np.zeros((1,))\n",
      "for idx in range(5):\n",
      "    X_explicit = np.vstack((X_explicit, fold_features[idx]))\n",
      "    y_explicit = np.vstack((y_explicit, fold_labels[idx]))\n",
      "X_explicit = X_explicit[1:,:]\n",
      "y_explicit = np.ravel(y_explicit[1:,])"
     ],
     "language": "python",
     "metadata": {},
     "outputs": [],
     "prompt_number": 20
    },
    {
     "cell_type": "heading",
     "level": 2,
     "metadata": {},
     "source": [
      "Get Labels"
     ]
    },
    {
     "cell_type": "code",
     "collapsed": false,
     "input": [
      "def morf_labels(name):\n",
      "    y = []\n",
      "    data_filepath = \"/home/freso388/nsc/data/MoRF/\"\n",
      "    data_test_filename = data_filepath + \"MoRF_test.fasta\"\n",
      "    data_train_filename = data_filepath + \"MoRF_training.fasta\"\n",
      "    with open(data_test_filename, \"r\") as test_file:\n",
      "        test_lines = test_file.readlines()\n",
      "    with open(data_train_filename, \"r\") as train_file:\n",
      "        train_lines = train_file.readlines()\n",
      "    \n",
      "    found = False\n",
      "    identifier = name[4:]\n",
      "\n",
      "    for line_idx, line in enumerate(test_lines):\n",
      "        inline_idx = line.find(identifier)\n",
      "        if inline_idx != -1:\n",
      "            found = True\n",
      "            train_name = False\n",
      "            break\n",
      "\n",
      "    if not found:\n",
      "        for line_idx, line in enumerate(train_lines):\n",
      "            inline_idx = line.find(identifier)\n",
      "            if inline_idx != -1:\n",
      "                found = True\n",
      "                train_name = True\n",
      "                break\n",
      "\n",
      "    if found:\n",
      "        if not train_name:\n",
      "            y_vals = list(test_lines[line_idx + 2].strip())\n",
      "            y_vals = [int(y_val) for y_val in y_vals]\n",
      "        else:\n",
      "            y_vals = list(train_lines[line_idx + 2].strip())\n",
      "            y_vals = [int(y_val) for y_val in y_vals]\n",
      "    else:\n",
      "        return \"I'm so sorry!\"\n",
      "\n",
      "    y.extend(y_vals)\n",
      "    \n",
      "    return y"
     ],
     "language": "python",
     "metadata": {},
     "outputs": [],
     "prompt_number": 14
    },
    {
     "cell_type": "code",
     "collapsed": false,
     "input": [
      "def pros_labels(name):\n",
      "    y = []\n",
      "    data_filepath = \"/home/freso388/nsc/data/\"\n",
      "    data_filename = data_filepath + \"allRecords.myformat\"\n",
      "    with open(data_filename, \"r\") as data_file:\n",
      "        lines = data_file.readlines()\n",
      "    \n",
      "    found = False\n",
      "\n",
      "    for line_idx, line in enumerate(lines):\n",
      "        inline_idx = line.find(name)\n",
      "        if inline_idx != -1:\n",
      "            found = True\n",
      "            break\n",
      "\n",
      "    if found:\n",
      "            y_vals = list(lines[line_idx + 3].strip())\n",
      "            y_vals = [int(y_val) for y_val in y_vals[8:]]\n",
      "    else:\n",
      "        return \"I'm so sorry!\"\n",
      "\n",
      "    y.extend(y_vals)\n",
      "    \n",
      "    return y"
     ],
     "language": "python",
     "metadata": {},
     "outputs": [],
     "prompt_number": 15
    },
    {
     "cell_type": "code",
     "collapsed": false,
     "input": [
      "ref_data = pd.read_csv(\"../data/reference_dpb_assignments.tab\",\n",
      "                       sep=\"\\t\", header=0)\n",
      "ref_data.rename(columns={'ref.state':'label'}, inplace=True)\n",
      "\n",
      "def ref_labels(name):\n",
      "    y = ref_data[ref_data[\"target\"] == name].label.ravel().tolist()\n",
      "    \n",
      "    return y"
     ],
     "language": "python",
     "metadata": {},
     "outputs": [],
     "prompt_number": 16
    },
    {
     "cell_type": "code",
     "collapsed": false,
     "input": [
      "fold_labels = {}\n",
      "for idx in range(5):\n",
      "    fold_labels[idx] = []\n",
      "    for name in fold_names[idx]:\n",
      "        if name[0:3] == \"IID\":\n",
      "            y_name = pros_labels(name)\n",
      "        elif name[0:3] == \"MoR\":\n",
      "            y_name = morf_labels(name)\n",
      "        fold_labels[idx].extend(y_name)\n",
      "    fold_labels[idx] = np.array(fold_labels[idx]).reshape((len(fold_labels[idx]), 1))"
     ],
     "language": "python",
     "metadata": {},
     "outputs": [],
     "prompt_number": 17
    },
    {
     "cell_type": "code",
     "collapsed": false,
     "input": [
      "y_ref = np.zeros((1,))\n",
      "for name in ref_names:\n",
      "    y_ref = np.concatenate((y_ref, np.array(ref_labels(name))))\n",
      "y_ref = y_ref[1:]"
     ],
     "language": "python",
     "metadata": {},
     "outputs": [],
     "prompt_number": 18
    },
    {
     "cell_type": "code",
     "collapsed": false,
     "input": [
      "for idx in range(5):\n",
      "    print \"Fold %i: %i examples, %i labels, %i features\" % (idx,\n",
      "                                                            fold_features[idx].shape[0],\n",
      "                                                            fold_labels[idx].shape[0],\n",
      "                                                            fold_features[idx].shape[1])"
     ],
     "language": "python",
     "metadata": {},
     "outputs": [
      {
       "output_type": "stream",
       "stream": "stdout",
       "text": [
        "Fold 0: 160168 examples, 160168 labels, 327 features\n",
        "Fold 1: 155814 examples, 155814 labels, 327 features\n",
        "Fold 2: 151646 examples, 151646 labels, 327 features\n",
        "Fold 3: 181835 examples, 181835 labels, 327 features\n",
        "Fold 4: 160400 examples, 160400 labels, 327 features\n"
       ]
      }
     ],
     "prompt_number": 19
    },
    {
     "cell_type": "heading",
     "level": 2,
     "metadata": {},
     "source": [
      "Get Names"
     ]
    },
    {
     "cell_type": "code",
     "collapsed": false,
     "input": [
      "names_clstr = []\n",
      "for idx in range(5):\n",
      "    for name in fold_names[idx]:\n",
      "        names_clstr.append(name)\n",
      "names_clstr = np.array(names_clstr)"
     ],
     "language": "python",
     "metadata": {},
     "outputs": [],
     "prompt_number": 21
    },
    {
     "cell_type": "heading",
     "level": 2,
     "metadata": {},
     "source": [
      "Save Features and Labels"
     ]
    },
    {
     "cell_type": "code",
     "collapsed": false,
     "input": [
      "np.save(\"../data/X_clstr\", X_explicit)\n",
      "np.save(\"../data/y_clstr\", y_explicit)\n",
      "np.save(\"../data/names_clstr\", names_clstr)\n",
      "np.save(\"../data/X_ref\", X_ref)\n",
      "np.save(\"../data/y_ref\", y_ref)"
     ],
     "language": "python",
     "metadata": {},
     "outputs": [],
     "prompt_number": 22
    },
    {
     "cell_type": "heading",
     "level": 1,
     "metadata": {},
     "source": [
      "EVERYTHING BELOW THIS SHOULD NOT BE HERE!"
     ]
    },
    {
     "cell_type": "heading",
     "level": 2,
     "metadata": {},
     "source": [
      "Evaluate!"
     ]
    },
    {
     "cell_type": "code",
     "collapsed": false,
     "input": [
      "from sklearn.metrics import make_scorer\n",
      "from sklearn.metrics import matthews_corrcoef\n",
      "mcc = make_scorer(matthews_corrcoef)\n",
      "from sklearn.ensemble import ExtraTreesClassifier\n",
      "\n",
      "et_clf_5jobs = ExtraTreesClassifier(n_estimators=50,\n",
      "                                    class_weight=\"auto\",\n",
      "                                    random_state=42, n_jobs=5)"
     ],
     "language": "python",
     "metadata": {},
     "outputs": [],
     "prompt_number": 32
    },
    {
     "cell_type": "code",
     "collapsed": false,
     "input": [
      "def my_train_test_split(test_idx, fold_features, fold_labels):\n",
      "    if test_idx > 4:\n",
      "        return \"Oh, come on!\"\n",
      "    X_train = np.zeros((1,fold_features[0].shape[1]))\n",
      "    y_train = np.zeros((1,1))\n",
      "    for idx in range(5):\n",
      "        if idx == test_idx:\n",
      "            X_test = fold_features[idx]\n",
      "            y_test = fold_labels[idx]\n",
      "        else:\n",
      "            X_train = np.vstack((X_train, fold_features[idx]))\n",
      "            y_train = np.vstack((y_train, fold_labels[idx]))\n",
      "    \n",
      "    return X_train[1:,:], X_test, np.ravel(y_train[1:,:]), np.ravel(y_test)"
     ],
     "language": "python",
     "metadata": {},
     "outputs": [],
     "prompt_number": 33
    },
    {
     "cell_type": "code",
     "collapsed": false,
     "input": [
      "mcc_scores = np.array([np.NaN])\n",
      "for idx in range(5):\n",
      "    X_train, X_test, y_train, y_test = my_train_test_split(idx, fold_features, fold_labels)\n",
      "    et_clf_5jobs.fit(X_train, y_train)\n",
      "    mcc_scores = np.append(mcc_scores, mcc(et_clf_5jobs, X_test, y_test))\n",
      "mcc_scores = mcc_scores[1:]"
     ],
     "language": "python",
     "metadata": {},
     "outputs": [],
     "prompt_number": 34
    },
    {
     "cell_type": "code",
     "collapsed": false,
     "input": [
      "mcc_scores_nopos = np.array([np.NaN])\n",
      "for idx in range(5):\n",
      "    X_train, X_test, y_train, y_test = my_train_test_split(idx, fold_features_nopos, fold_labels)\n",
      "    et_clf_5jobs.fit(X_train, y_train)\n",
      "    mcc_scores_nopos = np.append(mcc_scores_nopos, mcc(et_clf_5jobs, X_test, y_test))\n",
      "mcc_scores_nopos = mcc_scores_nopos[1:]"
     ],
     "language": "python",
     "metadata": {},
     "outputs": [],
     "prompt_number": 35
    },
    {
     "cell_type": "code",
     "collapsed": false,
     "input": [
      "mcc_scores_extra = np.array([np.NaN])\n",
      "for idx in range(5):\n",
      "    X_train, X_test, y_train, y_test = my_train_test_split(idx, fold_features_extra, fold_labels)\n",
      "    et_clf_5jobs.fit(X_train, y_train)\n",
      "    mcc_scores_extra = np.append(mcc_scores_extra, mcc(et_clf_5jobs, X_test, y_test))\n",
      "mcc_scores_extra = mcc_scores_extra[1:]"
     ],
     "language": "python",
     "metadata": {},
     "outputs": [],
     "prompt_number": 36
    },
    {
     "cell_type": "code",
     "collapsed": false,
     "input": [
      "mcc_scores_nopos_extra = np.array([np.NaN])\n",
      "for idx in range(5):\n",
      "    X_train, X_test, y_train, y_test = my_train_test_split(idx, fold_features_nopos_extra, fold_labels)\n",
      "    et_clf_5jobs.fit(X_train, y_train)\n",
      "    mcc_scores_nopos_extra = np.append(mcc_scores_nopos_extra, mcc(et_clf_5jobs, X_test, y_test))\n",
      "mcc_scores_nopos_extra = mcc_scores_nopos_extra[1:]"
     ],
     "language": "python",
     "metadata": {},
     "outputs": [],
     "prompt_number": 37
    },
    {
     "cell_type": "code",
     "collapsed": false,
     "input": [
      "data = {\"mcc_score\": np.hstack((mcc_scores, mcc_scores_nopos,\n",
      "                                mcc_scores_extra, mcc_scores_nopos_extra)),\n",
      "        \"features\": [\"default\"] * 5 + [\"nopos\"] * 5 + [\"default_extra\"] * 5 + [\"nopos_extra\"] * 5}\n",
      "data = pd.DataFrame(data)\n",
      "%store data"
     ],
     "language": "python",
     "metadata": {},
     "outputs": [
      {
       "output_type": "stream",
       "stream": "stdout",
       "text": [
        "Stored 'data' (DataFrame)\n"
       ]
      }
     ],
     "prompt_number": 43
    },
    {
     "cell_type": "code",
     "collapsed": false,
     "input": [
      "sns.factorplot(\"features\", \"mcc_score\", data=data, kind=\"bar\")"
     ],
     "language": "python",
     "metadata": {},
     "outputs": [
      {
       "metadata": {},
       "output_type": "pyout",
       "prompt_number": 44,
       "text": [
        "<seaborn.axisgrid.FacetGrid at 0x7fc67a097510>"
       ]
      },
      {
       "metadata": {},
       "output_type": "display_data",
       "png": "[encoded data removed]",
       "text": [
        "<matplotlib.figure.Figure at 0x7fc67a0973d0>"
       ]
      }
     ],
     "prompt_number": 44
    },
    {
     "cell_type": "heading",
     "level": 3,
     "metadata": {},
     "source": [
      "K-Fold instead of my strict 5-fold"
     ]
    },
    {
     "cell_type": "code",
     "collapsed": false,
     "input": [
      "from sklearn.cross_validation import cross_val_score\n",
      "from sklearn.cross_validation import KFold\n",
      "cv = KFold(len(y_all), n_folds=5, shuffle=False, random_state=42)"
     ],
     "language": "python",
     "metadata": {},
     "outputs": [],
     "prompt_number": 59
    },
    {
     "cell_type": "code",
     "collapsed": false,
     "input": [
      "mcc_scores_cv = cross_val_score(et_clf_5jobs, X_all, y_all, scoring=mcc, cv=cv)\n",
      "mcc_scores_cv_extra = cross_val_score(et_clf_5jobs, X_all_extra, y_all, scoring=mcc, cv=cv)\n",
      "mcc_scores_cv_nopos = cross_val_score(et_clf_5jobs, X_all_nopos, y_all, scoring=mcc, cv=cv)\n",
      "mcc_scores_cv_nopos_extra = cross_val_score(et_clf_5jobs, X_all_nopos_extra, y_all, scoring=mcc, cv=cv)"
     ],
     "language": "python",
     "metadata": {},
     "outputs": [],
     "prompt_number": 60
    },
    {
     "cell_type": "code",
     "collapsed": false,
     "input": [
      "data_cv = {\"mcc_score\": np.hstack((mcc_scores_cv, mcc_scores_cv_extra,\n",
      "                                   mcc_scores_cv_nopos, mcc_scores_cv_nopos_extra)),\n",
      "           \"features\": [\"default\"] * 5 + [\"nopos\"] * 5 + [\"default_extra\"] * 5 + [\"nopos_extra\"] * 5}\n",
      "data_cv = pd.DataFrame(data_cv)\n",
      "%store data_cv"
     ],
     "language": "python",
     "metadata": {},
     "outputs": [
      {
       "output_type": "stream",
       "stream": "stdout",
       "text": [
        "Stored 'data_cv' (DataFrame)\n"
       ]
      }
     ],
     "prompt_number": 61
    },
    {
     "cell_type": "code",
     "collapsed": false,
     "input": [
      "sns.factorplot(\"features\", \"mcc_score\", data=data_cv, kind=\"bar\")"
     ],
     "language": "python",
     "metadata": {},
     "outputs": [
      {
       "metadata": {},
       "output_type": "pyout",
       "prompt_number": 62,
       "text": [
        "<seaborn.axisgrid.FacetGrid at 0x7fc647583190>"
       ]
      },
      {
       "metadata": {},
       "output_type": "display_data",
       "png": "[encoded data removed]",
       "text": [
        "<matplotlib.figure.Figure at 0x7fc6475b6050>"
       ]
      }
     ],
     "prompt_number": 62
    },
    {
     "cell_type": "heading",
     "level": 3,
     "metadata": {},
     "source": [
      "Evaluate using Disopred's validation set"
     ]
    },
    {
     "cell_type": "code",
     "collapsed": false,
     "input": [
      "et_clf_5jobs.fit(X_all, y_all)\n",
      "mcc_score_ref = mcc(et_clf_5jobs, X_ref, y_ref)"
     ],
     "language": "python",
     "metadata": {},
     "outputs": [],
     "prompt_number": 47
    },
    {
     "cell_type": "code",
     "collapsed": false,
     "input": [
      "et_clf_5jobs.fit(X_all_extra, y_all)\n",
      "mcc_score_ref_extra = mcc(et_clf_5jobs, X_ref_extra, y_ref)"
     ],
     "language": "python",
     "metadata": {},
     "outputs": [],
     "prompt_number": 48
    },
    {
     "cell_type": "code",
     "collapsed": false,
     "input": [
      "et_clf_5jobs.fit(X_all_nopos, y_all)\n",
      "mcc_score_ref_nopos = mcc(et_clf_5jobs, X_ref_nopos, y_ref)"
     ],
     "language": "python",
     "metadata": {},
     "outputs": [],
     "prompt_number": 49
    },
    {
     "cell_type": "code",
     "collapsed": false,
     "input": [
      "et_clf_5jobs.fit(X_all_nopos_extra, y_all)\n",
      "mcc_score_ref_nopos_extra = mcc(et_clf_5jobs, X_ref_nopos_extra, y_ref)"
     ],
     "language": "python",
     "metadata": {},
     "outputs": [],
     "prompt_number": 50
    },
    {
     "cell_type": "code",
     "collapsed": false,
     "input": [
      "ref_data = {\"mcc_score\": np.hstack((mcc_score_ref, mcc_score_ref_extra,\n",
      "                                mcc_score_ref_nopos, mcc_score_ref_nopos_extra)),\n",
      "        \"features\": [\"default\"] + [\"default_extra\"] + [\"nopos\"] + [\"nopos_extra\"]}\n",
      "ref_data = pd.DataFrame(ref_data)\n",
      "%store ref_data"
     ],
     "language": "python",
     "metadata": {},
     "outputs": [
      {
       "output_type": "stream",
       "stream": "stdout",
       "text": [
        "Stored 'ref_data' (DataFrame)\n"
       ]
      }
     ],
     "prompt_number": 53
    },
    {
     "cell_type": "code",
     "collapsed": false,
     "input": [
      "sns.factorplot(\"features\", \"mcc_score\", data=ref_data, kind=\"bar\")"
     ],
     "language": "python",
     "metadata": {},
     "outputs": [
      {
       "metadata": {},
       "output_type": "pyout",
       "prompt_number": 54,
       "text": [
        "<seaborn.axisgrid.FacetGrid at 0x7fc6475b6a10>"
       ]
      },
      {
       "metadata": {},
       "output_type": "display_data",
       "png": "[encoded data removed]",
       "text": [
        "<matplotlib.figure.Figure at 0x7fc6475b6a90>"
       ]
      }
     ],
     "prompt_number": 54
    },
    {
     "cell_type": "code",
     "collapsed": false,
     "input": [
      "print mcc_score_ref\n",
      "print mcc_score_ref_extra\n",
      "print mcc_score_ref_nopos\n",
      "print mcc_score_ref_nopos_extra"
     ],
     "language": "python",
     "metadata": {},
     "outputs": [
      {
       "output_type": "stream",
       "stream": "stdout",
       "text": [
        "0.0\n",
        "0.0\n",
        "0.0\n",
        "0.0\n"
       ]
      }
     ],
     "prompt_number": 55
    },
    {
     "cell_type": "markdown",
     "metadata": {},
     "source": [
      "(This must mean that it didn't classify a single example correctly.)"
     ]
    },
    {
     "cell_type": "code",
     "collapsed": false,
     "input": [],
     "language": "python",
     "metadata": {},
     "outputs": [],
     "prompt_number": 144
    }
   ],
   "metadata": {}
  }
 ]
}