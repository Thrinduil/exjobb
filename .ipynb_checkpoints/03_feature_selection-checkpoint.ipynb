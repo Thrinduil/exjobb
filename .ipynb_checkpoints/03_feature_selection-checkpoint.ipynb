{
 "metadata": {
  "name": ""
 },
 "nbformat": 3,
 "nbformat_minor": 0,
 "worksheets": [
  {
   "cells": [
    {
     "cell_type": "code",
     "collapsed": false,
     "input": [
      "import numpy as np\n",
      "import matplotlib.pyplot as plt\n",
      "import seaborn as sns\n",
      "import pandas as pd\n",
      "%matplotlib inline"
     ],
     "language": "python",
     "metadata": {},
     "outputs": [],
     "prompt_number": 45
    },
    {
     "cell_type": "heading",
     "level": 1,
     "metadata": {},
     "source": [
      "Feature Selection"
     ]
    },
    {
     "cell_type": "markdown",
     "metadata": {},
     "source": [
      "Now that we know which classifier we want to use, it is time to take a closer look at the features.\n",
      "\n",
      "We will combine our four feature groups in different ways. If one or more feature groups are non-informative or redundant, we should notice.\n",
      "\n",
      "First we divide our features into their corresponding groups:"
     ]
    },
    {
     "cell_type": "code",
     "collapsed": false,
     "input": [
      "y_morf = np.load(\"../data/y_morf.npy\")\n",
      "X_myfeat_morf = np.load(\"../data/X_myfeat_morf.npy\")\n",
      "X_myfeat_morf_ps = X_myfeat_morf[:,:300]\n",
      "X_myfeat_morf_aa = X_myfeat_morf[:,300:320]\n",
      "X_myfeat_morf_do = X_myfeat_morf[:,320:324]\n",
      "X_myfeat_morf_ss = X_myfeat_morf[:,324:327]\n",
      "\n",
      "y_pros = np.load(\"../data/y_pros.npy\")\n",
      "X_myfeat_pros = np.load(\"../data/X_myfeat_pros.npy\")\n",
      "X_myfeat_pros_ps = X_myfeat_pros[:,:300]\n",
      "X_myfeat_pros_aa = X_myfeat_pros[:,300:320]\n",
      "X_myfeat_pros_do = X_myfeat_pros[:,320:324]\n",
      "X_myfeat_pros_ss = X_myfeat_pros[:,324:327]\n",
      "\n",
      "y_both = np.load(\"../data/y_both.npy\")\n",
      "X_myfeat_both = np.load(\"../data/X_myfeat_both.npy\")\n",
      "X_myfeat_both_ps = X_myfeat_both[:,:300]\n",
      "X_myfeat_both_aa = X_myfeat_both[:,300:320]\n",
      "X_myfeat_both_do = X_myfeat_both[:,320:324]\n",
      "X_myfeat_both_ss = X_myfeat_both[:,324:327]"
     ],
     "language": "python",
     "metadata": {},
     "outputs": [],
     "prompt_number": "*"
    },
    {
     "cell_type": "markdown",
     "metadata": {},
     "source": [
      "As from now on, we will stick to the Extra Trees classifier."
     ]
    },
    {
     "cell_type": "code",
     "collapsed": false,
     "input": [
      "from sklearn.metrics import make_scorer\n",
      "from sklearn.metrics import matthews_corrcoef\n",
      "mcc = make_scorer(matthews_corrcoef)\n",
      "\n",
      "from sklearn.cross_validation import StratifiedKFold\n",
      "cv_morf = StratifiedKFold(y_morf, n_folds=5,\n",
      "                          shuffle=True, random_state=42)\n",
      "cv_pros = StratifiedKFold(y_pros, n_folds=5,\n",
      "                          shuffle=True, random_state=42)\n",
      "cv_both = StratifiedKFold(y_both, n_folds=5,\n",
      "                          shuffle=True, random_state=42)\n",
      "\n",
      "from sklearn.cross_validation import cross_val_score\n",
      "\n",
      "from sklearn.pipeline import make_pipeline\n",
      "from sklearn.preprocessing import StandardScaler\n",
      "from sklearn.ensemble import ExtraTreesClassifier\n",
      "et_clf = make_pipeline(StandardScaler(),\n",
      "                       ExtraTreesClassifier(n_estimators=50,\n",
      "                                            class_weight=\"auto\",\n",
      "                                            random_state=42))"
     ],
     "language": "python",
     "metadata": {},
     "outputs": [],
     "prompt_number": "*"
    },
    {
     "cell_type": "markdown",
     "metadata": {},
     "source": [
      "We put the feature groups into a dictionary for easier access."
     ]
    },
    {
     "cell_type": "code",
     "collapsed": false,
     "input": [
      "X_myfeat_morf_dict = {\"ps\": X_myfeat_morf_ps, \"aa\": X_myfeat_morf_aa,\n",
      "                      \"do\": X_myfeat_morf_do, \"ss\": X_myfeat_morf_ss}\n",
      "\n",
      "X_myfeat_pros_dict = {\"ps\": X_myfeat_pros_ps, \"aa\": X_myfeat_pros_aa,\n",
      "                      \"do\": X_myfeat_pros_do, \"ss\": X_myfeat_pros_ss}\n",
      "\n",
      "X_myfeat_both_dict = {\"ps\": X_myfeat_both_ps, \"aa\": X_myfeat_both_aa,\n",
      "                      \"do\": X_myfeat_both_do, \"ss\": X_myfeat_both_ss}"
     ],
     "language": "python",
     "metadata": {},
     "outputs": [],
     "prompt_number": "*"
    },
    {
     "cell_type": "markdown",
     "metadata": {},
     "source": [
      "And then try all 15 combinations of the four feature groups."
     ]
    },
    {
     "cell_type": "code",
     "collapsed": false,
     "input": [
      "%%time\n",
      "from itertools import chain, combinations\n",
      "def all_subsets(ss):\n",
      "  return chain(*map(lambda x: combinations(ss, x), range(1, len(ss)+1)))\n",
      "\n",
      "feature_tags = [\"ps\", \"aa\", \"do\", \"ss\"]\n",
      "tags = []\n",
      "\n",
      "morf_features_scores = {}\n",
      "pros_features_scores = {}\n",
      "both_features_scores = {}\n",
      "\n",
      "for subset in all_subsets(feature_tags):\n",
      "    tag = \"_\".join(list(subset))\n",
      "    tags.append(tag)\n",
      "    \n",
      "    morf_features = np.zeros((X_myfeat_morf_dict[\"ps\"].shape[0], 1))\n",
      "    pros_features = np.zeros((X_myfeat_pros_dict[\"ps\"].shape[0], 1))\n",
      "    both_features = np.zeros((X_myfeat_both_dict[\"ps\"].shape[0], 1))\n",
      "    \n",
      "    for feat_set in subset:\n",
      "        morf_features = np.hstack((morf_features, X_myfeat_morf_dict[feat_set]))\n",
      "        pros_features = np.hstack((pros_features, X_myfeat_pros_dict[feat_set]))\n",
      "        both_features = np.hstack((both_features, X_myfeat_both_dict[feat_set]))\n",
      "        \n",
      "    morf_features = morf_features[:,1:]\n",
      "    pros_features = pros_features[:,1:]\n",
      "    both_features = both_features[:,1:]\n",
      "    \n",
      "    morf_features_scores[tag] = cross_val_score(et_clf, morf_features, y_morf,\n",
      "                                                scoring=mcc, cv=cv_morf, n_jobs=5)\n",
      "    pros_features_scores[tag] = cross_val_score(et_clf, pros_features, y_pros,\n",
      "                                                scoring=mcc, cv=cv_pros, n_jobs=5)\n",
      "    both_features_scores[tag] = cross_val_score(et_clf, both_features, y_both,\n",
      "                                                scoring=mcc, cv=cv_both, n_jobs=3)\n",
      "%store morf_features_scores\n",
      "%store pros_features_scores\n",
      "%store both_features_scores\n",
      "%store tags"
     ],
     "language": "python",
     "metadata": {},
     "outputs": [],
     "prompt_number": "*"
    },
    {
     "cell_type": "code",
     "collapsed": false,
     "input": [
      "feature_data = {\"mcc_score\": np.zeros((1,)),\n",
      "                \"dataset\": [],\n",
      "                \"features\": []}\n",
      "\n",
      "for tag in tags:\n",
      "    feature_data[\"mcc_score\"] = np.hstack((feature_data[\"mcc_score\"], morf_features_scores[tag]))\n",
      "    feature_data[\"dataset\"] = feature_data[\"dataset\"] + [\"MoRF\"] * 5\n",
      "    feature_data[\"features\"] = feature_data[\"features\"] + [tag] * 5\n",
      "    \n",
      "    feature_data[\"mcc_score\"] = np.hstack((feature_data[\"mcc_score\"], pros_features_scores[tag]))\n",
      "    feature_data[\"dataset\"] = feature_data[\"dataset\"] + [\"ProS\"] * 5\n",
      "    feature_data[\"features\"] = feature_data[\"features\"] + [tag] * 5\n",
      "    \n",
      "    feature_data[\"mcc_score\"] = np.hstack((feature_data[\"mcc_score\"], both_features_scores[tag]))\n",
      "    feature_data[\"dataset\"] = feature_data[\"dataset\"] + [\"Both\"] * 5\n",
      "    feature_data[\"features\"] = feature_data[\"features\"] + [tag] * 5\n",
      "    \n",
      "feature_data[\"mcc_score\"] = feature_data[\"mcc_score\"][1:]\n",
      "\n",
      "feature_data = pd.DataFrame(feature_data)"
     ],
     "language": "python",
     "metadata": {},
     "outputs": [],
     "prompt_number": 54
    },
    {
     "cell_type": "code",
     "collapsed": false,
     "input": [
      "sns.factorplot(\"dataset\", \"mcc_score\", \"features\",\n",
      "               feature_data, kind=\"bar\", aspect=3,\n",
      "               palette=\"deep\",\n",
      "               x_order=[\"MoRF\", \"ProS\", \"Both\"],\n",
      "               hue_order=[features for features in (feature_data.groupby([\"features\"])\n",
      "                                                      [\"mcc_score\"].mean().reset_index()\n",
      "                                                      .sort(\"mcc_score\", ascending=False)\n",
      "                                                      [\"features\"])])"
     ],
     "language": "python",
     "metadata": {},
     "outputs": [
      {
       "metadata": {},
       "output_type": "pyout",
       "prompt_number": 71,
       "text": [
        "<seaborn.axisgrid.FacetGrid at 0x7fa571a55910>"
       ]
      },
      {
       "metadata": {},
       "output_type": "display_data",
       "png": "[encoded data removed]",
       "text": [
        "<matplotlib.figure.Figure at 0x7fa571a556d0>"
       ]
      }
     ],
     "prompt_number": 71
    },
    {
     "cell_type": "markdown",
     "metadata": {},
     "source": [
      "As we can see from the graph above, using all features does not give us the best result.\n",
      "\n",
      "We get the best result when *only using the amino acid composition and the disorder features*. Very strange.\n",
      "\n",
      "In the next notebook we will look closer at those features."
     ]
    }
   ],
   "metadata": {}
  }
 ]
}