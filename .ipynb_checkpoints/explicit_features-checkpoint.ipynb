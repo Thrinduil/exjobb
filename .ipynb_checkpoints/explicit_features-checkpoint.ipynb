{
 "metadata": {
  "name": ""
 },
 "nbformat": 3,
 "nbformat_minor": 0,
 "worksheets": [
  {
   "cells": [
    {
     "cell_type": "code",
     "collapsed": false,
     "input": [
      "import numpy as np\n",
      "import matplotlib.pyplot as plt\n",
      "import seaborn as sns\n",
      "import pandas as pd\n",
      "%matplotlib inline"
     ],
     "language": "python",
     "metadata": {},
     "outputs": [],
     "prompt_number": 119
    },
    {
     "cell_type": "heading",
     "level": 1,
     "metadata": {},
     "source": [
      "Explicit Amino Acid Features"
     ]
    },
    {
     "cell_type": "markdown",
     "metadata": {},
     "source": [
      "One bid to get better results is to make implicit features more explicit.\n",
      "\n",
      "We already have the amino acid composition as features, but maybe we could gain performance by adding some data about the amino acids."
     ]
    },
    {
     "cell_type": "heading",
     "level": 2,
     "metadata": {},
     "source": [
      "The New Features"
     ]
    },
    {
     "cell_type": "markdown",
     "metadata": {},
     "source": [
      "Below is some data I stole from Wikipedia. First we have polarity (polar, nonpolar, acidic polar and basic polar), then we have the charge (neutral, positive, negative), then the hydrophobicity and at last the molecular weight.\n",
      "\n",
      "These will become 9 new features, and the will be calculated by summing over the current window. For instance, if we have 3 positivly charged amino acids in the current window, the positive feature will be = 3."
     ]
    },
    {
     "cell_type": "code",
     "collapsed": false,
     "input": [
      "aa_data = {\"A\": {\"polar\": 0,\n",
      "                 \"nonpolar\": 1,\n",
      "                 \"a_polar\": 0,\n",
      "                 \"b_polar\": 0,\n",
      "                 \"neutral\": 1,\n",
      "                 \"positive\": 0,\n",
      "                 \"negative\": 0,\n",
      "                 \"hydropathy\": 1.8,\n",
      "                 \"weight\": 89},\n",
      "           \"C\": {\"polar\": 0,\n",
      "                 \"nonpolar\": 1,\n",
      "                 \"a_polar\": 0,\n",
      "                 \"b_polar\": 0,\n",
      "                 \"neutral\": 1,\n",
      "                 \"positive\": 0,\n",
      "                 \"negative\": 0,\n",
      "                 \"hydropathy\": 2.5,\n",
      "                 \"weight\": 121},\n",
      "           \"D\": {\"polar\": 0,\n",
      "                 \"nonpolar\": 0,\n",
      "                 \"a_polar\": 1,\n",
      "                 \"b_polar\": 0,\n",
      "                 \"neutral\": 0,\n",
      "                 \"positive\": 0,\n",
      "                 \"negative\": 1,\n",
      "                 \"hydropathy\": -3.5,\n",
      "                 \"weight\": 133},\n",
      "           \"E\": {\"polar\": 0,\n",
      "                 \"nonpolar\": 0,\n",
      "                 \"a_polar\": 1,\n",
      "                 \"b_polar\": 0,\n",
      "                 \"neutral\": 0,\n",
      "                 \"positive\": 0,\n",
      "                 \"negative\": 1,\n",
      "                 \"hydropathy\": -3.5,\n",
      "                 \"weight\": 147},\n",
      "           \"F\": {\"polar\": 0,\n",
      "                 \"nonpolar\": 1,\n",
      "                 \"a_polar\": 0,\n",
      "                 \"b_polar\": 0,\n",
      "                 \"neutral\": 1,\n",
      "                 \"positive\": 0,\n",
      "                 \"negative\": 0,\n",
      "                 \"hydropathy\": 2.8,\n",
      "                 \"weight\": 165},\n",
      "           \"G\": {\"polar\": 0,\n",
      "                 \"nonpolar\": 1,\n",
      "                 \"a_polar\": 0,\n",
      "                 \"b_polar\": 0,\n",
      "                 \"neutral\": 1,\n",
      "                 \"positive\": 0,\n",
      "                 \"negative\": 0,\n",
      "                 \"hydropathy\": -0.4,\n",
      "                 \"weight\": 75},\n",
      "           \"H\": {\"polar\": 0,\n",
      "                 \"nonpolar\": 0,\n",
      "                 \"a_polar\": 0,\n",
      "                 \"b_polar\": 1,\n",
      "                 \"neutral\": 0.9,\n",
      "                 \"positive\": 0.1,\n",
      "                 \"negative\": 0,\n",
      "                 \"hydropathy\": -3.2,\n",
      "                 \"weight\": 155},\n",
      "           \"I\": {\"polar\": 0,\n",
      "                 \"nonpolar\": 1,\n",
      "                 \"a_polar\": 0,\n",
      "                 \"b_polar\": 0,\n",
      "                 \"neutral\": 1,\n",
      "                 \"positive\": 0,\n",
      "                 \"negative\": 0,\n",
      "                 \"hydropathy\": 4.5,\n",
      "                 \"weight\": 131},\n",
      "           \"K\": {\"polar\": 0,\n",
      "                 \"nonpolar\": 0,\n",
      "                 \"a_polar\": 0,\n",
      "                 \"b_polar\": 1,\n",
      "                 \"neutral\": 0,\n",
      "                 \"positive\": 1,\n",
      "                 \"negative\": 0,\n",
      "                 \"hydropathy\": -3.9,\n",
      "                 \"weight\": 146},\n",
      "           \"L\": {\"polar\": 0,\n",
      "                 \"nonpolar\": 1,\n",
      "                 \"a_polar\": 0,\n",
      "                 \"b_polar\": 0,\n",
      "                 \"neutral\": 1,\n",
      "                 \"positive\": 0,\n",
      "                 \"negative\": 0,\n",
      "                 \"hydropathy\": 3.8,\n",
      "                 \"weight\": 131},\n",
      "           \"M\": {\"polar\": 0,\n",
      "                 \"nonpolar\": 1,\n",
      "                 \"a_polar\": 0,\n",
      "                 \"b_polar\": 0,\n",
      "                 \"neutral\": 1,\n",
      "                 \"positive\": 0,\n",
      "                 \"negative\": 0,\n",
      "                 \"hydropathy\": 1.9,\n",
      "                 \"weight\": 149},\n",
      "           \"N\": {\"polar\": 1,\n",
      "                 \"nonpolar\": 0,\n",
      "                 \"a_polar\": 0,\n",
      "                 \"b_polar\": 0,\n",
      "                 \"neutral\": 1,\n",
      "                 \"positive\": 0,\n",
      "                 \"negative\": 0,\n",
      "                 \"hydropathy\": -3.5,\n",
      "                 \"weight\": 132},\n",
      "           \"P\": {\"polar\": 0,\n",
      "                 \"nonpolar\": 1,\n",
      "                 \"a_polar\": 0,\n",
      "                 \"b_polar\": 0,\n",
      "                 \"neutral\": 1,\n",
      "                 \"positive\": 0,\n",
      "                 \"negative\": 0,\n",
      "                 \"hydropathy\": -1.6,\n",
      "                 \"weight\": 115},\n",
      "           \"Q\": {\"polar\": 1,\n",
      "                 \"nonpolar\": 0,\n",
      "                 \"a_polar\": 0,\n",
      "                 \"b_polar\": 0,\n",
      "                 \"neutral\": 1,\n",
      "                 \"positive\": 0,\n",
      "                 \"negative\": 0,\n",
      "                 \"hydropathy\": -3.5,\n",
      "                 \"weight\": 146},\n",
      "           \"R\": {\"polar\": 0,\n",
      "                 \"nonpolar\": 0,\n",
      "                 \"a_polar\": 0,\n",
      "                 \"b_polar\": 1,\n",
      "                 \"neutral\": 0,\n",
      "                 \"positive\": 1,\n",
      "                 \"negative\": 0,\n",
      "                 \"hydropathy\": -4.5,\n",
      "                 \"weight\": 174},\n",
      "           \"S\": {\"polar\": 1,\n",
      "                 \"nonpolar\": 0,\n",
      "                 \"a_polar\": 0,\n",
      "                 \"b_polar\": 0,\n",
      "                 \"neutral\": 1,\n",
      "                 \"positive\": 0,\n",
      "                 \"negative\": 0,\n",
      "                 \"hydropathy\": -0.8,\n",
      "                 \"weight\": 105},\n",
      "           \"T\": {\"polar\": 1,\n",
      "                 \"nonpolar\": 0,\n",
      "                 \"a_polar\": 0,\n",
      "                 \"b_polar\": 0,\n",
      "                 \"neutral\": 1,\n",
      "                 \"positive\": 0,\n",
      "                 \"negative\": 0,\n",
      "                 \"hydropathy\": -0.7,\n",
      "                 \"weight\": 119},\n",
      "           \"V\": {\"polar\": 0,\n",
      "                 \"nonpolar\": 1,\n",
      "                 \"a_polar\": 0,\n",
      "                 \"b_polar\": 0,\n",
      "                 \"neutral\": 1,\n",
      "                 \"positive\": 0,\n",
      "                 \"negative\": 0,\n",
      "                 \"hydropathy\": 4.2,\n",
      "                 \"weight\": 117},\n",
      "           \"W\": {\"polar\": 0,\n",
      "                 \"nonpolar\": 1,\n",
      "                 \"a_polar\": 0,\n",
      "                 \"b_polar\": 0,\n",
      "                 \"neutral\": 1,\n",
      "                 \"positive\": 0,\n",
      "                 \"negative\": 0,\n",
      "                 \"hydropathy\": -0.9,\n",
      "                 \"weight\": 204},\n",
      "           \"Y\": {\"polar\": 1,\n",
      "                 \"nonpolar\": 0,\n",
      "                 \"a_polar\": 0,\n",
      "                 \"b_polar\": 0,\n",
      "                 \"neutral\": 1,\n",
      "                 \"positive\": 0,\n",
      "                 \"negative\": 0,\n",
      "                 \"hydropathy\": -1.3,\n",
      "                 \"weight\": 181}\n",
      "           }"
     ],
     "language": "python",
     "metadata": {},
     "outputs": [],
     "prompt_number": 120
    },
    {
     "cell_type": "code",
     "collapsed": false,
     "input": [
      "def get_aa_features_extra(name):\n",
      "    \n",
      "    filename = \"/home/freso388/nsc/disopred/output/\" + name + \".mtx\"\n",
      "    aaList = ['A', 'C', 'D', 'E', 'F', 'G', 'H', 'I', 'K', 'L',\n",
      "              'M', 'N', 'P', 'Q', 'R', 'S', 'T', 'V', 'W', 'Y']\n",
      "    \n",
      "    with open(filename) as f:\n",
      "        lines = f.readlines()\n",
      "    seq = lines[1].strip()\n",
      "    \n",
      "    aa_features = []\n",
      "    for residue in range(len(seq)):\n",
      "        window_residues = range(-7,8)\n",
      "        current_window = []\n",
      "        row_shares = []\n",
      "        polar = 0\n",
      "        nonpolar = 0\n",
      "        a_polar = 0\n",
      "        b_polar = 0\n",
      "        neutral = 0\n",
      "        positive = 0\n",
      "        negative = 0\n",
      "        hydropathy = 0\n",
      "        weight = 0\n",
      "        for window_residue in window_residues:\n",
      "            idx = residue + window_residue\n",
      "            if not 0 <= idx <= len(seq) - 1:\n",
      "                pass\n",
      "            else:\n",
      "                current_window.extend(seq[idx])\n",
      "    \n",
      "        for aa in aaList:\n",
      "            count = current_window.count(aa)\n",
      "            row_shares.append(round(float(count)/float(len(current_window)), 5))\n",
      "            polar += aa_data[aa][\"polar\"] * count\n",
      "            nonpolar += aa_data[aa][\"nonpolar\"] * count\n",
      "            a_polar += aa_data[aa][\"a_polar\"] * count\n",
      "            b_polar += aa_data[aa][\"b_polar\"] * count\n",
      "            neutral += aa_data[aa][\"neutral\"] * count\n",
      "            positive += aa_data[aa][\"positive\"] * count\n",
      "            negative += aa_data[aa][\"negative\"] * count\n",
      "            hydropathy += aa_data[aa][\"hydropathy\"] * count\n",
      "            weight += aa_data[aa][\"weight\"] * count\n",
      "            \n",
      "            residue_features = row_shares + [polar, nonpolar, a_polar, b_polar,\n",
      "                                             neutral, positive, negative,\n",
      "                                             hydropathy, weight]\n",
      "        \n",
      "        aa_features.append(residue_features)\n",
      "    \n",
      "    aa_features = np.array(aa_features)\n",
      "    \n",
      "    return aa_features"
     ],
     "language": "python",
     "metadata": {},
     "outputs": [],
     "prompt_number": 121
    },
    {
     "cell_type": "heading",
     "level": 3,
     "metadata": {},
     "source": [
      "The Old Features"
     ]
    },
    {
     "cell_type": "markdown",
     "metadata": {},
     "source": [
      "To be able to make a fair comparison between the new and old features, we need the old disorder features as well."
     ]
    },
    {
     "cell_type": "code",
     "collapsed": false,
     "input": [
      "def get_disorder_features(name):\n",
      "        \n",
      "    filename = \"/home/freso388/nsc/disopred/output/\" + name + \".diso\"\n",
      "    disorder_cutoff = 0.5\n",
      "    \n",
      "    with open(filename) as f:\n",
      "        lines = f.readlines()[3:]\n",
      "    scores = []\n",
      "    for line in lines:\n",
      "        words = line.split()\n",
      "        scores.append(float(words[3].strip()))\n",
      "    \n",
      "    disorder_features = []\n",
      "    for residue in range(len(scores)):\n",
      "        if scores[residue] < disorder_cutoff:\n",
      "            length = 0\n",
      "            start = 0\n",
      "            stop = 0\n",
      "    \n",
      "        else:    \n",
      "            start_idx = residue\n",
      "            found_start = False\n",
      "            at_end = False\n",
      "            while not found_start and not at_end:\n",
      "                if scores[start_idx] >= disorder_cutoff:\n",
      "                    if start_idx == 0:\n",
      "                        at_end = True\n",
      "                    else:\n",
      "                        start_idx -= 1    # Move to next residue and try again\n",
      "                else:\n",
      "                    found_start = True\n",
      "                    start_idx += 1    # The region actually stopped last round\n",
      "            start = round(float(start_idx) / len(scores), 5)\n",
      "    \n",
      "            stop_idx = residue\n",
      "            found_stop = False\n",
      "            at_end = False\n",
      "            while not found_stop and not at_end:\n",
      "                if scores[stop_idx] >= disorder_cutoff:\n",
      "                    if stop_idx == len(scores) - 1:\n",
      "                        at_end = True\n",
      "                    else:\n",
      "                        stop_idx += 1    # Move to next residue and try again\n",
      "                else:\n",
      "                    found_stop = True\n",
      "                    stop_idx -= 1    # The region actually stopped last round\n",
      "            stop = round(float(stop_idx + 1) / len(scores), 5)\n",
      "    \n",
      "            length = stop_idx - start_idx + 1\n",
      "    \n",
      "        score = scores[residue]\n",
      "            \n",
      "        row_features = [score, length, start, stop]\n",
      "    \n",
      "        disorder_features.append(row_features)\n",
      "    \n",
      "    disorder_features = np.array(disorder_features)\n",
      "    \n",
      "    return disorder_features"
     ],
     "language": "python",
     "metadata": {},
     "outputs": [],
     "prompt_number": 122
    },
    {
     "cell_type": "heading",
     "level": 2,
     "metadata": {},
     "source": [
      "Get Names"
     ]
    },
    {
     "cell_type": "code",
     "collapsed": false,
     "input": [
      "with open(\"/home/freso388/nsc/data/names.test\", \"r\") as inFile:\n",
      "    names = eval(inFile.read())\n",
      "names = [name.strip() for name in names]\n",
      "names.sort()\n",
      "for idx, name in enumerate(names):\n",
      "    if name[0] == 'M':\n",
      "        break\n",
      "both_names = names\n",
      "pros_names = names[:idx]\n",
      "morf_names = names[idx:]"
     ],
     "language": "python",
     "metadata": {},
     "outputs": [],
     "prompt_number": 123
    },
    {
     "cell_type": "code",
     "collapsed": false,
     "input": [
      "ref_names = np.load(\"../data/ref_names.npy\")"
     ],
     "language": "python",
     "metadata": {},
     "outputs": [],
     "prompt_number": 124
    },
    {
     "cell_type": "heading",
     "level": 2,
     "metadata": {},
     "source": [
      "Sort Names Into Folds"
     ]
    },
    {
     "cell_type": "code",
     "collapsed": false,
     "input": [
      "fold_names = {0: [], 1: [], 2: [], 3: [], 4: []}\n",
      "\n",
      "with open(\"../data/blastclustref.blast\", \"r\") as clust_file:\n",
      "    lines = clust_file.readlines()\n",
      "\n",
      "for line_idx, line in enumerate(lines):\n",
      "    line_sorted = False\n",
      "    fold_turn = line_idx % 5\n",
      "    words = line.split()\n",
      "    for word in words:\n",
      "        if word in ref_names:\n",
      "            line_sorted = True # Skip clusters with ref proteins\n",
      "    for fold_idx in [(fold_turn + i) % 5 for i in range(5)]:\n",
      "        if len(fold_names[fold_idx]) < 1320 / 5 and not line_sorted:\n",
      "            for word in words:\n",
      "                fold_names[fold_idx].append(word)\n",
      "                line_sorted = True\n",
      "        else:\n",
      "            continue\n",
      "\n",
      "for idx in range(5):\n",
      "    print \"Fold %i: %i proteins\" % (idx, len(fold_names[idx]))\n",
      "    print fold_names[idx][:5]"
     ],
     "language": "python",
     "metadata": {},
     "outputs": [
      {
       "output_type": "stream",
       "stream": "stdout",
       "text": [
        "Fold 0: 264 proteins\n",
        "['MoRFQ9WVL4', 'IID50053', 'IID00277', 'IID50044', 'MoRFQ5RDR1']\n",
        "Fold 1: 264 proteins\n",
        "['MoRFQ74084', 'MoRFA8JZA3', 'MoRFQ5S530', 'MoRFQ7ZNK7', 'MoRFA9RAN7']\n",
        "Fold 2: 264 proteins\n",
        "['IID00272', 'IID00062', 'IID00086', 'IID00088', 'IID00239']\n",
        "Fold 3: 264 proteins\n",
        "['MoRFQ9W705', 'MoRFQ5F393', 'MoRFQ8UVH3', 'MoRFQ98TW1', 'MoRFA8WGE8']\n",
        "Fold 4: 263 proteins\n",
        "['IID00013', 'IID00368', 'IID00091', 'IID00011', 'IID00391']\n"
       ]
      }
     ],
     "prompt_number": 125
    },
    {
     "cell_type": "heading",
     "level": 2,
     "metadata": {},
     "source": [
      "Make Features"
     ]
    },
    {
     "cell_type": "code",
     "collapsed": false,
     "input": [
      "def make_aa_do_features(names, extra=True):\n",
      "\n",
      "    if extra == True:\n",
      "        all_features = np.zeros((1,33))\n",
      "    else:\n",
      "        all_features = np.zeros((1,24))\n",
      "    \n",
      "    for name in names:\n",
      "        \n",
      "        aa_features = get_aa_features_extra(name)\n",
      "        if extra == False:\n",
      "            aa_features = aa_features[:, :20]\n",
      "        do_features = get_disorder_features(name)\n",
      "        aa_do_features = np.hstack((aa_features, do_features))\n",
      "                \n",
      "        all_features = np.vstack((all_features, aa_do_features))\n",
      "        \n",
      "    all_features = all_features[1:,:]\n",
      "    \n",
      "    return all_features"
     ],
     "language": "python",
     "metadata": {},
     "outputs": [],
     "prompt_number": 126
    },
    {
     "cell_type": "code",
     "collapsed": false,
     "input": [
      "fold_features_aa_do = {}\n",
      "fold_features_aae_do = {}\n",
      "for idx in range(5):\n",
      "    fold_features_aa_do[idx] = make_aa_do_features(fold_names[idx], extra=False)\n",
      "    fold_features_aae_do[idx] = make_aa_do_features(fold_names[idx], extra=True)"
     ],
     "language": "python",
     "metadata": {},
     "outputs": [],
     "prompt_number": 127
    },
    {
     "cell_type": "code",
     "collapsed": false,
     "input": [
      "X_ref_aa_do = make_aa_do_features(ref_names, extra=False)\n",
      "X_ref_aae_do = make_aa_do_features(ref_names, extra=True)"
     ],
     "language": "python",
     "metadata": {},
     "outputs": [],
     "prompt_number": 128
    },
    {
     "cell_type": "heading",
     "level": 2,
     "metadata": {},
     "source": [
      "Get Labels"
     ]
    },
    {
     "cell_type": "code",
     "collapsed": false,
     "input": [
      "def morf_labels(name):\n",
      "    y = []\n",
      "    data_filepath = \"/home/freso388/nsc/data/MoRF/\"\n",
      "    data_test_filename = data_filepath + \"MoRF_test.fasta\"\n",
      "    data_train_filename = data_filepath + \"MoRF_training.fasta\"\n",
      "    with open(data_test_filename, \"r\") as test_file:\n",
      "        test_lines = test_file.readlines()\n",
      "    with open(data_train_filename, \"r\") as train_file:\n",
      "        train_lines = train_file.readlines()\n",
      "    \n",
      "    found = False\n",
      "    identifier = name[4:]\n",
      "\n",
      "    for line_idx, line in enumerate(test_lines):\n",
      "        inline_idx = line.find(identifier)\n",
      "        if inline_idx != -1:\n",
      "            found = True\n",
      "            train_name = False\n",
      "            break\n",
      "\n",
      "    if not found:\n",
      "        for line_idx, line in enumerate(train_lines):\n",
      "            inline_idx = line.find(identifier)\n",
      "            if inline_idx != -1:\n",
      "                found = True\n",
      "                train_name = True\n",
      "                break\n",
      "\n",
      "    if found:\n",
      "        if not train_name:\n",
      "            y_vals = list(test_lines[line_idx + 2].strip())\n",
      "            y_vals = [int(y_val) for y_val in y_vals]\n",
      "        else:\n",
      "            y_vals = list(train_lines[line_idx + 2].strip())\n",
      "            y_vals = [int(y_val) for y_val in y_vals]\n",
      "    else:\n",
      "        return \"I'm so sorry!\"\n",
      "\n",
      "    y.extend(y_vals)\n",
      "    \n",
      "    return y"
     ],
     "language": "python",
     "metadata": {},
     "outputs": [],
     "prompt_number": 129
    },
    {
     "cell_type": "code",
     "collapsed": false,
     "input": [
      "def pros_labels(name):\n",
      "    y = []\n",
      "    data_filepath = \"/home/freso388/nsc/data/\"\n",
      "    data_filename = data_filepath + \"allRecords.myformat\"\n",
      "    with open(data_filename, \"r\") as data_file:\n",
      "        lines = data_file.readlines()\n",
      "    \n",
      "    found = False\n",
      "\n",
      "    for line_idx, line in enumerate(lines):\n",
      "        inline_idx = line.find(name)\n",
      "        if inline_idx != -1:\n",
      "            found = True\n",
      "            break\n",
      "\n",
      "    if found:\n",
      "            y_vals = list(lines[line_idx + 3].strip())\n",
      "            y_vals = [int(y_val) for y_val in y_vals[8:]]\n",
      "    else:\n",
      "        return \"I'm so sorry!\"\n",
      "\n",
      "    y.extend(y_vals)\n",
      "    \n",
      "    return y"
     ],
     "language": "python",
     "metadata": {},
     "outputs": [],
     "prompt_number": 130
    },
    {
     "cell_type": "code",
     "collapsed": false,
     "input": [
      "ref_data = pd.read_csv(\"../data/reference_dpb_assignments.tab\",\n",
      "                       sep=\"\\t\", header=0)\n",
      "ref_data.rename(columns={'ref.state':'label'}, inplace=True)\n",
      "\n",
      "def ref_labels(name):\n",
      "    y = ref_data[ref_data[\"target\"] == name].label.ravel().tolist()\n",
      "    \n",
      "    return y"
     ],
     "language": "python",
     "metadata": {},
     "outputs": [],
     "prompt_number": 131
    },
    {
     "cell_type": "code",
     "collapsed": false,
     "input": [
      "fold_labels = {}\n",
      "for idx in range(5):\n",
      "    fold_labels[idx] = []\n",
      "    for name in fold_names[idx]:\n",
      "        if name[0:3] == \"IID\":\n",
      "            y_name = pros_labels(name)\n",
      "        elif name[0:3] == \"MoR\":\n",
      "            y_name = morf_labels(name)\n",
      "        fold_labels[idx].extend(y_name)\n",
      "    fold_labels[idx] = np.array(fold_labels[idx]).reshape((len(fold_labels[idx]), 1))"
     ],
     "language": "python",
     "metadata": {},
     "outputs": [],
     "prompt_number": 132
    },
    {
     "cell_type": "code",
     "collapsed": false,
     "input": [
      "y_ref = np.zeros((1,))\n",
      "for name in ref_names:\n",
      "    y_ref = np.concatenate((y_ref, np.array(ref_labels(name))))\n",
      "y_ref = y_ref[1:]"
     ],
     "language": "python",
     "metadata": {},
     "outputs": [],
     "prompt_number": 133
    },
    {
     "cell_type": "code",
     "collapsed": false,
     "input": [
      "for idx in range(5):\n",
      "    print \"Fold %i: %i examples, %i labels, %i features\" % (idx,\n",
      "                                                            fold_features_aae_do[idx].shape[0],\n",
      "                                                            fold_labels[idx].shape[0],\n",
      "                                                            fold_features_aae_do[idx].shape[1])"
     ],
     "language": "python",
     "metadata": {},
     "outputs": [
      {
       "output_type": "stream",
       "stream": "stdout",
       "text": [
        "Fold 0: 160168 examples, 160168 labels, 33 features\n",
        "Fold 1: 155814 examples, 155814 labels, 33 features\n",
        "Fold 2: 151646 examples, 151646 labels, 33 features\n",
        "Fold 3: 181835 examples, 181835 labels, 33 features\n",
        "Fold 4: 160400 examples, 160400 labels, 33 features\n"
       ]
      }
     ],
     "prompt_number": 134
    },
    {
     "cell_type": "heading",
     "level": 2,
     "metadata": {},
     "source": [
      "Evaluate!"
     ]
    },
    {
     "cell_type": "code",
     "collapsed": false,
     "input": [
      "from sklearn.metrics import make_scorer\n",
      "from sklearn.metrics import matthews_corrcoef\n",
      "mcc = make_scorer(matthews_corrcoef)\n",
      "from sklearn.ensemble import ExtraTreesClassifier\n",
      "\n",
      "et_clf_5jobs = ExtraTreesClassifier(n_estimators=50,\n",
      "                                    class_weight=\"auto\",\n",
      "                                    random_state=42, n_jobs=5)"
     ],
     "language": "python",
     "metadata": {},
     "outputs": [],
     "prompt_number": 135
    },
    {
     "cell_type": "code",
     "collapsed": false,
     "input": [
      "def my_train_test_split(test_idx, fold_features, fold_labels):\n",
      "    if test_idx > 4:\n",
      "        return \"Oh, come on!\"\n",
      "    X_train = np.zeros((1,fold_features[0].shape[1]))\n",
      "    y_train = np.zeros((1,1))\n",
      "    for idx in range(5):\n",
      "        if idx == test_idx:\n",
      "            X_test = fold_features[idx]\n",
      "            y_test = fold_labels[idx]\n",
      "        else:\n",
      "            X_train = np.vstack((X_train, fold_features[idx]))\n",
      "            y_train = np.vstack((y_train, fold_labels[idx]))\n",
      "    \n",
      "    return X_train[1:,:], X_test, np.ravel(y_train[1:,:]), np.ravel(y_test)"
     ],
     "language": "python",
     "metadata": {},
     "outputs": [],
     "prompt_number": 136
    },
    {
     "cell_type": "code",
     "collapsed": false,
     "input": [
      "mcc_scores_aa_do = np.array([np.NaN])\n",
      "for idx in range(5):\n",
      "    X_train, X_test, y_train, y_test = my_train_test_split(idx, fold_features_aa_do, fold_labels)\n",
      "    et_clf_5jobs.fit(X_train, y_train)\n",
      "    mcc_scores_aa_do = np.append(mcc_scores_aa_do, mcc(et_clf_5jobs, X_test, y_test))\n",
      "mcc_scores_aa_do = mcc_scores_aa_do[1:]"
     ],
     "language": "python",
     "metadata": {},
     "outputs": [],
     "prompt_number": 137
    },
    {
     "cell_type": "code",
     "collapsed": false,
     "input": [
      "mcc_scores_aae_do = np.array([np.NaN])\n",
      "for idx in range(5):\n",
      "    X_train, X_test, y_train, y_test = my_train_test_split(idx, fold_features_aae_do, fold_labels)\n",
      "    et_clf_5jobs.fit(X_train, y_train)\n",
      "    mcc_scores_aae_do = np.append(mcc_scores_aae_do, mcc(et_clf_5jobs, X_test, y_test))\n",
      "mcc_scores_aae_do = mcc_scores_aae_do[1:]"
     ],
     "language": "python",
     "metadata": {},
     "outputs": [],
     "prompt_number": 138
    },
    {
     "cell_type": "code",
     "collapsed": false,
     "input": [
      "data = {\"mcc_score\": np.hstack((mcc_scores_aa_do, mcc_scores_aae_do)),\n",
      "        \"features\": [\"aa_do\"] * 5 + [\"aae_do\"] * 5}\n",
      "data = pd.DataFrame(data)\n",
      "sns.factorplot(\"features\", \"mcc_score\", data=data, kind=\"bar\")"
     ],
     "language": "python",
     "metadata": {},
     "outputs": [
      {
       "metadata": {},
       "output_type": "pyout",
       "prompt_number": 139,
       "text": [
        "<seaborn.axisgrid.FacetGrid at 0x7f9fac130090>"
       ]
      },
      {
       "metadata": {},
       "output_type": "display_data",
       "png": "[encoded data removed]",
       "text": [
        "<matplotlib.figure.Figure at 0x7f9fae273d90>"
       ]
      }
     ],
     "prompt_number": 139
    },
    {
     "cell_type": "heading",
     "level": 3,
     "metadata": {},
     "source": [
      "Evaluate using Disopred's validation set"
     ]
    },
    {
     "cell_type": "code",
     "collapsed": false,
     "input": [
      "X_all_aa_do = np.zeros((1,24))\n",
      "X_all_aae_do = np.zeros((1,33))\n",
      "y_all = np.zeros((1,))\n",
      "for idx in range(5):\n",
      "    X_all_aa_do = np.vstack((X_all_aa_do, fold_features_aa_do[idx]))\n",
      "    X_all_aae_do = np.vstack((X_all_aae_do, fold_features_aae_do[idx]))\n",
      "    y_all = np.vstack((y_all, fold_labels[idx]))\n",
      "X_all_aa_do = X_all_aa_do[1:,:]\n",
      "X_all_aae_do = X_all_aae_do[1:,:]\n",
      "y_all = np.ravel(y_all[1:,])"
     ],
     "language": "python",
     "metadata": {},
     "outputs": [],
     "prompt_number": 140
    },
    {
     "cell_type": "code",
     "collapsed": false,
     "input": [
      "et_clf_5jobs.fit(X_all_aa_do, y_all)\n",
      "mcc_score_aa_do = mcc(et_clf_5jobs, X_ref_aa_do, y_ref)"
     ],
     "language": "python",
     "metadata": {},
     "outputs": [],
     "prompt_number": 141
    },
    {
     "cell_type": "code",
     "collapsed": false,
     "input": [
      "et_clf_5jobs.fit(X_all_aae_do, y_all)\n",
      "mcc_score_aae_do = mcc(et_clf_5jobs, X_ref_aae_do, y_ref)"
     ],
     "language": "python",
     "metadata": {},
     "outputs": [],
     "prompt_number": 142
    },
    {
     "cell_type": "code",
     "collapsed": false,
     "input": [
      "data = {\"mcc_score\": np.hstack((mcc_score_aa_do, mcc_score_aae_do)),\n",
      "        \"features\": [\"aa_do\"] + [\"aae_do\"]}\n",
      "data = pd.DataFrame(data)\n",
      "sns.factorplot(\"features\", \"mcc_score\", data=data, kind=\"bar\")"
     ],
     "language": "python",
     "metadata": {},
     "outputs": [
      {
       "metadata": {},
       "output_type": "pyout",
       "prompt_number": 143,
       "text": [
        "<seaborn.axisgrid.FacetGrid at 0x7f9fac935150>"
       ]
      },
      {
       "metadata": {},
       "output_type": "display_data",
       "png": "[encoded data removed]",
       "text": [
        "<matplotlib.figure.Figure at 0x7f9fae178910>"
       ]
      }
     ],
     "prompt_number": 143
    },
    {
     "cell_type": "code",
     "collapsed": false,
     "input": [
      "print mcc_score_aa_do\n",
      "print mcc_score_aae_do"
     ],
     "language": "python",
     "metadata": {},
     "outputs": [
      {
       "output_type": "stream",
       "stream": "stdout",
       "text": [
        "0.0\n",
        "0.0\n"
       ]
      }
     ],
     "prompt_number": 144
    },
    {
     "cell_type": "markdown",
     "metadata": {},
     "source": [
      "(This must mean that it didn't classify a single example correctly.)"
     ]
    },
    {
     "cell_type": "code",
     "collapsed": false,
     "input": [],
     "language": "python",
     "metadata": {},
     "outputs": [],
     "prompt_number": 144
    }
   ],
   "metadata": {}
  }
 ]
}