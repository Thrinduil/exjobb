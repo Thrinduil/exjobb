{
 "metadata": {
  "name": ""
 },
 "nbformat": 3,
 "nbformat_minor": 0,
 "worksheets": [
  {
   "cells": [
    {
     "cell_type": "code",
     "collapsed": false,
     "input": [
      "import numpy as np\n",
      "import matplotlib.pyplot as plt\n",
      "import seaborn as sns\n",
      "import pandas as pd\n",
      "%matplotlib inline"
     ],
     "language": "python",
     "metadata": {},
     "outputs": [],
     "prompt_number": 1
    },
    {
     "cell_type": "heading",
     "level": 1,
     "metadata": {},
     "source": [
      "Which Classifier Should We Use?"
     ]
    },
    {
     "cell_type": "markdown",
     "metadata": {},
     "source": [
      "There are a lot of different classifiers. Which one should we use for this particular problem?\n",
      "\n",
      "Let's try a few and see if one looks promising."
     ]
    },
    {
     "cell_type": "heading",
     "level": 2,
     "metadata": {},
     "source": [
      "The Classifiers"
     ]
    },
    {
     "cell_type": "markdown",
     "metadata": {},
     "source": [
      "I will use 5 different classifiers, all from the machine learning package *scikit-learn*. The features will be put through a scaler that will rescale the features to mean 0 and variance 1. That is important for some of the classifiers (and won't affect the others)."
     ]
    },
    {
     "cell_type": "code",
     "collapsed": false,
     "input": [
      "from sklearn.pipeline import make_pipeline\n",
      "from sklearn.preprocessing import StandardScaler"
     ],
     "language": "python",
     "metadata": {},
     "outputs": [],
     "prompt_number": 2
    },
    {
     "cell_type": "code",
     "collapsed": false,
     "input": [
      "from sklearn.svm import LinearSVC\n",
      "svm_clf = make_pipeline(StandardScaler(),\n",
      "                        LinearSVC(class_weight=\"auto\", random_state=42))"
     ],
     "language": "python",
     "metadata": {},
     "outputs": [],
     "prompt_number": 3
    },
    {
     "cell_type": "code",
     "collapsed": false,
     "input": [
      "from sklearn.linear_model import SGDClassifier\n",
      "sgd_clf = make_pipeline(StandardScaler(),\n",
      "                        SGDClassifier(class_weight=\"auto\", random_state=42))"
     ],
     "language": "python",
     "metadata": {},
     "outputs": [],
     "prompt_number": 4
    },
    {
     "cell_type": "code",
     "collapsed": false,
     "input": [
      "from sklearn.ensemble import RandomForestClassifier\n",
      "rf_clf = make_pipeline(StandardScaler(),\n",
      "                       RandomForestClassifier(n_estimators=50, class_weight=\"auto\",\n",
      "                                              random_state=42))"
     ],
     "language": "python",
     "metadata": {},
     "outputs": [],
     "prompt_number": 5
    },
    {
     "cell_type": "code",
     "collapsed": false,
     "input": [
      "from sklearn.ensemble import ExtraTreesClassifier\n",
      "et_clf = make_pipeline(StandardScaler(),\n",
      "                       ExtraTreesClassifier(n_estimators=50, class_weight=\"auto\",\n",
      "                                            random_state=42))"
     ],
     "language": "python",
     "metadata": {},
     "outputs": [],
     "prompt_number": 6
    },
    {
     "cell_type": "heading",
     "level": 2,
     "metadata": {},
     "source": [
      "Evaluation Score"
     ]
    },
    {
     "cell_type": "markdown",
     "metadata": {},
     "source": [
      "In order to determine which classifer work best, we need some sort of scoring metrics. I will use Matthews correlation coefficient (MCC for short). It takes into account true and false positives and negatives and returns a value between -1 and 1. A coefficient of +1 represents a perfect prediction, 0 no better than random and \u22121 indicates complete disagreement between prediction and observation.\n",
      "\n",
      "MCC is regarded as a balanced measuer even when the classes are of different sizes (as they are in my case; the negative examples outweigh the positives 50 to 1). To coefficient is calculated according to:\n",
      "\n",
      "\\begin{equation*}\n",
      "MCC = \\frac{TP \\times TN - FP \\times FN} {\\sqrt{(TP + FP) (TP + FN) (TN + FP) (TN + FN)}}\n",
      "\\end{equation*}"
     ]
    },
    {
     "cell_type": "code",
     "collapsed": false,
     "input": [
      "from sklearn.metrics import make_scorer\n",
      "from sklearn.metrics import matthews_corrcoef\n",
      "mcc = make_scorer(matthews_corrcoef)"
     ],
     "language": "python",
     "metadata": {},
     "outputs": [],
     "prompt_number": 7
    },
    {
     "cell_type": "heading",
     "level": 2,
     "metadata": {},
     "source": [
      "Cross Validation"
     ]
    },
    {
     "cell_type": "markdown",
     "metadata": {},
     "source": [
      "I will also use stratified 5-fold cross validation to evaluate the classifiers. 5-fold cross validation means that the data will be divided into 5 fold (or parts). The first fold will then be withheld while the classifer is trained on the remaining four parts. The withheld part will then be used as a test set to evaluate the classifier. Next round the second part will be withheld and the classifier trained on part 1, 3, 4 and 5, and then tested on part 2. And so on. The stratified prefix only means that the algorithm will try to fit equal number of positive examples into each fold.\n",
      "\n",
      "But before we can divide our data into folds, we must load it. As for now, I will only use the MoRF dataset."
     ]
    },
    {
     "cell_type": "code",
     "collapsed": false,
     "input": [
      "X_myfeat_morf = np.load(\"../data/X_myfeat_morf.npy\")\n",
      "y_morf = np.load(\"../data/y_morf.npy\")"
     ],
     "language": "python",
     "metadata": {},
     "outputs": [],
     "prompt_number": 8
    },
    {
     "cell_type": "code",
     "collapsed": false,
     "input": [
      "from sklearn.cross_validation import cross_val_score\n",
      "from sklearn.cross_validation import StratifiedKFold\n",
      "cv_morf = StratifiedKFold(y_morf, n_folds=5, shuffle=True, random_state=42)"
     ],
     "language": "python",
     "metadata": {},
     "outputs": [],
     "prompt_number": 9
    },
    {
     "cell_type": "heading",
     "level": 2,
     "metadata": {},
     "source": [
      "And now we fight"
     ]
    },
    {
     "cell_type": "code",
     "collapsed": false,
     "input": [
      "%%time\n",
      "svm_morf_scores = cross_val_score(svm_clf, X_myfeat_morf, y_morf,\n",
      "                                  scoring=mcc, cv=cv_morf, n_jobs=5)\n",
      "%store lin_svm_morf_scores"
     ],
     "language": "python",
     "metadata": {},
     "outputs": [
      {
       "output_type": "stream",
       "stream": "stdout",
       "text": [
        "Stored 'lin_svm_morf_scores' (ndarray)\n",
        "CPU times: user 804 ms, sys: 852 ms, total: 1.66 s\n",
        "Wall time: 15min 41s\n"
       ]
      }
     ],
     "prompt_number": 10
    },
    {
     "cell_type": "code",
     "collapsed": false,
     "input": [
      "%%time\n",
      "sgd_morf_scores = cross_val_score(sgd_clf, X_myfeat_morf, y_morf,\n",
      "                                  scoring=mcc, cv=cv_morf, n_jobs=5)\n",
      "%store sgd_scores"
     ],
     "language": "python",
     "metadata": {},
     "outputs": [
      {
       "output_type": "stream",
       "stream": "stdout",
       "text": [
        "Stored 'sgd_scores' (ndarray)\n",
        "CPU times: user 160 ms, sys: 506 ms, total: 666 ms\n",
        "Wall time: 15.2 s\n"
       ]
      }
     ],
     "prompt_number": 11
    },
    {
     "cell_type": "code",
     "collapsed": false,
     "input": [
      "%%time\n",
      "rf_morf_scores = cross_val_score(rf_clf, X_myfeat_morf, y_morf,\n",
      "                                 scoring=mcc, cv=cv_morf, n_jobs=5)\n",
      "%store rf_scores"
     ],
     "language": "python",
     "metadata": {},
     "outputs": [
      {
       "output_type": "stream",
       "stream": "stdout",
       "text": [
        "Stored 'rf_scores' (ndarray)\n",
        "CPU times: user 353 ms, sys: 600 ms, total: 953 ms\n",
        "Wall time: 6min 20s\n"
       ]
      }
     ],
     "prompt_number": 12
    },
    {
     "cell_type": "code",
     "collapsed": false,
     "input": [
      "%%time\n",
      "et_morf_scores = cross_val_score(et_clf, X_myfeat_morf, y_morf,\n",
      "                                 scoring=mcc, cv=cv_morf, n_jobs=5)\n",
      "%store et_morf_scores"
     ],
     "language": "python",
     "metadata": {},
     "outputs": [
      {
       "output_type": "stream",
       "stream": "stdout",
       "text": [
        "Stored 'et_morf_scores' (ndarray)\n",
        "CPU times: user 386 ms, sys: 610 ms, total: 997 ms\n",
        "Wall time: 5min 25s\n"
       ]
      }
     ],
     "prompt_number": 16
    },
    {
     "cell_type": "heading",
     "level": 2,
     "metadata": {},
     "source": [
      "The moment of truth"
     ]
    },
    {
     "cell_type": "code",
     "collapsed": false,
     "input": [
      "myfeat_data = {\"mcc_score\": np.hstack((svm_morf_scores,\n",
      "                                       sgd_morf_scores,\n",
      "                                       rf_morf_scores,\n",
      "                                       et_morf_scores)),\n",
      "               \"classifier\": ([\"Linear SVM\"] * 5 +\n",
      "                              [\"SGD\"] * 5 +\n",
      "                              [\"Random Forest\"] * 5 +\n",
      "                              [\"Extra Trees\"] * 5),\n",
      "              }\n",
      "myfeat_data = pd.DataFrame(myfeat_data)"
     ],
     "language": "python",
     "metadata": {},
     "outputs": [],
     "prompt_number": 17
    },
    {
     "cell_type": "code",
     "collapsed": false,
     "input": [
      "sns.factorplot(\"classifier\", \"mcc_score\",\n",
      "               data=myfeat_data, kind=\"bar\",\n",
      "               x_order=[classifier for classifier in (myfeat_data.groupby([\"classifier\"])\n",
      "                                                      [\"mcc_score\"].mean().reset_index()\n",
      "                                                      .sort(\"mcc_score\", ascending=False)\n",
      "                                                      [\"classifier\"])])"
     ],
     "language": "python",
     "metadata": {},
     "outputs": [
      {
       "metadata": {},
       "output_type": "pyout",
       "prompt_number": 53,
       "text": [
        "<seaborn.axisgrid.FacetGrid at 0x7f90b2662650>"
       ]
      },
      {
       "metadata": {},
       "output_type": "display_data",
       "png": "[encoded data removed]",
       "text": [
        "<matplotlib.figure.Figure at 0x7f90b26731d0>"
       ]
      }
     ],
     "prompt_number": 53
    },
    {
     "cell_type": "markdown",
     "metadata": {},
     "source": [
      "It seems that Extra Trees is the most promising classifier. We will use that from now on."
     ]
    }
   ],
   "metadata": {}
  }
 ]
}