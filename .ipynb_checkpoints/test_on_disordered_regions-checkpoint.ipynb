{
 "metadata": {
  "name": ""
 },
 "nbformat": 3,
 "nbformat_minor": 0,
 "worksheets": [
  {
   "cells": [
    {
     "cell_type": "code",
     "collapsed": false,
     "input": [
      "import numpy as np\n",
      "import matplotlib.pyplot as plt\n",
      "import seaborn as sns\n",
      "import pandas as pd\n",
      "%matplotlib inline"
     ],
     "language": "python",
     "metadata": {},
     "outputs": [],
     "prompt_number": 52
    },
    {
     "cell_type": "heading",
     "level": 1,
     "metadata": {},
     "source": [
      "Test on disordered regions"
     ]
    },
    {
     "cell_type": "code",
     "collapsed": false,
     "input": [
      "X_morf = np.load(\"../data/X_myfeat_morf.npy\")\n",
      "X_pros = np.load(\"../data/X_myfeat_pros.npy\")\n",
      "y_morf = np.load(\"../data/y_morf.npy\")\n",
      "y_pros = np.load(\"../data/y_pros.npy\")"
     ],
     "language": "python",
     "metadata": {},
     "outputs": [],
     "prompt_number": 53
    },
    {
     "cell_type": "code",
     "collapsed": false,
     "input": [
      "mask_morf = X_morf[:,320]>=0.5\n",
      "mask_pros = X_pros[:,320]>=0.5"
     ],
     "language": "python",
     "metadata": {},
     "outputs": [],
     "prompt_number": 54
    },
    {
     "cell_type": "code",
     "collapsed": false,
     "input": [
      "X_morf_masked = X_morf[mask_morf]\n",
      "X_pros_masked = X_pros[mask_pros]\n",
      "y_morf_masked = y_morf[mask_morf]\n",
      "y_pros_masked = y_pros[mask_pros]"
     ],
     "language": "python",
     "metadata": {},
     "outputs": [],
     "prompt_number": 55
    },
    {
     "cell_type": "code",
     "collapsed": false,
     "input": [
      "print \"MoRF unmasked: %i positive labels (%.2f%%)\" % (float(np.count_nonzero(y_morf)), (100.0 * np.count_nonzero(y_morf))/len(y_morf))\n",
      "print \"MoRF masked: %i positive labels (%.2f%%)\" % (float(np.count_nonzero(y_masked_morf)), (100.0 * np.count_nonzero(y_masked_morf))/len(y_masked_morf))\n",
      "print \"ProS unmasked: %i positive labels (%.2f%%)\" % (float(np.count_nonzero(y_pros)), (100.0 * np.count_nonzero(y_morf))/len(y_pros))\n",
      "print \"ProS masked: %i positive labels (%.2f%%)\" % (float(np.count_nonzero(y_masked_pros)), (100.0 * np.count_nonzero(y_masked_pros))/len(y_masked_pros))"
     ],
     "language": "python",
     "metadata": {},
     "outputs": [
      {
       "output_type": "stream",
       "stream": "stdout",
       "text": [
        "MoRF unmasked: 9534 positive labels (2.13%)\n",
        "MoRF masked: 3483 positive labels (2.01%)\n",
        "ProS unmasked: 6245 positive labels (2.63%)\n",
        "ProS masked: 3703 positive labels (2.11%)\n"
       ]
      }
     ],
     "prompt_number": 56
    },
    {
     "cell_type": "code",
     "collapsed": false,
     "input": [
      "from sklearn.metrics import make_scorer\n",
      "from sklearn.metrics import matthews_corrcoef\n",
      "mcc = make_scorer(matthews_corrcoef)\n",
      "from sklearn.ensemble import ExtraTreesClassifier\n",
      "\n",
      "et_clf = ExtraTreesClassifier(n_estimators=50,\n",
      "                                    class_weight=\"auto\",\n",
      "                                    random_state=42, n_jobs=7)\n",
      "\n",
      "from sklearn.cross_validation import KFold\n",
      "cv_morf = KFold(len(y_morf), n_folds=5, shuffle=False, random_state=42)\n",
      "cv_morf_masked = KFold(len(y_morf_masked), n_folds=5, shuffle=False, random_state=42)\n",
      "cv_pros = KFold(len(y_pros), n_folds=5, shuffle=False, random_state=42)\n",
      "cv_pros_masked = KFold(len(y_pros_masked), n_folds=5, shuffle=False, random_state=42)\n",
      "\n",
      "from sklearn.cross_validation import cross_val_score"
     ],
     "language": "python",
     "metadata": {},
     "outputs": [],
     "prompt_number": 78
    },
    {
     "cell_type": "code",
     "collapsed": false,
     "input": [
      "scores_morf = cross_val_score(et_clf, X_morf, y_morf, scoring=mcc, cv=cv_morf)\n",
      "scores_pros = cross_val_score(et_clf, X_pros, y_pros, scoring=mcc, cv=cv_pros)"
     ],
     "language": "python",
     "metadata": {},
     "outputs": [],
     "prompt_number": 79
    },
    {
     "cell_type": "code",
     "collapsed": false,
     "input": [
      "scores_morf_masked = cross_val_score(et_clf, X_morf_masked, y_morf_masked, scoring=mcc, cv=cv_morf_masked)\n",
      "scores_pros_masked = cross_val_score(et_clf, X_pros_masked, y_pros_masked, scoring=mcc, cv=cv_pros_masked)"
     ],
     "language": "python",
     "metadata": {},
     "outputs": [],
     "prompt_number": 80
    },
    {
     "cell_type": "code",
     "collapsed": false,
     "input": [
      "data = {\"mcc_score\": np.ravel(np.vstack((scores_morf, scores_pros, scores_morf_masked, scores_pros_masked))),\n",
      "        \"dataset\": ([\"MoRF\"] * 5 + [\"ProS\"] * 5) * 2,\n",
      "        \"masked\": [\"No\"] * 10 + [\"Yes\"] * 10}\n",
      "data = pd.DataFrame(data)"
     ],
     "language": "python",
     "metadata": {},
     "outputs": [],
     "prompt_number": 84
    },
    {
     "cell_type": "code",
     "collapsed": false,
     "input": [
      "sns.factorplot(\"dataset\", \"mcc_score\", \"masked\", data=data, kind=\"bar\")"
     ],
     "language": "python",
     "metadata": {},
     "outputs": [
      {
       "metadata": {},
       "output_type": "pyout",
       "prompt_number": 86,
       "text": [
        "<seaborn.axisgrid.FacetGrid at 0x7fc5a1213710>"
       ]
      },
      {
       "metadata": {},
       "output_type": "display_data",
       "png": "[encoded data removed]",
       "text": [
        "<matplotlib.figure.Figure at 0x7fc5a1213290>"
       ]
      }
     ],
     "prompt_number": 86
    },
    {
     "cell_type": "heading",
     "level": 2,
     "metadata": {},
     "source": [
      "Are protean regions disordered anyways?"
     ]
    },
    {
     "cell_type": "code",
     "collapsed": false,
     "input": [
      "X_morf_protean = X_morf[y_morf.astype(\"bool\")]\n",
      "X_morf_not_protean = X_morf[np.logical_not(y_morf.astype(\"bool\"))]\n",
      "X_pros_protean = X_pros[y_pros.astype(\"bool\")]\n",
      "X_pros_not_protean = X_pros[np.logical_not(y_pros.astype(\"bool\"))]"
     ],
     "language": "python",
     "metadata": {},
     "outputs": [],
     "prompt_number": 114
    },
    {
     "cell_type": "code",
     "collapsed": false,
     "input": [
      "disorder_data = {\"disorder_score\": np.ravel(np.hstack((X_morf_protean[:,320],\n",
      "                                                       X_morf_not_protean[:,320],\n",
      "                                                       X_morf[:,320],\n",
      "                                                       X_pros_protean[:,320],\n",
      "                                                       X_pros_not_protean[:,320],\n",
      "                                                       X_pros[:,320]))),\n",
      "                 \"protean_regions\": ([\"Yes\"] * len(X_morf_protean[:,320]) + \n",
      "                                     [\"No\"] * len(X_morf_not_protean[:,320]) +\n",
      "                                     [\"Both\"] * len(X_morf[:,320]) +\n",
      "                                     [\"Yes\"] * len(X_pros_protean[:,320]) + \n",
      "                                     [\"No\"] * len(X_pros_not_protean[:,320]) +\n",
      "                                     [\"Both\"] * len(X_pros[:,320])),\n",
      "                 \"dataset\": [\"MoRF\"] * (len(X_morf[:,320]) * 2) + [\"ProS\"] * (len(X_pros[:,320]) * 2)}\n",
      "disorder_data = pd.DataFrame(disorder_data)"
     ],
     "language": "python",
     "metadata": {},
     "outputs": [],
     "prompt_number": 140
    },
    {
     "cell_type": "code",
     "collapsed": false,
     "input": [
      "sns.factorplot(\"dataset\", \"disorder_score\", \"protean_regions\", data=disorder_data, kind=\"bar\")"
     ],
     "language": "python",
     "metadata": {},
     "outputs": [
      {
       "metadata": {},
       "output_type": "pyout",
       "prompt_number": 142,
       "text": [
        "<seaborn.axisgrid.FacetGrid at 0x7fc565125250>"
       ]
      },
      {
       "metadata": {},
       "output_type": "display_data",
       "png": "[encoded data removed]",
       "text": [
        "<matplotlib.figure.Figure at 0x7fc565125190>"
       ]
      }
     ],
     "prompt_number": 142
    },
    {
     "cell_type": "code",
     "collapsed": false,
     "input": [],
     "language": "python",
     "metadata": {},
     "outputs": []
    }
   ],
   "metadata": {}
  }
 ]
}