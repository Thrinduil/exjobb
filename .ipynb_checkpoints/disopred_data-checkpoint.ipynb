{
 "metadata": {
  "name": ""
 },
 "nbformat": 3,
 "nbformat_minor": 0,
 "worksheets": [
  {
   "cells": [
    {
     "cell_type": "code",
     "collapsed": false,
     "input": [
      "import numpy as np"
     ],
     "language": "python",
     "metadata": {},
     "outputs": [],
     "prompt_number": 1
    },
    {
     "cell_type": "heading",
     "level": 3,
     "metadata": {},
     "source": [
      "Sort names"
     ]
    },
    {
     "cell_type": "code",
     "collapsed": false,
     "input": [
      "with open(\"/home/freso388/nsc/data/names.test\", \"r\") as inFile:\n",
      "    names = eval(inFile.read())\n",
      "print \"Number of names: %i\" % len(names)"
     ],
     "language": "python",
     "metadata": {},
     "outputs": [
      {
       "output_type": "stream",
       "stream": "stdout",
       "text": [
        "Number of names: 1320\n"
       ]
      }
     ],
     "prompt_number": 2
    },
    {
     "cell_type": "code",
     "collapsed": false,
     "input": [
      "names = [name.strip() for name in names]\n",
      "names.sort()\n",
      "for idx, name in enumerate(names):\n",
      "    if name[0] == 'M':\n",
      "        break\n",
      "pros_names = names[:557]\n",
      "morf_names = names[557:]\n",
      "print pros_names[-3:], len(pros_names)\n",
      "print morf_names[:3], len(morf_names)"
     ],
     "language": "python",
     "metadata": {},
     "outputs": [
      {
       "output_type": "stream",
       "stream": "stdout",
       "text": [
        "['IID90003', 'IID90004', 'IID90005'] 557\n",
        "['MoRFA0A274', 'MoRFA0A3I6', 'MoRFA0HIA4'] 763\n"
       ]
      }
     ],
     "prompt_number": 3
    },
    {
     "cell_type": "heading",
     "level": 3,
     "metadata": {},
     "source": [
      "Get features from Disopred profile"
     ]
    },
    {
     "cell_type": "code",
     "collapsed": false,
     "input": [
      "def read_feature_file(names):\n",
      "    X = np.zeros((1, 324)) # This row will be deleted later!\n",
      "    for name in names:\n",
      "        filepath = \"/home/freso388/nsc/disopred/output/\"\n",
      "        filename = filepath + name + \".in_svm_dat\"\n",
      "        with open(filename, \"r\") as inFile:\n",
      "            lines = inFile.readlines()\n",
      "        for line in lines:\n",
      "            words = line.split()\n",
      "            x = np.zeros((1, 324))\n",
      "            for word in words[1:-2]:\n",
      "                colon_idx = word.find(\":\")\n",
      "                f_idx = int(word[:colon_idx])\n",
      "                f_val = float(word[colon_idx + 1:])\n",
      "                x[0, f_idx - 1] = f_val\n",
      "            X = np.vstack((X,x))\n",
      "    X = np.delete(X, (0), axis=0)\n",
      "    return X"
     ],
     "language": "python",
     "metadata": {},
     "outputs": [],
     "prompt_number": 4
    },
    {
     "cell_type": "code",
     "collapsed": false,
     "input": [
      "X_morf = read_feature_file(morf_names)\n",
      "np.save(\"../data/X_disopred_morf\", X_morf)\n",
      "print \"X:\", X_morf.shape"
     ],
     "language": "python",
     "metadata": {},
     "outputs": [
      {
       "output_type": "stream",
       "stream": "stdout",
       "text": [
        "X: (448069, 324)\n"
       ]
      }
     ],
     "prompt_number": 5
    },
    {
     "cell_type": "code",
     "collapsed": false,
     "input": [
      "X_pros = read_feature_file(pros_names)\n",
      "np.save(\"../data/X_disopred_pros\", X_pros)\n",
      "print \"X:\", X_pros.shape"
     ],
     "language": "python",
     "metadata": {},
     "outputs": [
      {
       "output_type": "stream",
       "stream": "stdout",
       "text": [
        "X: (362298, 324)\n"
       ]
      }
     ],
     "prompt_number": 6
    },
    {
     "cell_type": "code",
     "collapsed": false,
     "input": [
      "X_both = np.vstack((X_pros, X_morf))\n",
      "np.save(\"../data/X_disopred_both\", X_both)\n",
      "print \"X:\", X_botnp.vstack"
     ],
     "language": "python",
     "metadata": {},
     "outputs": [
      {
       "output_type": "stream",
       "stream": "stdout",
       "text": [
        "X: (810367, 324)\n"
       ]
      }
     ],
     "prompt_number": 7
    },
    {
     "cell_type": "heading",
     "level": 3,
     "metadata": {},
     "source": [
      "Get MoRF labels"
     ]
    },
    {
     "cell_type": "code",
     "collapsed": false,
     "input": [
      "def morf_labels(morf_names):\n",
      "    y = []\n",
      "    data_filepath = \"/home/freso388/nsc/data/MoRF/\"\n",
      "    data_test_filename = data_filepath + \"MoRF_test.fasta\"\n",
      "    data_train_filename = data_filepath + \"MoRF_training.fasta\"\n",
      "    with open(data_test_filename, \"r\") as test_file:\n",
      "        test_lines = test_file.readlines()\n",
      "    with open(data_train_filename, \"r\") as train_file:\n",
      "        train_lines = train_file.readlines()\n",
      "    \n",
      "    for name in morf_names:\n",
      "        found = False\n",
      "        identifier = name[4:]\n",
      "    \n",
      "        for line_idx, line in enumerate(test_lines):\n",
      "            inline_idx = line.find(identifier)\n",
      "            if inline_idx != -1:\n",
      "                found = True\n",
      "                train_name = False\n",
      "                break\n",
      "    \n",
      "        if not found:\n",
      "            for line_idx, line in enumerate(train_lines):\n",
      "                inline_idx = line.find(identifier)\n",
      "                if inline_idx != -1:\n",
      "                    found = True\n",
      "                    train_name = True\n",
      "                    break\n",
      "    \n",
      "        if found:\n",
      "            if not train_name:\n",
      "                y_vals = list(test_lines[line_idx + 2].strip())\n",
      "                y_vals = [int(y_val) for y_val in y_vals]\n",
      "            else:\n",
      "                y_vals = list(train_lines[line_idx + 2].strip())\n",
      "                y_vals = [int(y_val) for y_val in y_vals]\n",
      "        else:\n",
      "            return \"I'm so sorry!\"\n",
      "    \n",
      "        y.extend(y_vals)\n",
      "    \n",
      "    y = np.array(y)\n",
      "    return y"
     ],
     "language": "python",
     "metadata": {},
     "outputs": [],
     "prompt_number": 146
    },
    {
     "cell_type": "code",
     "collapsed": false,
     "input": [
      "y_morf = morf_labels(morf_names)\n",
      "np.save(\"../data/y_morf\", y_morf)\n",
      "print y_morf.shape"
     ],
     "language": "python",
     "metadata": {},
     "outputs": []
    },
    {
     "cell_type": "heading",
     "level": 3,
     "metadata": {},
     "source": [
      "Get Ideal labels"
     ]
    },
    {
     "cell_type": "code",
     "collapsed": false,
     "input": [
      "def pros_labels(pros_names):\n",
      "    y = []\n",
      "    data_filepath = \"/home/freso388/nsc/data/\"\n",
      "    data_filename = data_filepath + \"allRecords.myformat\"\n",
      "    with open(data_filename, \"r\") as data_file:\n",
      "        lines = data_file.readlines()\n",
      "    \n",
      "    for name in pros_names:\n",
      "        found = False\n",
      "    \n",
      "        for line_idx, line in enumerate(lines):\n",
      "            inline_idx = line.find(name)\n",
      "            if inline_idx != -1:\n",
      "                found = True\n",
      "                break\n",
      "    \n",
      "        if found:\n",
      "                y_vals = list(lines[line_idx + 3].strip())\n",
      "                y_vals = [int(y_val) for y_val in y_vals[8:]]\n",
      "        else:\n",
      "            return \"I'm so sorry!\"\n",
      "    \n",
      "        y.extend(y_vals)\n",
      "    \n",
      "    y = np.array(y)\n",
      "    return y"
     ],
     "language": "python",
     "metadata": {},
     "outputs": [],
     "prompt_number": 148
    },
    {
     "cell_type": "code",
     "collapsed": false,
     "input": [
      "y_pros = pros_labels(pros_names)\n",
      "np.save(\"../data/y_pros\", y_pros)\n",
      "print y_pros.shape"
     ],
     "language": "python",
     "metadata": {},
     "outputs": [
      {
       "output_type": "stream",
       "stream": "stdout",
       "text": [
        "(362298,)\n"
       ]
      }
     ],
     "prompt_number": 149
    },
    {
     "cell_type": "code",
     "collapsed": false,
     "input": [],
     "language": "python",
     "metadata": {},
     "outputs": []
    }
   ],
   "metadata": {}
  }
 ]
}