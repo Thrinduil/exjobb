{
 "metadata": {
  "name": ""
 },
 "nbformat": 3,
 "nbformat_minor": 0,
 "worksheets": [
  {
   "cells": [
    {
     "cell_type": "heading",
     "level": 1,
     "metadata": {},
     "source": [
      "Proteus"
     ]
    },
    {
     "cell_type": "markdown",
     "metadata": {},
     "source": [
      "Proteus is a new predictor for protean segments developed by Fredrik S\u00f6derquist as a Master Thesis at Link\u00f6ping University under Bj\u00f6rn Wallner."
     ]
    },
    {
     "cell_type": "markdown",
     "metadata": {},
     "source": [
      "The thesis is not yet published, but the code written for the project is available on Github (https://github.com/Thrinduil/exjobb)."
     ]
    },
    {
     "cell_type": "markdown",
     "metadata": {},
     "source": [
      "The code follow the thesis' chapters and can be viewed through nbviewer:"
     ]
    },
    {
     "cell_type": "markdown",
     "metadata": {},
     "source": [
      "Chapter 3: http://nbviewer.ipython.org/github/Thrinduil/exjobb/blob/master/Proteus%20-%20Chapter%203.ipynb"
     ]
    },
    {
     "cell_type": "markdown",
     "metadata": {},
     "source": [
      "Chapter 4: http://nbviewer.ipython.org/github/Thrinduil/exjobb/blob/master/Proteus%20-%20Chapter%204.ipynb"
     ]
    },
    {
     "cell_type": "markdown",
     "metadata": {},
     "source": [
      "Chapter 5: http://nbviewer.ipython.org/github/Thrinduil/exjobb/blob/master/Proteus%20-%20Chapter%205.ipynb"
     ]
    }
   ],
   "metadata": {}
  }
 ]
}