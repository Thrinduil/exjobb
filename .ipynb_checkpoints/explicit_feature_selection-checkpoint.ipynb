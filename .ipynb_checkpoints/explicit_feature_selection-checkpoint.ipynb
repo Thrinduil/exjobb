{
 "metadata": {
  "name": ""
 },
 "nbformat": 3,
 "nbformat_minor": 0,
 "worksheets": [
  {
   "cells": [
    {
     "cell_type": "code",
     "collapsed": false,
     "input": [
      "import numpy as np\n",
      "import matplotlib.pyplot as plt\n",
      "import seaborn as sns\n",
      "import pandas as pd\n",
      "%matplotlib inline\n",
      "sns.set(context='paper', style='darkgrid', palette='deep', font='sans-serif', font_scale=1.2, rc=None)"
     ],
     "language": "python",
     "metadata": {},
     "outputs": [],
     "prompt_number": 36
    },
    {
     "cell_type": "code",
     "collapsed": false,
     "input": [
      "y_clstr = np.load(\"../data/y_clstr.npy\")\n",
      "X_clstr = np.load(\"../data/X_clstr.npy\")\n",
      "splits = np.load(\"../data/splits.npy\")\n",
      "X_clstr_ps = X_clstr[:,:300]\n",
      "X_clstr_aa = X_clstr[:,300:320]\n",
      "X_clstr_do = X_clstr[:,320:327]\n",
      "X_clstr_ss = X_clstr[:,327:330]\n",
      "X_clstr_ap = X_clstr[:,330:339]\n",
      "X_clstr_to = X_clstr[:,339:341]\n",
      "X_clstr_co = X_clstr[:,341:342]"
     ],
     "language": "python",
     "metadata": {},
     "outputs": [],
     "prompt_number": 2
    },
    {
     "cell_type": "code",
     "collapsed": false,
     "input": [
      "from sklearn.metrics import make_scorer\n",
      "from sklearn.metrics import matthews_corrcoef\n",
      "from sklearn.metrics import f1_score\n",
      "mcc = make_scorer(matthews_corrcoef)\n",
      "f1 = make_scorer(f1_score)\n",
      "\n",
      "from sklearn.cross_validation import cross_val_score\n",
      "from sklearn.cross_validation import PredefinedSplit\n",
      "cv = PredefinedSplit(test_fold=splits)\n",
      "\n",
      "from sklearn.ensemble import ExtraTreesClassifier\n",
      "et_clf = ExtraTreesClassifier(n_estimators=50, n_jobs=8, random_state=42, class_weight=\"auto\", max_depth=10)\n",
      "\n",
      "from sklearn.ensemble import RandomForestClassifier\n",
      "rf_clf = RandomForestClassifier(n_estimators=50, n_jobs=8, random_state=42, class_weight=\"auto\", max_depth=10)"
     ],
     "language": "python",
     "metadata": {},
     "outputs": [],
     "prompt_number": 3
    },
    {
     "cell_type": "code",
     "collapsed": false,
     "input": [
      "X_clstr_dict = {\"ps\": X_clstr_ps,\n",
      "                \"aa\": X_clstr_aa,\n",
      "                \"do\": X_clstr_do,\n",
      "                \"ss\": X_clstr_ss,\n",
      "                \"ap\": X_clstr_ap,\n",
      "                \"to\": X_clstr_to,\n",
      "                \"co\": X_clstr_co}"
     ],
     "language": "python",
     "metadata": {},
     "outputs": [],
     "prompt_number": 4
    },
    {
     "cell_type": "code",
     "collapsed": false,
     "input": [
      "%%time\n",
      "from itertools import chain, combinations\n",
      "def all_subsets(ss):\n",
      "    return chain(*map(lambda x: combinations(ss, x), range(1, len(ss)+1)))\n",
      "\n",
      "feature_tags = [\"ps\", \"aa\", \"do\", \"ss\", \"ap\", \"to\", \"co\"]\n",
      "tags = []\n",
      "\n",
      "clstr_features_scores = {}\n",
      "for subset in all_subsets(feature_tags):\n",
      "    tag = \"_\".join(list(subset))\n",
      "    tags.append(tag)\n",
      "    \n",
      "    clstr_features = np.zeros((X_clstr_dict[\"ps\"].shape[0], 1))\n",
      "    for feat_set in subset:\n",
      "        clstr_features = np.hstack((clstr_features, X_clstr_dict[feat_set]))  \n",
      "    clstr_features = clstr_features[:,1:]\n",
      "    \n",
      "    clstr_features_scores[tag] = cross_val_score(rf_clf, clstr_features, y_clstr,\n",
      "                                                 scoring=mcc, cv=cv)\n",
      "\n",
      "%store clstr_features_scores\n",
      "%store tags"
     ],
     "language": "python",
     "metadata": {},
     "outputs": [],
     "prompt_number": "*"
    },
    {
     "cell_type": "code",
     "collapsed": false,
     "input": [
      "scores = []\n",
      "first_time = True\n",
      "temp_scores = []\n",
      "for idx, score in enumerate(feature_data[\"MCC score\"]):\n",
      "    if idx % 5 == 0 and not first_time:\n",
      "        scores.append(np.array(temp_scores).mean())\n",
      "        temp_scores = []\n",
      "    temp_scores.append(score)\n",
      "    first_time = False\n",
      "scores.append(np.array(temp_scores).mean())\n",
      "scores = np.array(scores)\n",
      "scores.sort()"
     ],
     "language": "python",
     "metadata": {},
     "outputs": [],
     "prompt_number": 4
    },
    {
     "cell_type": "code",
     "collapsed": false,
     "input": [
      "y_labels = [features for features in (feature_data.groupby([\"Feature groups\"])\n",
      "                                                      [\"MCC score\"].mean().reset_index()\n",
      "                                                      .sort(\"MCC score\", ascending=True)\n",
      "                                                      [\"Feature groups\"])]\n",
      "import string\n",
      "y_labels_space = []\n",
      "for label in y_labels:\n",
      "    y_labels_space.append(string.replace(label, \"_\", \" \"))\n",
      "y_labels_num = []\n",
      "for label in y_labels_space:\n",
      "    tmp_label = []\n",
      "    for word in label.split():\n",
      "        if word == \"ps\":\n",
      "            tmp_label.append('1')\n",
      "        elif word == \"aa\":\n",
      "            tmp_label.append('2')\n",
      "        elif word == \"do\":\n",
      "            tmp_label.append('3')\n",
      "        elif word == \"ss\":\n",
      "            tmp_label.append('4')\n",
      "        elif word == \"ap\":\n",
      "            tmp_label.append('5')\n",
      "        elif word == \"to\":\n",
      "            tmp_label.append('6')\n",
      "        elif word == \"co\":\n",
      "            tmp_label.append('7')\n",
      "    y_labels_num.append(\", \".join(tmp_label))\n",
      "y_pos = np.arange(len(y_labels))"
     ],
     "language": "python",
     "metadata": {},
     "outputs": [],
     "prompt_number": 5
    },
    {
     "cell_type": "code",
     "collapsed": false,
     "input": [
      "plt.figure(figsize=(7, 4.33))\n",
      "plt.barh(y_pos[:20], scores[-20:], height=0.7, align='center')\n",
      "plt.yticks(y_pos[:20], y_labels_num[-20:])\n",
      "plt.ylim(-0.8,19.8)\n",
      "plt.xlabel(\"MCC score\")\n",
      "plt.ylabel(\"Feature groups\")\n",
      "plt.savefig('feature_selection_hbar.pdf', bbox_inches='tight')\n",
      "plt.show()"
     ],
     "language": "python",
     "metadata": {},
     "outputs": [
      {
       "metadata": {},
       "output_type": "display_data",
       "png": "[encoded data removed]",
       "text": [
        "<matplotlib.figure.Figure at 0x7f8bc833de10>"
       ]
      }
     ],
     "prompt_number": 37
    },
    {
     "cell_type": "code",
     "collapsed": false,
     "input": [],
     "language": "python",
     "metadata": {},
     "outputs": []
    }
   ],
   "metadata": {}
  }
 ]
}