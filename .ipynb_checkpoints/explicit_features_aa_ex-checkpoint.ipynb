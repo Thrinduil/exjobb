{
 "metadata": {
  "name": ""
 },
 "nbformat": 3,
 "nbformat_minor": 0,
 "worksheets": [
  {
   "cells": [
    {
     "cell_type": "code",
     "collapsed": false,
     "input": [
      "import numpy as np\n",
      "import matplotlib.pyplot as plt\n",
      "import seaborn as sns\n",
      "import pandas as pd\n",
      "%matplotlib inline"
     ],
     "language": "python",
     "metadata": {},
     "outputs": [],
     "prompt_number": 1
    },
    {
     "cell_type": "code",
     "collapsed": false,
     "input": [
      "y_clstr = np.load(\"../data/y_clstr.npy\")\n",
      "X_clstr = np.load(\"../data/X_clstr.npy\")\n",
      "X_clstr_aa = X_clstr[:,300:320]\n",
      "X_clstr_ex = X_clstr[:,327:336]\n",
      "X_clstr_aa_ex = np.hstack((X_clstr_aa, X_clstr_ex))"
     ],
     "language": "python",
     "metadata": {},
     "outputs": [],
     "prompt_number": 2
    },
    {
     "cell_type": "code",
     "collapsed": false,
     "input": [
      "from sklearn.metrics import make_scorer\n",
      "from sklearn.metrics import matthews_corrcoef\n",
      "mcc = make_scorer(matthews_corrcoef)\n",
      "\n",
      "from sklearn.cross_validation import cross_val_score\n",
      "from sklearn.cross_validation import KFold\n",
      "cv = KFold(len(y_clstr), n_folds=5, shuffle=False, random_state=42)\n",
      "\n",
      "from sklearn.ensemble import ExtraTreesClassifier\n",
      "et_clf = ExtraTreesClassifier(n_estimators=50, n_jobs=7, random_state=42, class_weight=\"auto\")"
     ],
     "language": "python",
     "metadata": {},
     "outputs": [],
     "prompt_number": 3
    },
    {
     "cell_type": "heading",
     "level": 2,
     "metadata": {},
     "source": [
      "How many trees make a forest?"
     ]
    },
    {
     "cell_type": "code",
     "collapsed": false,
     "input": [
      "estimators = np.logspace(np.log2(1), np.log2(100), 10, base=2)"
     ],
     "language": "python",
     "metadata": {},
     "outputs": [],
     "prompt_number": 4
    },
    {
     "cell_type": "code",
     "collapsed": false,
     "input": [
      "%%time\n",
      "trees_score = []\n",
      "for n_estimators in estimators.astype(int):\n",
      "    et_clf_trees = ExtraTreesClassifier(n_estimators=n_estimators,\n",
      "                                        class_weight=\"auto\",\n",
      "                                        random_state=42, n_jobs=7)\n",
      "    trees_score.append(cross_val_score(et_clf_trees, X_clstr_aa_ex, y_clstr,\n",
      "                                       scoring=mcc, cv=cv))\n",
      "%store trees_score"
     ],
     "language": "python",
     "metadata": {},
     "outputs": [
      {
       "output_type": "stream",
       "stream": "stdout",
       "text": [
        "Stored 'trees_score' (list)\n",
        "CPU times: user 1h 15min 47s, sys: 23.5 s, total: 1h 16min 10s\n",
        "Wall time: 12min 7s\n"
       ]
      }
     ],
     "prompt_number": 5
    },
    {
     "cell_type": "code",
     "collapsed": false,
     "input": [
      "plt.errorbar(estimators.astype(int), np.array(trees_score).mean(axis=1), yerr=np.array(trees_score).std(axis=1))\n",
      "plt.xscale(\"log\")\n",
      "plt.show()"
     ],
     "language": "python",
     "metadata": {},
     "outputs": [
      {
       "metadata": {},
       "output_type": "display_data",
       "png": "[encoded data removed]",
       "text": [
        "<matplotlib.figure.Figure at 0x7f808d16b1d0>"
       ]
      }
     ],
     "prompt_number": 6
    },
    {
     "cell_type": "heading",
     "level": 2,
     "metadata": {},
     "source": [
      "Learning Curve"
     ]
    },
    {
     "cell_type": "markdown",
     "metadata": {},
     "source": [
      "Unfortunatly we can't use the built-in learning curve function, because it will split the dataset in a way that don't respect the clustering. So we'll have to make our own learning curve."
     ]
    },
    {
     "cell_type": "code",
     "collapsed": false,
     "input": [
      "percent_of_dataset = np.linspace(0.01, 1, 10)"
     ],
     "language": "python",
     "metadata": {},
     "outputs": [],
     "prompt_number": 7
    },
    {
     "cell_type": "code",
     "collapsed": false,
     "input": [
      "X_folds = {}\n",
      "y_folds = {}\n",
      "total_examples = len(X_clstr_aa_ex)"
     ],
     "language": "python",
     "metadata": {},
     "outputs": [],
     "prompt_number": 24
    },
    {
     "cell_type": "code",
     "collapsed": false,
     "input": [
      "int(len(X_folds[idx]) * percent)"
     ],
     "language": "python",
     "metadata": {},
     "outputs": [
      {
       "metadata": {},
       "output_type": "pyout",
       "prompt_number": 41,
       "text": [
        "161972"
       ]
      }
     ],
     "prompt_number": 41
    },
    {
     "cell_type": "markdown",
     "metadata": {},
     "source": [
      "The plan is to first divide the data into 5 equally sized parts. This will not respect the clusters perfectly (as the proteins are of different sizes, the number of examples differ a bit between the folds), but I think it is good enough."
     ]
    },
    {
     "cell_type": "code",
     "collapsed": false,
     "input": [
      "for idx in range(5):\n",
      "    X_folds[idx] = X_clstr_aa_ex[(total_examples / 5) * idx:(total_examples / 5) * (idx + 1), :]\n",
      "    y_folds[idx] = y_clstr[(total_examples / 5) * idx:(total_examples / 5) * (idx + 1)]"
     ],
     "language": "python",
     "metadata": {},
     "outputs": [],
     "prompt_number": 37
    },
    {
     "cell_type": "markdown",
     "metadata": {},
     "source": [
      "This way we miss three examples at the very end, but I guess we can live with that for now.\n",
      "\n",
      "Then, when we want to use a certain percentage of the whole dataset, we will build that from the 5 folds we made in the previous step. When the 5-fold cross-validation splits the data, it should split it right at the boundries we used when forming the set. If that makes any sense."
     ]
    },
    {
     "cell_type": "code",
     "collapsed": false,
     "input": [
      "%%time\n",
      "test_scores = {}\n",
      "train_scores = {}\n",
      "for percent in percent_of_dataset:\n",
      "    test_scores[percent] = []\n",
      "    train_scores[percent] = []\n",
      "    \n",
      "    X_tmp = np.zeros((1, 29))\n",
      "    y_tmp = np.zeros((1,))\n",
      "    for idx in range(5):\n",
      "        X_tmp = np.vstack((X_tmp, X_folds[idx][:len(X_folds[idx]) * percent, :]))\n",
      "        y_tmp = np.hstack((y_tmp, y_folds[idx][:len(y_folds[idx]) * percent]))\n",
      "    X_tmp = X_tmp[1:,:]\n",
      "    y_tmp = y_tmp[1:]\n",
      "\n",
      "    cv_tmp = KFold(len(y_tmp), n_folds=5, shuffle=False, random_state=42)\n",
      "    for train, test in cv_tmp:\n",
      "        et_clf.fit(X_tmp[train], y_tmp[train])\n",
      "        test_scores[percent].append(mcc(et_clf, X_tmp[test], y_tmp[test]))\n",
      "        train_scores[percent].append(mcc(et_clf, X_tmp[train], y_tmp[train]))\n",
      "%store test_scores\n",
      "%store train_scores"
     ],
     "language": "python",
     "metadata": {},
     "outputs": [],
     "prompt_number": "*"
    },
    {
     "cell_type": "code",
     "collapsed": false,
     "input": [
      "scores_mean = []\n",
      "scores_err = []\n",
      "for percent in percent_of_dataset:\n",
      "    scores_mean.append(scores[percent].mean())\n",
      "    scores_err.append(scores[percent].std())"
     ],
     "language": "python",
     "metadata": {},
     "outputs": [],
     "prompt_number": 34
    },
    {
     "cell_type": "code",
     "collapsed": false,
     "input": [
      "plt.errorbar(percent_of_dataset, scores_mean, yerr=scores_err)"
     ],
     "language": "python",
     "metadata": {},
     "outputs": [
      {
       "metadata": {},
       "output_type": "pyout",
       "prompt_number": 35,
       "text": [
        "<Container object of 3 artists>"
       ]
      },
      {
       "metadata": {},
       "output_type": "display_data",
       "png": "[encoded data removed]",
       "text": [
        "<matplotlib.figure.Figure at 0x7f808ce73410>"
       ]
      }
     ],
     "prompt_number": 35
    },
    {
     "cell_type": "code",
     "collapsed": false,
     "input": [],
     "language": "python",
     "metadata": {},
     "outputs": []
    },
    {
     "cell_type": "heading",
     "level": 2,
     "metadata": {},
     "source": [
      "ROC-Curve"
     ]
    },
    {
     "cell_type": "code",
     "collapsed": false,
     "input": [
      "from sklearn.metrics import roc_curve\n",
      "for train, test in cv:\n",
      "    et_clf.fit(X_clstr_aa_ex[train], y_clstr[train])\n",
      "    y_scores = et_clf.predict_proba(X_clstr_aa_ex[test])\n",
      "    fpr, tpr, _ = roc_curve(y_clstr[test], y_scores[:,1])\n",
      "    plt.plot(fpr, tpr)\n",
      "plt.plot([0,1], [0,1])\n",
      "plt.show()"
     ],
     "language": "python",
     "metadata": {},
     "outputs": []
    }
   ],
   "metadata": {}
  }
 ]
}