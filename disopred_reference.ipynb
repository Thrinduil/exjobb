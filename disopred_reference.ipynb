{
 "metadata": {
  "name": ""
 },
 "nbformat": 3,
 "nbformat_minor": 0,
 "worksheets": [
  {
   "cells": [
    {
     "cell_type": "code",
     "collapsed": false,
     "input": [
      "import numpy as np\n",
      "import matplotlib.pyplot as plt\n",
      "import seaborn as sns\n",
      "import pandas as pd\n",
      "%matplotlib inline"
     ],
     "language": "python",
     "metadata": {},
     "outputs": [],
     "prompt_number": 132
    },
    {
     "cell_type": "heading",
     "level": 3,
     "metadata": {},
     "source": [
      "Read data from file"
     ]
    },
    {
     "cell_type": "code",
     "collapsed": false,
     "input": [
      "import pandas as pd\n",
      "ref_data = pd.read_csv(\"../data/reference_dpb_assignments.tab\", sep=None, header=0)"
     ],
     "language": "python",
     "metadata": {},
     "outputs": [
      {
       "output_type": "stream",
       "stream": "stdout",
       "text": [
        "Using Python parser to sniff delimiter\n"
       ]
      }
     ],
     "prompt_number": 133
    },
    {
     "cell_type": "code",
     "collapsed": false,
     "input": [
      "ref_data.rename(columns={'ref.state':'label'}, inplace=True)"
     ],
     "language": "python",
     "metadata": {},
     "outputs": [],
     "prompt_number": 134
    },
    {
     "cell_type": "code",
     "collapsed": false,
     "input": [
      "names = pd.unique(ref_data.target.ravel()).tolist()"
     ],
     "language": "python",
     "metadata": {},
     "outputs": [],
     "prompt_number": 135
    },
    {
     "cell_type": "code",
     "collapsed": false,
     "input": [
      "refs = {}\n",
      "for name in names:\n",
      "    refs[name] = {}\n",
      "    ref_data_tmp = ref_data[ref_data[\"target\"] == name]\n",
      "    refs[name][\"seq\"] = ref_data_tmp.residue.ravel().tolist()\n",
      "    refs[name][\"label\"] = ref_data_tmp.label.ravel().tolist()"
     ],
     "language": "python",
     "metadata": {},
     "outputs": [],
     "prompt_number": 136
    },
    {
     "cell_type": "heading",
     "level": 3,
     "metadata": {},
     "source": [
      "Make fasta files"
     ]
    },
    {
     "cell_type": "code",
     "collapsed": false,
     "input": [
      "def writeRecordsToFastaFile(records, filename):\n",
      "    \"\"\"\n",
      "    Takes records and a filename and writes the records to the file in\n",
      "    fasta format.\n",
      "    \"\"\"\n",
      "\n",
      "    from Bio import SeqIO\n",
      "\n",
      "    SeqIO.write(records, filename, \"fasta\")\n",
      "\n",
      "    return None"
     ],
     "language": "python",
     "metadata": {},
     "outputs": [],
     "prompt_number": 137
    },
    {
     "cell_type": "code",
     "collapsed": false,
     "input": [
      "from Bio.Seq import Seq\n",
      "from Bio.SeqRecord import SeqRecord\n",
      "from Bio.Alphabet import generic_protein\n",
      "\n",
      "records = []\n",
      "for name in names:\n",
      "    \n",
      "    record = SeqRecord(Seq(\"\".join(refs[name][\"seq\"]), generic_protein),\n",
      "                       id=name,\n",
      "                       letter_annotations={\"labels\": refs[name][\"label\"]})\n",
      "    records.append(record)"
     ],
     "language": "python",
     "metadata": {},
     "outputs": [],
     "prompt_number": 138
    },
    {
     "cell_type": "code",
     "collapsed": false,
     "input": [
      "for idx, name in enumerate(names):\n",
      "    filename = \"../data/references/\" + name + \".fa\"\n",
      "    writeRecordsToFastaFile(records[idx], filename)"
     ],
     "language": "python",
     "metadata": {},
     "outputs": [],
     "prompt_number": 139
    },
    {
     "cell_type": "heading",
     "level": 3,
     "metadata": {},
     "source": [
      "Run Disopred on fasta files"
     ]
    },
    {
     "cell_type": "code",
     "collapsed": false,
     "input": [
      "%%bash\n",
      "# This must be run on Kappa, but here's the code anyway.\n",
      "#/proj/wallner/users/x_bjowa/local/DISOPRED/run_disopred.pl /proj/wallner/users/x_freso/data/references/[name].fa"
     ],
     "language": "python",
     "metadata": {},
     "outputs": [],
     "prompt_number": 140
    },
    {
     "cell_type": "heading",
     "level": 3,
     "metadata": {},
     "source": [
      "Generate features from Disopred files"
     ]
    },
    {
     "cell_type": "code",
     "collapsed": false,
     "input": [
      "def get_score_features(name):\n",
      "    \n",
      "    filename = \"/home/freso388/nsc/disopred/output/\" + name + \".mtx\"\n",
      "    columns = [1, 3, 4, 5, 6, 7, 8, 9, 10, 11,\n",
      "               12, 13, 14, 15, 16, 17, 18, 19, 21, 22]\n",
      "    \n",
      "    with open(filename) as f:\n",
      "        lines = f.readlines()\n",
      "    \n",
      "    row_list = []\n",
      "    for line in lines[14:]:\n",
      "        col_list = []\n",
      "        words = line.split()\n",
      "        for idx in columns:\n",
      "            col_list.append(int(words[idx].strip()))\n",
      "        row_list.append(col_list)\n",
      "    \n",
      "    scoring_matrix = np.array(row_list)\n",
      "    \n",
      "    window_residues = range(-7, 8)\n",
      "    score_features = []\n",
      "    for residue in range(scoring_matrix.shape[0]):\n",
      "        row_scores = []\n",
      "        for window_residue in window_residues:\n",
      "            row = residue + window_residue\n",
      "            if not 0 <= row <= scoring_matrix.shape[0] - 1:\n",
      "                row_scores.extend([0] * 20)\n",
      "            else:\n",
      "                row_scores.extend(scoring_matrix[row,:])\n",
      "        score_features.append(row_scores)\n",
      "        \n",
      "    score_features = np.array(score_features)\n",
      "    \n",
      "    return score_features"
     ],
     "language": "python",
     "metadata": {},
     "outputs": [],
     "prompt_number": 141
    },
    {
     "cell_type": "code",
     "collapsed": false,
     "input": [
      "def get_aa_features(name):\n",
      "    \n",
      "    filename = \"/home/freso388/nsc/disopred/output/\" + name + \".mtx\"\n",
      "    aaList = ['A', 'C', 'D', 'E', 'F', 'G', 'H', 'I', 'K', 'L',\n",
      "              'M', 'N', 'P', 'Q', 'R', 'S', 'T', 'V', 'W', 'Y']\n",
      "    \n",
      "    with open(filename) as f:\n",
      "        lines = f.readlines()\n",
      "    seq = lines[1].strip()\n",
      "    \n",
      "    aa_features = []\n",
      "    for residue in range(len(seq)):\n",
      "        window_residues = range(-7,8)\n",
      "        current_window = []\n",
      "        row_shares = []\n",
      "        for window_residue in window_residues:\n",
      "            idx = residue + window_residue\n",
      "            if not 0 <= idx <= len(seq) - 1:\n",
      "                pass\n",
      "            else:\n",
      "                current_window.extend(seq[idx])\n",
      "    \n",
      "        for aa in aaList:\n",
      "            count = current_window.count(aa)\n",
      "            row_shares.append(round(float(count)/float(len(current_window)), 5))\n",
      "        \n",
      "        aa_features.append(row_shares)\n",
      "    \n",
      "    aa_features = np.array(aa_features)\n",
      "    \n",
      "    return aa_features"
     ],
     "language": "python",
     "metadata": {},
     "outputs": [],
     "prompt_number": 142
    },
    {
     "cell_type": "code",
     "collapsed": false,
     "input": [
      "def get_disorder_features(name):\n",
      "        \n",
      "    filename = \"/home/freso388/nsc/disopred/output/\" + name + \".diso\"\n",
      "    disorder_cutoff = 0.5\n",
      "    \n",
      "    with open(filename) as f:\n",
      "        lines = f.readlines()[3:]\n",
      "    scores = []\n",
      "    for line in lines:\n",
      "        words = line.split()\n",
      "        scores.append(float(words[3].strip()))\n",
      "    \n",
      "    disorder_features = []\n",
      "    for residue in range(len(scores)):\n",
      "        if scores[residue] < disorder_cutoff:\n",
      "            length = 0\n",
      "            start = 0\n",
      "            stop = 0\n",
      "    \n",
      "        else:    \n",
      "            start_idx = residue\n",
      "            found_start = False\n",
      "            at_end = False\n",
      "            while not found_start and not at_end:\n",
      "                if scores[start_idx] >= disorder_cutoff:\n",
      "                    if start_idx == 0:\n",
      "                        at_end = True\n",
      "                    else:\n",
      "                        start_idx -= 1    # Move to next residue and try again\n",
      "                else:\n",
      "                    found_start = True\n",
      "                    start_idx += 1    # The region actually stopped last round\n",
      "            start = round(float(start_idx) / len(scores), 5)\n",
      "    \n",
      "            stop_idx = residue\n",
      "            found_stop = False\n",
      "            at_end = False\n",
      "            while not found_stop and not at_end:\n",
      "                if scores[stop_idx] >= disorder_cutoff:\n",
      "                    if stop_idx == len(scores) - 1:\n",
      "                        at_end = True\n",
      "                    else:\n",
      "                        stop_idx += 1    # Move to next residue and try again\n",
      "                else:\n",
      "                    found_stop = True\n",
      "                    stop_idx -= 1    # The region actually stopped last round\n",
      "            stop = round(float(stop_idx + 1) / len(scores), 5)\n",
      "    \n",
      "            length = stop_idx - start_idx + 1\n",
      "    \n",
      "        score = scores[residue]\n",
      "            \n",
      "        row_features = [score, length, start, stop]\n",
      "    \n",
      "        disorder_features.append(row_features)\n",
      "    \n",
      "    disorder_features = np.array(disorder_features)\n",
      "    \n",
      "    return disorder_features"
     ],
     "language": "python",
     "metadata": {},
     "outputs": [],
     "prompt_number": 143
    },
    {
     "cell_type": "code",
     "collapsed": false,
     "input": [
      "def get_structure_features(name):\n",
      "\n",
      "    filename = \"/home/freso388/nsc/disopred/output/\" + name + \".ss\"\n",
      "    with open(filename) as f:\n",
      "        lines = f.readlines()\n",
      "    scores = []\n",
      "    for line in lines:\n",
      "        words = line.split()\n",
      "        score_coil = float(words[3])\n",
      "        score_helix = float(words[4])\n",
      "        score_extended = float(words[5])\n",
      "        scores.append([score_coil, score_helix, score_extended])\n",
      "    \n",
      "    structure_features = np.array(scores)\n",
      "    \n",
      "    return structure_features"
     ],
     "language": "python",
     "metadata": {},
     "outputs": [],
     "prompt_number": 144
    },
    {
     "cell_type": "code",
     "collapsed": false,
     "input": [
      "def make_features(names):\n",
      "\n",
      "    all_features = np.zeros((1,327))\n",
      "    \n",
      "    for name in names:\n",
      "        \n",
      "        score_features = get_score_features(name)\n",
      "        aa_features = get_aa_features(name)\n",
      "        disorder_features = get_disorder_features(name)\n",
      "        structure_features = get_structure_features(name)\n",
      "        \n",
      "        features = np.hstack((score_features, aa_features, disorder_features, structure_features))\n",
      "        \n",
      "        all_features = np.vstack((all_features, features))\n",
      "        \n",
      "    all_features = all_features[1:,:]\n",
      "    \n",
      "    return all_features"
     ],
     "language": "python",
     "metadata": {},
     "outputs": [],
     "prompt_number": 145
    },
    {
     "cell_type": "code",
     "collapsed": false,
     "input": [
      "ref_features = make_features(names)\n",
      "np.save(\"../data/X_myfeat_ref\", ref_features)"
     ],
     "language": "python",
     "metadata": {},
     "outputs": [],
     "prompt_number": 146
    },
    {
     "cell_type": "heading",
     "level": 3,
     "metadata": {},
     "source": [
      "Get labels"
     ]
    },
    {
     "cell_type": "code",
     "collapsed": false,
     "input": [
      "y_ref = np.zeros((1,))\n",
      "for name in names:\n",
      "    y_ref = np.concatenate((y_ref, refs[name][\"label\"]))\n",
      "y_ref = y_ref[1:]\n",
      "np.save(\"../data/y_ref\", y_ref)"
     ],
     "language": "python",
     "metadata": {},
     "outputs": [],
     "prompt_number": 147
    },
    {
     "cell_type": "heading",
     "level": 3,
     "metadata": {},
     "source": [
      "CLASSIFFY!!!11!!ONE"
     ]
    },
    {
     "cell_type": "code",
     "collapsed": false,
     "input": [
      "from sklearn.metrics import make_scorer\n",
      "from sklearn.metrics import matthews_corrcoef\n",
      "mcc = make_scorer(matthews_corrcoef)\n",
      "from sklearn.ensemble import ExtraTreesClassifier\n",
      "\n",
      "et_clf_5jobs = ExtraTreesClassifier(n_estimators=50,\n",
      "                                    class_weight=\"auto\",\n",
      "                                    random_state=42, n_jobs=5)"
     ],
     "language": "python",
     "metadata": {},
     "outputs": [],
     "prompt_number": 148
    },
    {
     "cell_type": "code",
     "collapsed": false,
     "input": [
      "X_myfeat_ref = np.load(\"../data/X_myfeat_ref.npy\")\n",
      "X_myfeat_morf = np.load(\"../data/X_myfeat_morf.npy\")\n",
      "X_myfeat_pros = np.load(\"../data/X_myfeat_pros.npy\")\n",
      "X_myfeat_both = np.load(\"../data/X_myfeat_both.npy\")\n",
      "y_ref = np.load(\"../data/y_ref.npy\")\n",
      "y_morf = np.load(\"../data/y_morf.npy\")\n",
      "y_pros = np.load(\"../data/y_pros.npy\")\n",
      "y_both = np.load(\"../data/y_both.npy\")"
     ],
     "language": "python",
     "metadata": {},
     "outputs": [],
     "prompt_number": 150
    },
    {
     "cell_type": "code",
     "collapsed": false,
     "input": [
      "et_clf_5jobs.fit(X_myfeat_morf, y_morf)\n",
      "mcc_score_morf = mcc(et_clf_5jobs, X_myfeat_ref, y_ref)"
     ],
     "language": "python",
     "metadata": {},
     "outputs": [],
     "prompt_number": 151
    },
    {
     "cell_type": "code",
     "collapsed": false,
     "input": [
      "et_clf_5jobs.fit(X_myfeat_pros, y_pros)\n",
      "mcc_score_pros = mcc(et_clf_5jobs, X_myfeat_ref, y_ref)"
     ],
     "language": "python",
     "metadata": {},
     "outputs": [],
     "prompt_number": 152
    },
    {
     "cell_type": "code",
     "collapsed": false,
     "input": [
      "et_clf_5jobs.fit(X_myfeat_both, y_both)\n",
      "mcc_score_both = mcc(et_clf_5jobs, X_myfeat_ref, y_ref)"
     ],
     "language": "python",
     "metadata": {},
     "outputs": [],
     "prompt_number": 153
    },
    {
     "cell_type": "code",
     "collapsed": false,
     "input": [
      "print mcc_score_morf\n",
      "print mcc_score_pros\n",
      "print mcc_score_both"
     ],
     "language": "python",
     "metadata": {},
     "outputs": [
      {
       "output_type": "stream",
       "stream": "stdout",
       "text": [
        "0.0\n",
        "-0.019033925838\n",
        "-0.019033925838\n"
       ]
      }
     ],
     "prompt_number": 154
    },
    {
     "cell_type": "heading",
     "level": 3,
     "metadata": {},
     "source": [
      "Again with just aa_do"
     ]
    },
    {
     "cell_type": "code",
     "collapsed": false,
     "input": [
      "y_ref = np.load(\"../data/y_ref.npy\")\n",
      "X_myfeat_ref = np.load(\"../data/X_myfeat_ref.npy\")\n",
      "X_myfeat_ref_aa = X_myfeat_ref[:,300:320]\n",
      "X_myfeat_ref_do = X_myfeat_ref[:,320:324]\n",
      "X_myfeat_ref_aa_do = np.hstack((X_myfeat_ref_aa, X_myfeat_ref_do))\n",
      "\n",
      "y_morf = np.load(\"../data/y_morf.npy\")\n",
      "X_myfeat_morf = np.load(\"../data/X_myfeat_morf.npy\")\n",
      "X_myfeat_morf_aa = X_myfeat_morf[:,300:320]\n",
      "X_myfeat_morf_do = X_myfeat_morf[:,320:324]\n",
      "X_myfeat_morf_aa_do = np.hstack((X_myfeat_morf_aa, X_myfeat_morf_do))\n",
      "\n",
      "y_pros = np.load(\"../data/y_pros.npy\")\n",
      "X_myfeat_pros = np.load(\"../data/X_myfeat_pros.npy\")\n",
      "X_myfeat_pros_aa = X_myfeat_pros[:,300:320]\n",
      "X_myfeat_pros_do = X_myfeat_pros[:,320:324]\n",
      "X_myfeat_pros_aa_do = np.hstack((X_myfeat_pros_aa, X_myfeat_pros_do))\n",
      "\n",
      "y_both = np.load(\"../data/y_both.npy\")\n",
      "X_myfeat_both = np.load(\"../data/X_myfeat_both.npy\")\n",
      "X_myfeat_both_aa = X_myfeat_both[:,300:320]\n",
      "X_myfeat_both_do = X_myfeat_both[:,320:324]\n",
      "X_myfeat_both_aa_do = np.hstack((X_myfeat_both_aa, X_myfeat_both_do))"
     ],
     "language": "python",
     "metadata": {},
     "outputs": [],
     "prompt_number": 155
    },
    {
     "cell_type": "code",
     "collapsed": false,
     "input": [
      "et_clf_5jobs.fit(X_myfeat_morf_aa_do, y_morf)\n",
      "mcc_score_morf_aa_do = mcc(et_clf_5jobs, X_myfeat_ref_aa_do, y_ref)"
     ],
     "language": "python",
     "metadata": {},
     "outputs": [],
     "prompt_number": 156
    },
    {
     "cell_type": "code",
     "collapsed": false,
     "input": [
      "et_clf_5jobs.fit(X_myfeat_pros_aa_do, y_pros)\n",
      "mcc_score_pros_aa_do = mcc(et_clf_5jobs, X_myfeat_ref_aa_do, y_ref)"
     ],
     "language": "python",
     "metadata": {},
     "outputs": [],
     "prompt_number": 157
    },
    {
     "cell_type": "code",
     "collapsed": false,
     "input": [
      "et_clf_5jobs.fit(X_myfeat_both_aa_do, y_both)\n",
      "mcc_score_both_aa_do = mcc(et_clf_5jobs, X_myfeat_ref_aa_do, y_ref)"
     ],
     "language": "python",
     "metadata": {},
     "outputs": [],
     "prompt_number": 158
    },
    {
     "cell_type": "code",
     "collapsed": false,
     "input": [
      "print mcc_score_morf_aa_do\n",
      "print mcc_score_pros_aa_do\n",
      "print mcc_score_both_aa_do"
     ],
     "language": "python",
     "metadata": {},
     "outputs": [
      {
       "output_type": "stream",
       "stream": "stdout",
       "text": [
        "0.0\n",
        "-0.019033925838\n",
        "-0.019033925838\n"
       ]
      }
     ],
     "prompt_number": 159
    },
    {
     "cell_type": "code",
     "collapsed": false,
     "input": [
      "et_clf_5jobs.feature_importances_"
     ],
     "language": "python",
     "metadata": {},
     "outputs": [
      {
       "metadata": {},
       "output_type": "pyout",
       "prompt_number": 160,
       "text": [
        "array([ 0.0447994 ,  0.0278328 ,  0.04272867,  0.04394885,  0.03691862,\n",
        "        0.04241964,  0.03263334,  0.04177477,  0.04757602,  0.04994413,\n",
        "        0.03220694,  0.03730148,  0.04548403,  0.04010354,  0.04826199,\n",
        "        0.0447921 ,  0.04160468,  0.04088142,  0.02313823,  0.03516679,\n",
        "        0.08534345,  0.04029332,  0.03651146,  0.03833433])"
       ]
      }
     ],
     "prompt_number": 160
    },
    {
     "cell_type": "code",
     "collapsed": false,
     "input": [],
     "language": "python",
     "metadata": {},
     "outputs": []
    }
   ],
   "metadata": {}
  }
 ]
}