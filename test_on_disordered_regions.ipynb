{
 "metadata": {
  "name": ""
 },
 "nbformat": 3,
 "nbformat_minor": 0,
 "worksheets": [
  {
   "cells": [
    {
     "cell_type": "code",
     "collapsed": false,
     "input": [
      "import numpy as np\n",
      "import matplotlib.pyplot as plt\n",
      "import seaborn as sns\n",
      "import pandas as pd\n",
      "%matplotlib inline\n",
      "sns.set(context='paper', style='darkgrid', palette='deep', font='sans-serif', font_scale=1.2, rc=None)"
     ],
     "language": "python",
     "metadata": {},
     "outputs": [],
     "prompt_number": 1
    },
    {
     "cell_type": "heading",
     "level": 1,
     "metadata": {},
     "source": [
      "Test on disordered regions"
     ]
    },
    {
     "cell_type": "code",
     "collapsed": false,
     "input": [
      "X_morf = np.load(\"../data/X_myfeat_morf.npy\")\n",
      "X_pros = np.load(\"../data/X_myfeat_pros.npy\")\n",
      "y_morf = np.load(\"../data/y_morf.npy\")\n",
      "y_pros = np.load(\"../data/y_pros.npy\")\n",
      "X_clstr = np.load(\"../data/X_clstr.npy\")\n",
      "y_clstr = np.load(\"../data/y_clstr.npy\")\n",
      "names_clstr = np.load(\"../data/names_clstr.npy\")"
     ],
     "language": "python",
     "metadata": {},
     "outputs": [],
     "prompt_number": 2
    },
    {
     "cell_type": "code",
     "collapsed": false,
     "input": [
      "mask_morf = X_morf[:,320]>=0.5\n",
      "mask_pros = X_pros[:,320]>=0.5\n",
      "mask_clstr = X_clstr[:,320]>=0.5"
     ],
     "language": "python",
     "metadata": {},
     "outputs": [],
     "prompt_number": 3
    },
    {
     "cell_type": "code",
     "collapsed": false,
     "input": [
      "X_morf_masked = X_morf[mask_morf]\n",
      "X_pros_masked = X_pros[mask_pros]\n",
      "X_clstr_masked = X_clstr[mask_clstr]\n",
      "y_morf_masked = y_morf[mask_morf]\n",
      "y_pros_masked = y_pros[mask_pros]\n",
      "y_clstr_masked = y_clstr[mask_clstr]"
     ],
     "language": "python",
     "metadata": {},
     "outputs": [],
     "prompt_number": 4
    },
    {
     "cell_type": "code",
     "collapsed": false,
     "input": [
      "print \"MoRF unmasked: %i positive labels (%.2f%%)\" % (float(np.count_nonzero(y_morf)), (100.0 * np.count_nonzero(y_morf))/len(y_morf))\n",
      "print \"MoRF masked: %i positive labels (%.2f%%)\" % (float(np.count_nonzero(y_morf_masked)), (100.0 * np.count_nonzero(y_morf_masked))/len(y_morf_masked))\n",
      "print \"ProS unmasked: %i positive labels (%.2f%%)\" % (float(np.count_nonzero(y_pros)), (100.0 * np.count_nonzero(y_morf))/len(y_pros))\n",
      "print \"ProS masked: %i positive labels (%.2f%%)\" % (float(np.count_nonzero(y_pros_masked)), (100.0 * np.count_nonzero(y_pros_masked))/len(y_pros_masked))"
     ],
     "language": "python",
     "metadata": {},
     "outputs": [
      {
       "output_type": "stream",
       "stream": "stdout",
       "text": [
        "MoRF unmasked: 9534 positive labels (2.13%)\n",
        "MoRF masked: 3483 positive labels (2.01%)\n",
        "ProS unmasked: 6245 positive labels (2.63%)\n",
        "ProS masked: 3703 positive labels (2.11%)\n"
       ]
      }
     ],
     "prompt_number": 5
    },
    {
     "cell_type": "code",
     "collapsed": false,
     "input": [
      "from sklearn.metrics import make_scorer\n",
      "from sklearn.metrics import matthews_corrcoef\n",
      "mcc = make_scorer(matthews_corrcoef)\n",
      "from sklearn.ensemble import ExtraTreesClassifier\n",
      "\n",
      "et_clf = ExtraTreesClassifier(n_estimators=50,\n",
      "                                    class_weight=\"auto\",\n",
      "                                    random_state=42, n_jobs=7)\n",
      "\n",
      "from sklearn.cross_validation import KFold\n",
      "cv_morf = KFold(len(y_morf), n_folds=5, shuffle=False, random_state=42)\n",
      "cv_morf_masked = KFold(len(y_morf_masked), n_folds=5, shuffle=False, random_state=42)\n",
      "cv_pros = KFold(len(y_pros), n_folds=5, shuffle=False, random_state=42)\n",
      "cv_pros_masked = KFold(len(y_pros_masked), n_folds=5, shuffle=False, random_state=42)\n",
      "cv_clstr = KFold(len(y_clstr), n_folds=5, shuffle=False, random_state=42)\n",
      "cv_clstr_masked = KFold(len(y_clstr_masked), n_folds=5, shuffle=False, random_state=42)\n",
      "\n",
      "from sklearn.cross_validation import cross_val_score"
     ],
     "language": "python",
     "metadata": {},
     "outputs": [],
     "prompt_number": 6
    },
    {
     "cell_type": "code",
     "collapsed": false,
     "input": [
      "scores_morf = cross_val_score(et_clf, X_morf, y_morf, scoring=mcc, cv=cv_morf)\n",
      "scores_pros = cross_val_score(et_clf, X_pros, y_pros, scoring=mcc, cv=cv_pros)\n",
      "scores_clstr = cross_val_score(et_clf, X_clstr, y_clstr, scoring=mcc, cv=cv_clstr)"
     ],
     "language": "python",
     "metadata": {},
     "outputs": [
      {
       "ename": "KeyboardInterrupt",
       "evalue": "",
       "output_type": "pyerr",
       "traceback": [
        "\u001b[0;31m---------------------------------------------------------------------------\u001b[0m\n\u001b[0;31mKeyboardInterrupt\u001b[0m                         Traceback (most recent call last)",
        "\u001b[0;32m<ipython-input-7-b6d86059100e>\u001b[0m in \u001b[0;36m<module>\u001b[0;34m()\u001b[0m\n\u001b[0;32m----> 1\u001b[0;31m \u001b[0mscores_morf\u001b[0m \u001b[0;34m=\u001b[0m \u001b[0mcross_val_score\u001b[0m\u001b[0;34m(\u001b[0m\u001b[0met_clf\u001b[0m\u001b[0;34m,\u001b[0m \u001b[0mX_morf\u001b[0m\u001b[0;34m,\u001b[0m \u001b[0my_morf\u001b[0m\u001b[0;34m,\u001b[0m \u001b[0mscoring\u001b[0m\u001b[0;34m=\u001b[0m\u001b[0mmcc\u001b[0m\u001b[0;34m,\u001b[0m \u001b[0mcv\u001b[0m\u001b[0;34m=\u001b[0m\u001b[0mcv_morf\u001b[0m\u001b[0;34m)\u001b[0m\u001b[0;34m\u001b[0m\u001b[0m\n\u001b[0m\u001b[1;32m      2\u001b[0m \u001b[0mscores_pros\u001b[0m \u001b[0;34m=\u001b[0m \u001b[0mcross_val_score\u001b[0m\u001b[0;34m(\u001b[0m\u001b[0met_clf\u001b[0m\u001b[0;34m,\u001b[0m \u001b[0mX_pros\u001b[0m\u001b[0;34m,\u001b[0m \u001b[0my_pros\u001b[0m\u001b[0;34m,\u001b[0m \u001b[0mscoring\u001b[0m\u001b[0;34m=\u001b[0m\u001b[0mmcc\u001b[0m\u001b[0;34m,\u001b[0m \u001b[0mcv\u001b[0m\u001b[0;34m=\u001b[0m\u001b[0mcv_pros\u001b[0m\u001b[0;34m)\u001b[0m\u001b[0;34m\u001b[0m\u001b[0m\n\u001b[1;32m      3\u001b[0m \u001b[0mscores_clstr\u001b[0m \u001b[0;34m=\u001b[0m \u001b[0mcross_val_score\u001b[0m\u001b[0;34m(\u001b[0m\u001b[0met_clf\u001b[0m\u001b[0;34m,\u001b[0m \u001b[0mX_clstr\u001b[0m\u001b[0;34m,\u001b[0m \u001b[0my_clstr\u001b[0m\u001b[0;34m,\u001b[0m \u001b[0mscoring\u001b[0m\u001b[0;34m=\u001b[0m\u001b[0mmcc\u001b[0m\u001b[0;34m,\u001b[0m \u001b[0mcv\u001b[0m\u001b[0;34m=\u001b[0m\u001b[0mcv_clstr\u001b[0m\u001b[0;34m)\u001b[0m\u001b[0;34m\u001b[0m\u001b[0m\n",
        "\u001b[0;32m/home/freso388/.local/lib/python2.7/site-packages/sklearn/cross_validation.pyc\u001b[0m in \u001b[0;36mcross_val_score\u001b[0;34m(estimator, X, y, scoring, cv, n_jobs, verbose, fit_params, pre_dispatch)\u001b[0m\n\u001b[1;32m   1359\u001b[0m                                               \u001b[0mtrain\u001b[0m\u001b[0;34m,\u001b[0m \u001b[0mtest\u001b[0m\u001b[0;34m,\u001b[0m \u001b[0mverbose\u001b[0m\u001b[0;34m,\u001b[0m \u001b[0mNone\u001b[0m\u001b[0;34m,\u001b[0m\u001b[0;34m\u001b[0m\u001b[0m\n\u001b[1;32m   1360\u001b[0m                                               fit_params)\n\u001b[0;32m-> 1361\u001b[0;31m                       for train, test in cv)\n\u001b[0m\u001b[1;32m   1362\u001b[0m     \u001b[0;32mreturn\u001b[0m \u001b[0mnp\u001b[0m\u001b[0;34m.\u001b[0m\u001b[0marray\u001b[0m\u001b[0;34m(\u001b[0m\u001b[0mscores\u001b[0m\u001b[0;34m)\u001b[0m\u001b[0;34m[\u001b[0m\u001b[0;34m:\u001b[0m\u001b[0;34m,\u001b[0m \u001b[0;36m0\u001b[0m\u001b[0;34m]\u001b[0m\u001b[0;34m\u001b[0m\u001b[0m\n\u001b[1;32m   1363\u001b[0m \u001b[0;34m\u001b[0m\u001b[0m\n",
        "\u001b[0;32m/home/freso388/.local/lib/python2.7/site-packages/sklearn/externals/joblib/parallel.pyc\u001b[0m in \u001b[0;36m__call__\u001b[0;34m(self, iterable)\u001b[0m\n\u001b[1;32m    657\u001b[0m             \u001b[0mself\u001b[0m\u001b[0;34m.\u001b[0m\u001b[0m_iterating\u001b[0m \u001b[0;34m=\u001b[0m \u001b[0mTrue\u001b[0m\u001b[0;34m\u001b[0m\u001b[0m\n\u001b[1;32m    658\u001b[0m             \u001b[0;32mfor\u001b[0m \u001b[0mfunction\u001b[0m\u001b[0;34m,\u001b[0m \u001b[0margs\u001b[0m\u001b[0;34m,\u001b[0m \u001b[0mkwargs\u001b[0m \u001b[0;32min\u001b[0m \u001b[0miterable\u001b[0m\u001b[0;34m:\u001b[0m\u001b[0;34m\u001b[0m\u001b[0m\n\u001b[0;32m--> 659\u001b[0;31m                 \u001b[0mself\u001b[0m\u001b[0;34m.\u001b[0m\u001b[0mdispatch\u001b[0m\u001b[0;34m(\u001b[0m\u001b[0mfunction\u001b[0m\u001b[0;34m,\u001b[0m \u001b[0margs\u001b[0m\u001b[0;34m,\u001b[0m \u001b[0mkwargs\u001b[0m\u001b[0;34m)\u001b[0m\u001b[0;34m\u001b[0m\u001b[0m\n\u001b[0m\u001b[1;32m    660\u001b[0m \u001b[0;34m\u001b[0m\u001b[0m\n\u001b[1;32m    661\u001b[0m             \u001b[0;32mif\u001b[0m \u001b[0mpre_dispatch\u001b[0m \u001b[0;34m==\u001b[0m \u001b[0;34m\"all\"\u001b[0m \u001b[0;32mor\u001b[0m \u001b[0mn_jobs\u001b[0m \u001b[0;34m==\u001b[0m \u001b[0;36m1\u001b[0m\u001b[0;34m:\u001b[0m\u001b[0;34m\u001b[0m\u001b[0m\n",
        "\u001b[0;32m/home/freso388/.local/lib/python2.7/site-packages/sklearn/externals/joblib/parallel.pyc\u001b[0m in \u001b[0;36mdispatch\u001b[0;34m(self, func, args, kwargs)\u001b[0m\n\u001b[1;32m    404\u001b[0m         \"\"\"\n\u001b[1;32m    405\u001b[0m         \u001b[0;32mif\u001b[0m \u001b[0mself\u001b[0m\u001b[0;34m.\u001b[0m\u001b[0m_pool\u001b[0m \u001b[0;32mis\u001b[0m \u001b[0mNone\u001b[0m\u001b[0;34m:\u001b[0m\u001b[0;34m\u001b[0m\u001b[0m\n\u001b[0;32m--> 406\u001b[0;31m             \u001b[0mjob\u001b[0m \u001b[0;34m=\u001b[0m \u001b[0mImmediateApply\u001b[0m\u001b[0;34m(\u001b[0m\u001b[0mfunc\u001b[0m\u001b[0;34m,\u001b[0m \u001b[0margs\u001b[0m\u001b[0;34m,\u001b[0m \u001b[0mkwargs\u001b[0m\u001b[0;34m)\u001b[0m\u001b[0;34m\u001b[0m\u001b[0m\n\u001b[0m\u001b[1;32m    407\u001b[0m             \u001b[0mindex\u001b[0m \u001b[0;34m=\u001b[0m \u001b[0mlen\u001b[0m\u001b[0;34m(\u001b[0m\u001b[0mself\u001b[0m\u001b[0;34m.\u001b[0m\u001b[0m_jobs\u001b[0m\u001b[0;34m)\u001b[0m\u001b[0;34m\u001b[0m\u001b[0m\n\u001b[1;32m    408\u001b[0m             \u001b[0;32mif\u001b[0m \u001b[0;32mnot\u001b[0m \u001b[0m_verbosity_filter\u001b[0m\u001b[0;34m(\u001b[0m\u001b[0mindex\u001b[0m\u001b[0;34m,\u001b[0m \u001b[0mself\u001b[0m\u001b[0;34m.\u001b[0m\u001b[0mverbose\u001b[0m\u001b[0;34m)\u001b[0m\u001b[0;34m:\u001b[0m\u001b[0;34m\u001b[0m\u001b[0m\n",
        "\u001b[0;32m/home/freso388/.local/lib/python2.7/site-packages/sklearn/externals/joblib/parallel.pyc\u001b[0m in \u001b[0;36m__init__\u001b[0;34m(self, func, args, kwargs)\u001b[0m\n\u001b[1;32m    138\u001b[0m         \u001b[0;31m# Don't delay the application, to avoid keeping the input\u001b[0m\u001b[0;34m\u001b[0m\u001b[0;34m\u001b[0m\u001b[0m\n\u001b[1;32m    139\u001b[0m         \u001b[0;31m# arguments in memory\u001b[0m\u001b[0;34m\u001b[0m\u001b[0;34m\u001b[0m\u001b[0m\n\u001b[0;32m--> 140\u001b[0;31m         \u001b[0mself\u001b[0m\u001b[0;34m.\u001b[0m\u001b[0mresults\u001b[0m \u001b[0;34m=\u001b[0m \u001b[0mfunc\u001b[0m\u001b[0;34m(\u001b[0m\u001b[0;34m*\u001b[0m\u001b[0margs\u001b[0m\u001b[0;34m,\u001b[0m \u001b[0;34m**\u001b[0m\u001b[0mkwargs\u001b[0m\u001b[0;34m)\u001b[0m\u001b[0;34m\u001b[0m\u001b[0m\n\u001b[0m\u001b[1;32m    141\u001b[0m \u001b[0;34m\u001b[0m\u001b[0m\n\u001b[1;32m    142\u001b[0m     \u001b[0;32mdef\u001b[0m \u001b[0mget\u001b[0m\u001b[0;34m(\u001b[0m\u001b[0mself\u001b[0m\u001b[0;34m)\u001b[0m\u001b[0;34m:\u001b[0m\u001b[0;34m\u001b[0m\u001b[0m\n",
        "\u001b[0;32m/home/freso388/.local/lib/python2.7/site-packages/sklearn/cross_validation.pyc\u001b[0m in \u001b[0;36m_fit_and_score\u001b[0;34m(estimator, X, y, scorer, train, test, verbose, parameters, fit_params, return_train_score, return_parameters, error_score)\u001b[0m\n\u001b[1;32m   1457\u001b[0m             \u001b[0mestimator\u001b[0m\u001b[0;34m.\u001b[0m\u001b[0mfit\u001b[0m\u001b[0;34m(\u001b[0m\u001b[0mX_train\u001b[0m\u001b[0;34m,\u001b[0m \u001b[0;34m**\u001b[0m\u001b[0mfit_params\u001b[0m\u001b[0;34m)\u001b[0m\u001b[0;34m\u001b[0m\u001b[0m\n\u001b[1;32m   1458\u001b[0m         \u001b[0;32melse\u001b[0m\u001b[0;34m:\u001b[0m\u001b[0;34m\u001b[0m\u001b[0m\n\u001b[0;32m-> 1459\u001b[0;31m             \u001b[0mestimator\u001b[0m\u001b[0;34m.\u001b[0m\u001b[0mfit\u001b[0m\u001b[0;34m(\u001b[0m\u001b[0mX_train\u001b[0m\u001b[0;34m,\u001b[0m \u001b[0my_train\u001b[0m\u001b[0;34m,\u001b[0m \u001b[0;34m**\u001b[0m\u001b[0mfit_params\u001b[0m\u001b[0;34m)\u001b[0m\u001b[0;34m\u001b[0m\u001b[0m\n\u001b[0m\u001b[1;32m   1460\u001b[0m \u001b[0;34m\u001b[0m\u001b[0m\n\u001b[1;32m   1461\u001b[0m     \u001b[0;32mexcept\u001b[0m \u001b[0mException\u001b[0m \u001b[0;32mas\u001b[0m \u001b[0me\u001b[0m\u001b[0;34m:\u001b[0m\u001b[0;34m\u001b[0m\u001b[0m\n",
        "\u001b[0;32m/home/freso388/.local/lib/python2.7/site-packages/sklearn/ensemble/forest.pyc\u001b[0m in \u001b[0;36mfit\u001b[0;34m(self, X, y, sample_weight)\u001b[0m\n\u001b[1;32m    271\u001b[0m                     \u001b[0mt\u001b[0m\u001b[0;34m,\u001b[0m \u001b[0mself\u001b[0m\u001b[0;34m,\u001b[0m \u001b[0mX\u001b[0m\u001b[0;34m,\u001b[0m \u001b[0my\u001b[0m\u001b[0;34m,\u001b[0m \u001b[0msample_weight\u001b[0m\u001b[0;34m,\u001b[0m \u001b[0mi\u001b[0m\u001b[0;34m,\u001b[0m \u001b[0mlen\u001b[0m\u001b[0;34m(\u001b[0m\u001b[0mtrees\u001b[0m\u001b[0;34m)\u001b[0m\u001b[0;34m,\u001b[0m\u001b[0;34m\u001b[0m\u001b[0m\n\u001b[1;32m    272\u001b[0m                     verbose=self.verbose, class_weight=self.class_weight)\n\u001b[0;32m--> 273\u001b[0;31m                 for i, t in enumerate(trees))\n\u001b[0m\u001b[1;32m    274\u001b[0m \u001b[0;34m\u001b[0m\u001b[0m\n\u001b[1;32m    275\u001b[0m             \u001b[0;31m# Collect newly grown trees\u001b[0m\u001b[0;34m\u001b[0m\u001b[0;34m\u001b[0m\u001b[0m\n",
        "\u001b[0;32m/home/freso388/.local/lib/python2.7/site-packages/sklearn/externals/joblib/parallel.pyc\u001b[0m in \u001b[0;36m__call__\u001b[0;34m(self, iterable)\u001b[0m\n\u001b[1;32m    664\u001b[0m                 \u001b[0;31m# consumption.\u001b[0m\u001b[0;34m\u001b[0m\u001b[0;34m\u001b[0m\u001b[0m\n\u001b[1;32m    665\u001b[0m                 \u001b[0mself\u001b[0m\u001b[0;34m.\u001b[0m\u001b[0m_iterating\u001b[0m \u001b[0;34m=\u001b[0m \u001b[0mFalse\u001b[0m\u001b[0;34m\u001b[0m\u001b[0m\n\u001b[0;32m--> 666\u001b[0;31m             \u001b[0mself\u001b[0m\u001b[0;34m.\u001b[0m\u001b[0mretrieve\u001b[0m\u001b[0;34m(\u001b[0m\u001b[0;34m)\u001b[0m\u001b[0;34m\u001b[0m\u001b[0m\n\u001b[0m\u001b[1;32m    667\u001b[0m             \u001b[0;31m# Make sure that we get a last message telling us we are done\u001b[0m\u001b[0;34m\u001b[0m\u001b[0;34m\u001b[0m\u001b[0m\n\u001b[1;32m    668\u001b[0m             \u001b[0melapsed_time\u001b[0m \u001b[0;34m=\u001b[0m \u001b[0mtime\u001b[0m\u001b[0;34m.\u001b[0m\u001b[0mtime\u001b[0m\u001b[0;34m(\u001b[0m\u001b[0;34m)\u001b[0m \u001b[0;34m-\u001b[0m \u001b[0mself\u001b[0m\u001b[0;34m.\u001b[0m\u001b[0m_start_time\u001b[0m\u001b[0;34m\u001b[0m\u001b[0m\n",
        "\u001b[0;32m/home/freso388/.local/lib/python2.7/site-packages/sklearn/externals/joblib/parallel.pyc\u001b[0m in \u001b[0;36mretrieve\u001b[0;34m(self)\u001b[0m\n\u001b[1;32m    516\u001b[0m                 \u001b[0mself\u001b[0m\u001b[0;34m.\u001b[0m\u001b[0m_lock\u001b[0m\u001b[0;34m.\u001b[0m\u001b[0mrelease\u001b[0m\u001b[0;34m(\u001b[0m\u001b[0;34m)\u001b[0m\u001b[0;34m\u001b[0m\u001b[0m\n\u001b[1;32m    517\u001b[0m             \u001b[0;32mtry\u001b[0m\u001b[0;34m:\u001b[0m\u001b[0;34m\u001b[0m\u001b[0m\n\u001b[0;32m--> 518\u001b[0;31m                 \u001b[0mself\u001b[0m\u001b[0;34m.\u001b[0m\u001b[0m_output\u001b[0m\u001b[0;34m.\u001b[0m\u001b[0mappend\u001b[0m\u001b[0;34m(\u001b[0m\u001b[0mjob\u001b[0m\u001b[0;34m.\u001b[0m\u001b[0mget\u001b[0m\u001b[0;34m(\u001b[0m\u001b[0;34m)\u001b[0m\u001b[0;34m)\u001b[0m\u001b[0;34m\u001b[0m\u001b[0m\n\u001b[0m\u001b[1;32m    519\u001b[0m             \u001b[0;32mexcept\u001b[0m \u001b[0mtuple\u001b[0m\u001b[0;34m(\u001b[0m\u001b[0mself\u001b[0m\u001b[0;34m.\u001b[0m\u001b[0mexceptions\u001b[0m\u001b[0;34m)\u001b[0m \u001b[0;32mas\u001b[0m \u001b[0mexception\u001b[0m\u001b[0;34m:\u001b[0m\u001b[0;34m\u001b[0m\u001b[0m\n\u001b[1;32m    520\u001b[0m                 \u001b[0;32mtry\u001b[0m\u001b[0;34m:\u001b[0m\u001b[0;34m\u001b[0m\u001b[0m\n",
        "\u001b[0;32m/usr/lib/python2.7/multiprocessing/pool.pyc\u001b[0m in \u001b[0;36mget\u001b[0;34m(self, timeout)\u001b[0m\n\u001b[1;32m    550\u001b[0m \u001b[0;34m\u001b[0m\u001b[0m\n\u001b[1;32m    551\u001b[0m     \u001b[0;32mdef\u001b[0m \u001b[0mget\u001b[0m\u001b[0;34m(\u001b[0m\u001b[0mself\u001b[0m\u001b[0;34m,\u001b[0m \u001b[0mtimeout\u001b[0m\u001b[0;34m=\u001b[0m\u001b[0mNone\u001b[0m\u001b[0;34m)\u001b[0m\u001b[0;34m:\u001b[0m\u001b[0;34m\u001b[0m\u001b[0m\n\u001b[0;32m--> 552\u001b[0;31m         \u001b[0mself\u001b[0m\u001b[0;34m.\u001b[0m\u001b[0mwait\u001b[0m\u001b[0;34m(\u001b[0m\u001b[0mtimeout\u001b[0m\u001b[0;34m)\u001b[0m\u001b[0;34m\u001b[0m\u001b[0m\n\u001b[0m\u001b[1;32m    553\u001b[0m         \u001b[0;32mif\u001b[0m \u001b[0;32mnot\u001b[0m \u001b[0mself\u001b[0m\u001b[0;34m.\u001b[0m\u001b[0m_ready\u001b[0m\u001b[0;34m:\u001b[0m\u001b[0;34m\u001b[0m\u001b[0m\n\u001b[1;32m    554\u001b[0m             \u001b[0;32mraise\u001b[0m \u001b[0mTimeoutError\u001b[0m\u001b[0;34m\u001b[0m\u001b[0m\n",
        "\u001b[0;32m/usr/lib/python2.7/multiprocessing/pool.pyc\u001b[0m in \u001b[0;36mwait\u001b[0;34m(self, timeout)\u001b[0m\n\u001b[1;32m    545\u001b[0m         \u001b[0;32mtry\u001b[0m\u001b[0;34m:\u001b[0m\u001b[0;34m\u001b[0m\u001b[0m\n\u001b[1;32m    546\u001b[0m             \u001b[0;32mif\u001b[0m \u001b[0;32mnot\u001b[0m \u001b[0mself\u001b[0m\u001b[0;34m.\u001b[0m\u001b[0m_ready\u001b[0m\u001b[0;34m:\u001b[0m\u001b[0;34m\u001b[0m\u001b[0m\n\u001b[0;32m--> 547\u001b[0;31m                 \u001b[0mself\u001b[0m\u001b[0;34m.\u001b[0m\u001b[0m_cond\u001b[0m\u001b[0;34m.\u001b[0m\u001b[0mwait\u001b[0m\u001b[0;34m(\u001b[0m\u001b[0mtimeout\u001b[0m\u001b[0;34m)\u001b[0m\u001b[0;34m\u001b[0m\u001b[0m\n\u001b[0m\u001b[1;32m    548\u001b[0m         \u001b[0;32mfinally\u001b[0m\u001b[0;34m:\u001b[0m\u001b[0;34m\u001b[0m\u001b[0m\n\u001b[1;32m    549\u001b[0m             \u001b[0mself\u001b[0m\u001b[0;34m.\u001b[0m\u001b[0m_cond\u001b[0m\u001b[0;34m.\u001b[0m\u001b[0mrelease\u001b[0m\u001b[0;34m(\u001b[0m\u001b[0;34m)\u001b[0m\u001b[0;34m\u001b[0m\u001b[0m\n",
        "\u001b[0;32m/usr/lib/python2.7/threading.pyc\u001b[0m in \u001b[0;36mwait\u001b[0;34m(self, timeout)\u001b[0m\n\u001b[1;32m    337\u001b[0m         \u001b[0;32mtry\u001b[0m\u001b[0;34m:\u001b[0m    \u001b[0;31m# restore state no matter what (e.g., KeyboardInterrupt)\u001b[0m\u001b[0;34m\u001b[0m\u001b[0m\n\u001b[1;32m    338\u001b[0m             \u001b[0;32mif\u001b[0m \u001b[0mtimeout\u001b[0m \u001b[0;32mis\u001b[0m \u001b[0mNone\u001b[0m\u001b[0;34m:\u001b[0m\u001b[0;34m\u001b[0m\u001b[0m\n\u001b[0;32m--> 339\u001b[0;31m                 \u001b[0mwaiter\u001b[0m\u001b[0;34m.\u001b[0m\u001b[0macquire\u001b[0m\u001b[0;34m(\u001b[0m\u001b[0;34m)\u001b[0m\u001b[0;34m\u001b[0m\u001b[0m\n\u001b[0m\u001b[1;32m    340\u001b[0m                 \u001b[0;32mif\u001b[0m \u001b[0m__debug__\u001b[0m\u001b[0;34m:\u001b[0m\u001b[0;34m\u001b[0m\u001b[0m\n\u001b[1;32m    341\u001b[0m                     \u001b[0mself\u001b[0m\u001b[0;34m.\u001b[0m\u001b[0m_note\u001b[0m\u001b[0;34m(\u001b[0m\u001b[0;34m\"%s.wait(): got it\"\u001b[0m\u001b[0;34m,\u001b[0m \u001b[0mself\u001b[0m\u001b[0;34m)\u001b[0m\u001b[0;34m\u001b[0m\u001b[0m\n",
        "\u001b[0;31mKeyboardInterrupt\u001b[0m: "
       ]
      }
     ],
     "prompt_number": 7
    },
    {
     "cell_type": "code",
     "collapsed": false,
     "input": [
      "scores_morf_masked = cross_val_score(et_clf, X_morf_masked, y_morf_masked, scoring=mcc, cv=cv_morf_masked)\n",
      "scores_pros_masked = cross_val_score(et_clf, X_pros_masked, y_pros_masked, scoring=mcc, cv=cv_pros_masked)\n",
      "scores_clstr_masked = cross_val_score(et_clf, X_clstr_masked, y_clstr_masked, scoring=mcc, cv=cv_clstr_masked)"
     ],
     "language": "python",
     "metadata": {},
     "outputs": []
    },
    {
     "cell_type": "code",
     "collapsed": false,
     "input": [
      "data = {\"mcc_score\": np.hstack((scores_morf, scores_pros, scores_clstr,\n",
      "                                scores_morf_masked, scores_pros_masked, scores_clstr_masked)),\n",
      "        \"dataset\": ([\"MoRF\"] * 5 + [\"ProS\"] * 5 + [\"Cluster\"] * 5) * 2,\n",
      "        \"masked\": [\"No\"] * 15 + [\"Yes\"] * 15}\n",
      "data = pd.DataFrame(data)"
     ],
     "language": "python",
     "metadata": {},
     "outputs": []
    },
    {
     "cell_type": "code",
     "collapsed": false,
     "input": [
      "sns.factorplot(\"dataset\", \"mcc_score\", \"masked\", data=data, kind=\"bar\")"
     ],
     "language": "python",
     "metadata": {},
     "outputs": []
    },
    {
     "cell_type": "heading",
     "level": 2,
     "metadata": {},
     "source": [
      "Are protean regions disordered anyways?"
     ]
    },
    {
     "cell_type": "code",
     "collapsed": false,
     "input": [
      "X_morf_protean = X_morf[y_morf.astype(\"bool\")]\n",
      "X_morf_not_protean = X_morf[np.logical_not(y_morf.astype(\"bool\"))]\n",
      "X_pros_protean = X_pros[y_pros.astype(\"bool\")]\n",
      "X_pros_not_protean = X_pros[np.logical_not(y_pros.astype(\"bool\"))]\n",
      "X_clstr_protean = X_clstr[y_clstr.astype(\"bool\")]\n",
      "X_clstr_not_protean = X_clstr[np.logical_not(y_clstr.astype(\"bool\"))]"
     ],
     "language": "python",
     "metadata": {},
     "outputs": [],
     "prompt_number": 8
    },
    {
     "cell_type": "code",
     "collapsed": false,
     "input": [
      "np.ravel(np.hstack((X_morf_protean[:,320],\n",
      "                    X_morf_not_protean[:,320],\n",
      "                    X_pros_protean[:,320],\n",
      "                    X_pros_not_protean[:,320],\n",
      "                    X_clstr_protean[:,320],\n",
      "                    X_clstr_not_protean[:,320]))).shape"
     ],
     "language": "python",
     "metadata": {},
     "outputs": [
      {
       "metadata": {},
       "output_type": "pyout",
       "prompt_number": 9,
       "text": [
        "(1620230,)"
       ]
      }
     ],
     "prompt_number": 9
    },
    {
     "cell_type": "code",
     "collapsed": false,
     "input": [
      "len(([\"Protean\"] * len(X_morf_protean[:,320]) + \n",
      "     [\"Non-protean\"] * len(X_morf_not_protean[:,320]) +\n",
      "     [\"Protean\"] * len(X_pros_protean[:,320]) + \n",
      "     [\"Non-protean\"] * len(X_pros_not_protean[:,320]) +\n",
      "     [\"Protean\"] * len(X_clstr_protean[:,320]) + \n",
      "     [\"Non-protean\"] * len(X_clstr_not_protean[:,320])))"
     ],
     "language": "python",
     "metadata": {},
     "outputs": [
      {
       "metadata": {},
       "output_type": "pyout",
       "prompt_number": 10,
       "text": [
        "1620230"
       ]
      }
     ],
     "prompt_number": 10
    },
    {
     "cell_type": "code",
     "collapsed": false,
     "input": [
      "len(([\"MoRF\"] * (len(X_morf[:,320]) * 2) +\n",
      "     [\"ProS\"] * (len(X_pros[:,320]) * 2) +\n",
      "     [\"MoRF & ProS\"] * (len(X_clstr[:,320]) * 2)))"
     ],
     "language": "python",
     "metadata": {},
     "outputs": [
      {
       "metadata": {},
       "output_type": "pyout",
       "prompt_number": 11,
       "text": [
        "3240460"
       ]
      }
     ],
     "prompt_number": 11
    },
    {
     "cell_type": "code",
     "collapsed": false,
     "input": [
      "disorder_data = {\"Average disorder score\": np.ravel(np.hstack((X_morf_protean[:,320],\n",
      "                                                               X_morf_not_protean[:,320],\n",
      "                                                               X_pros_protean[:,320],\n",
      "                                                               X_pros_not_protean[:,320],\n",
      "                                                               X_clstr_protean[:,320],\n",
      "                                                               X_clstr_not_protean[:,320]))),\n",
      "                 \"Region\": ([\"Protean\"] * len(X_morf_protean[:,320]) + \n",
      "                            [\"Non-protean\"] * len(X_morf_not_protean[:,320]) +\n",
      "                            [\"Protean\"] * len(X_pros_protean[:,320]) + \n",
      "                            [\"Non-protean\"] * len(X_pros_not_protean[:,320]) +\n",
      "                            [\"Protean\"] * len(X_clstr_protean[:,320]) + \n",
      "                            [\"Non-protean\"] * len(X_clstr_not_protean[:,320])),\n",
      "                 \"Dataset\": ([\"MoRF\"] * (len(X_morf[:,320])) +\n",
      "                             [\"ProS\"] * (len(X_pros[:,320])) +\n",
      "                             [\"MoRF & ProS\"] * (len(X_clstr[:,320])))}\n",
      "disorder_data = pd.DataFrame(disorder_data)"
     ],
     "language": "python",
     "metadata": {},
     "outputs": [],
     "prompt_number": 12
    },
    {
     "cell_type": "code",
     "collapsed": false,
     "input": [
      "g = sns.factorplot(\"Dataset\", \"Average disorder score\", \"Region\",\n",
      "                   data=disorder_data, kind=\"bar\", size=3.5, aspect=7./3.5, legend_out=False,\n",
      "                   x_order=[\"MoRF\", \"ProS\", \"MoRF & ProS\"],\n",
      "                   hue_order=[\"Non-protean\", \"Protean\"])\n",
      "g.set(ylim=(0,0.7))\n",
      "plt.savefig('average_disorder.pdf', bbox_inches='tight')"
     ],
     "language": "python",
     "metadata": {},
     "outputs": [
      {
       "metadata": {},
       "output_type": "display_data",
       "png": "[encoded data removed]",
       "text": [
        "<matplotlib.figure.Figure at 0x7f5ee7ab9810>"
       ]
      }
     ],
     "prompt_number": 15
    },
    {
     "cell_type": "heading",
     "level": 3,
     "metadata": {},
     "source": [
      "Visualize disorder prediction and protean regions"
     ]
    },
    {
     "cell_type": "code",
     "collapsed": false,
     "input": [
      "def morf_labels(name):\n",
      "    y = []\n",
      "    data_filepath = \"/home/freso388/nsc/data/MoRF/\"\n",
      "    data_test_filename = data_filepath + \"MoRF_test.fasta\"\n",
      "    data_train_filename = data_filepath + \"MoRF_training.fasta\"\n",
      "    with open(data_test_filename, \"r\") as test_file:\n",
      "        test_lines = test_file.readlines()\n",
      "    with open(data_train_filename, \"r\") as train_file:\n",
      "        train_lines = train_file.readlines()\n",
      "    \n",
      "    found = False\n",
      "    identifier = name[4:]\n",
      "\n",
      "    for line_idx, line in enumerate(test_lines):\n",
      "        inline_idx = line.find(identifier)\n",
      "        if inline_idx != -1:\n",
      "            found = True\n",
      "            train_name = False\n",
      "            break\n",
      "\n",
      "    if not found:\n",
      "        for line_idx, line in enumerate(train_lines):\n",
      "            inline_idx = line.find(identifier)\n",
      "            if inline_idx != -1:\n",
      "                found = True\n",
      "                train_name = True\n",
      "                break\n",
      "\n",
      "    if found:\n",
      "        if not train_name:\n",
      "            y_vals = list(test_lines[line_idx + 2].strip())\n",
      "            y_vals = [int(y_val) for y_val in y_vals]\n",
      "        else:\n",
      "            y_vals = list(train_lines[line_idx + 2].strip())\n",
      "            y_vals = [int(y_val) for y_val in y_vals]\n",
      "    else:\n",
      "        return \"I'm so sorry!\"\n",
      "\n",
      "    y.extend(y_vals)\n",
      "    \n",
      "    return y"
     ],
     "language": "python",
     "metadata": {},
     "outputs": [],
     "prompt_number": 5
    },
    {
     "cell_type": "code",
     "collapsed": false,
     "input": [
      "def pros_labels(name):\n",
      "    y = []\n",
      "    data_filepath = \"/home/freso388/nsc/data/\"\n",
      "    data_filename = data_filepath + \"allRecords.myformat\"\n",
      "    with open(data_filename, \"r\") as data_file:\n",
      "        lines = data_file.readlines()\n",
      "    \n",
      "    found = False\n",
      "\n",
      "    for line_idx, line in enumerate(lines):\n",
      "        inline_idx = line.find(name)\n",
      "        if inline_idx != -1:\n",
      "            found = True\n",
      "            break\n",
      "\n",
      "    if found:\n",
      "            y_vals = list(lines[line_idx + 3].strip())\n",
      "            y_vals = [int(y_val) for y_val in y_vals[8:]]\n",
      "    else:\n",
      "        return \"I'm so sorry!\"\n",
      "\n",
      "    y.extend(y_vals)\n",
      "    \n",
      "    return y"
     ],
     "language": "python",
     "metadata": {},
     "outputs": [],
     "prompt_number": 6
    },
    {
     "cell_type": "code",
     "collapsed": false,
     "input": [
      "def viz_protean_regions(name):\n",
      "    \n",
      "    if name == \"random\":\n",
      "        from random import randint\n",
      "        name = names_clstr[randint(0, len(names_clstr) - 1)]\n",
      "        \n",
      "    filename = \"/home/freso388/nsc/disopred/output/\" + name + \".diso\"\n",
      "    \n",
      "    with open(filename) as f:\n",
      "        lines = f.readlines()[3:]\n",
      "    scores = []\n",
      "    for line in lines:\n",
      "        words = line.split()\n",
      "        scores.append(float(words[3].strip()))\n",
      "    \n",
      "    if name[0:3] == \"IID\":\n",
      "        protean = pros_labels(name)\n",
      "    elif name[0:3] == \"MoR\":\n",
      "        protean = morf_labels(name)\n",
      "    \n",
      "    protean = np.array(protean)\n",
      "        \n",
      "    plt.figure(figsize=(7,3))\n",
      "    plt.plot(range(len(scores)), scores, label=name)\n",
      "    plt.legend(loc=\"best\")\n",
      "    plt.plot(range(len(scores)), [0.5] * len(scores), \"r--\")\n",
      "    plt.fill_between(range(len(scores)),\n",
      "                     protean * 1,\n",
      "                     protean * 0,\n",
      "                     color=\"g\", alpha=.3)\n",
      "    plt.ylim((0,1))\n",
      "    plt.xlabel(\"Residue\")\n",
      "    plt.ylabel(\"Disorder prediction score\")\n",
      "    plt.savefig('dis_vis_' + name + '.pdf', bbox_inches='tight')\n",
      "    plt.show()"
     ],
     "language": "python",
     "metadata": {},
     "outputs": [],
     "prompt_number": 7
    },
    {
     "cell_type": "code",
     "collapsed": false,
     "input": [
      "viz_protean_regions(\"MoRFQ05195\")"
     ],
     "language": "python",
     "metadata": {},
     "outputs": [
      {
       "metadata": {},
       "output_type": "display_data",
       "png": "[encoded data removed]",
       "text": [
        "<matplotlib.figure.Figure at 0x7f91a920f410>"
       ]
      }
     ],
     "prompt_number": 37
    },
    {
     "cell_type": "code",
     "collapsed": false,
     "input": [
      "def viz_disorder_regions(name):\n",
      "    \n",
      "    if name == \"random\":\n",
      "        from random import randint\n",
      "        name = names_clstr[randint(0, len(names_clstr) - 1)]\n",
      "        \n",
      "    filename = \"/home/freso388/nsc/disopred/output/\" + name + \".diso\"\n",
      "    \n",
      "    with open(filename) as f:\n",
      "        lines = f.readlines()[3:]\n",
      "    scores = []\n",
      "    for line in lines:\n",
      "        words = line.split()\n",
      "        scores.append(float(words[3].strip()))\n",
      "\n",
      "    # Find start and stop\n",
      "    current_residue = 50\n",
      "    for idx in reversed(range(current_residue)):\n",
      "        if scores[idx] < 0.5:\n",
      "            start = idx\n",
      "            break\n",
      "    for idx in range(current_residue, len(scores)):\n",
      "        if scores[idx] < 0.5:\n",
      "            stop = idx\n",
      "            break\n",
      "        \n",
      "    plt.figure(figsize=(7,3))\n",
      "    plt.scatter([current_residue], scores[current_residue], s=40, c=\"k\", label=\"Current residue\")\n",
      "    plt.plot(range(len(scores)), scores, label=name)\n",
      "    plt.plot(range(len(scores)), [0.5] * len(scores), \"r--\", label=\"Disorder cut-off\")\n",
      "    plt.fill_between(range(start, stop), 1, 0, color=\"g\", alpha=.3, label=\"Disorder region\")\n",
      "    plt.legend(loc=\"best\")\n",
      "    plt.xlabel(\"Residue\")\n",
      "    plt.ylabel(\"Disorder prediction score\")\n",
      "    plt.xlim((0,230))\n",
      "    plt.ylim((0,1))\n",
      "    plt.savefig('dis_vis_region_' + name + '.pdf', bbox_inches='tight')\n",
      "    plt.show()"
     ],
     "language": "python",
     "metadata": {},
     "outputs": [],
     "prompt_number": 2
    },
    {
     "cell_type": "code",
     "collapsed": false,
     "input": [
      "viz_disorder_regions(\"MoRFQ05195\")"
     ],
     "language": "python",
     "metadata": {},
     "outputs": [
      {
       "metadata": {},
       "output_type": "display_data",
       "png": "[encoded data removed]",
       "text": [
        "<matplotlib.figure.Figure at 0x7f5e1022ca90>"
       ]
      }
     ],
     "prompt_number": 3
    },
    {
     "cell_type": "code",
     "collapsed": false,
     "input": [],
     "language": "python",
     "metadata": {},
     "outputs": []
    }
   ],
   "metadata": {}
  }
 ]
}