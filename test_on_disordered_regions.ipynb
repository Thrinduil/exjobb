{
 "metadata": {
  "name": ""
 },
 "nbformat": 3,
 "nbformat_minor": 0,
 "worksheets": [
  {
   "cells": [
    {
     "cell_type": "code",
     "collapsed": false,
     "input": [
      "import numpy as np\n",
      "import matplotlib.pyplot as plt\n",
      "import seaborn as sns\n",
      "import pandas as pd\n",
      "%matplotlib inline"
     ],
     "language": "python",
     "metadata": {},
     "outputs": [],
     "prompt_number": 63
    },
    {
     "cell_type": "heading",
     "level": 1,
     "metadata": {},
     "source": [
      "Test on disordered regions"
     ]
    },
    {
     "cell_type": "code",
     "collapsed": false,
     "input": [
      "X_morf = np.load(\"../data/X_myfeat_morf.npy\")\n",
      "X_pros = np.load(\"../data/X_myfeat_pros.npy\")\n",
      "y_morf = np.load(\"../data/y_morf.npy\")\n",
      "y_pros = np.load(\"../data/y_pros.npy\")\n",
      "X_clstr = np.load(\"../data/X_clstr.npy\")\n",
      "y_clstr = np.load(\"../data/y_clstr.npy\")\n",
      "names_clstr = np.load(\"../data/names_clstr.npy\")"
     ],
     "language": "python",
     "metadata": {},
     "outputs": [],
     "prompt_number": 3
    },
    {
     "cell_type": "code",
     "collapsed": false,
     "input": [
      "mask_morf = X_morf[:,320]>=0.5\n",
      "mask_pros = X_pros[:,320]>=0.5\n",
      "mask_clstr = X_clstr[:,320]>=0.5"
     ],
     "language": "python",
     "metadata": {},
     "outputs": [],
     "prompt_number": 82
    },
    {
     "cell_type": "code",
     "collapsed": false,
     "input": [
      "X_morf_masked = X_morf[mask_morf]\n",
      "X_pros_masked = X_pros[mask_pros]\n",
      "X_clstr_masked = X_clstr[mask_clstr]\n",
      "y_morf_masked = y_morf[mask_morf]\n",
      "y_pros_masked = y_pros[mask_pros]\n",
      "y_clstr_masked = y_clstr[mask_clstr]"
     ],
     "language": "python",
     "metadata": {},
     "outputs": [],
     "prompt_number": 83
    },
    {
     "cell_type": "code",
     "collapsed": false,
     "input": [
      "print \"MoRF unmasked: %i positive labels (%.2f%%)\" % (float(np.count_nonzero(y_morf)), (100.0 * np.count_nonzero(y_morf))/len(y_morf))\n",
      "print \"MoRF masked: %i positive labels (%.2f%%)\" % (float(np.count_nonzero(y_morf_masked)), (100.0 * np.count_nonzero(y_morf_masked))/len(y_morf_masked))\n",
      "print \"ProS unmasked: %i positive labels (%.2f%%)\" % (float(np.count_nonzero(y_pros)), (100.0 * np.count_nonzero(y_morf))/len(y_pros))\n",
      "print \"ProS masked: %i positive labels (%.2f%%)\" % (float(np.count_nonzero(y_pros_masked)), (100.0 * np.count_nonzero(y_pros_masked))/len(y_pros_masked))"
     ],
     "language": "python",
     "metadata": {},
     "outputs": [
      {
       "output_type": "stream",
       "stream": "stdout",
       "text": [
        "MoRF unmasked: 9534 positive labels (2.13%)\n",
        "MoRF masked: 3483 positive labels (2.01%)\n",
        "ProS unmasked: 6245 positive labels (2.63%)\n",
        "ProS masked: 3703 positive labels (2.11%)\n"
       ]
      }
     ],
     "prompt_number": 84
    },
    {
     "cell_type": "code",
     "collapsed": false,
     "input": [
      "from sklearn.metrics import make_scorer\n",
      "from sklearn.metrics import matthews_corrcoef\n",
      "mcc = make_scorer(matthews_corrcoef)\n",
      "from sklearn.ensemble import ExtraTreesClassifier\n",
      "\n",
      "et_clf = ExtraTreesClassifier(n_estimators=50,\n",
      "                                    class_weight=\"auto\",\n",
      "                                    random_state=42, n_jobs=7)\n",
      "\n",
      "from sklearn.cross_validation import KFold\n",
      "cv_morf = KFold(len(y_morf), n_folds=5, shuffle=False, random_state=42)\n",
      "cv_morf_masked = KFold(len(y_morf_masked), n_folds=5, shuffle=False, random_state=42)\n",
      "cv_pros = KFold(len(y_pros), n_folds=5, shuffle=False, random_state=42)\n",
      "cv_pros_masked = KFold(len(y_pros_masked), n_folds=5, shuffle=False, random_state=42)\n",
      "cv_clstr = KFold(len(y_clstr), n_folds=5, shuffle=False, random_state=42)\n",
      "cv_clstr_masked = KFold(len(y_clstr_masked), n_folds=5, shuffle=False, random_state=42)\n",
      "\n",
      "from sklearn.cross_validation import cross_val_score"
     ],
     "language": "python",
     "metadata": {},
     "outputs": [],
     "prompt_number": 85
    },
    {
     "cell_type": "code",
     "collapsed": false,
     "input": [
      "scores_morf = cross_val_score(et_clf, X_morf, y_morf, scoring=mcc, cv=cv_morf)\n",
      "scores_pros = cross_val_score(et_clf, X_pros, y_pros, scoring=mcc, cv=cv_pros)\n",
      "scores_clstr = cross_val_score(et_clf, X_clstr, y_clstr, scoring=mcc, cv=cv_clstr)"
     ],
     "language": "python",
     "metadata": {},
     "outputs": [],
     "prompt_number": 86
    },
    {
     "cell_type": "code",
     "collapsed": false,
     "input": [
      "scores_morf_masked = cross_val_score(et_clf, X_morf_masked, y_morf_masked, scoring=mcc, cv=cv_morf_masked)\n",
      "scores_pros_masked = cross_val_score(et_clf, X_pros_masked, y_pros_masked, scoring=mcc, cv=cv_pros_masked)\n",
      "scores_clstr_masked = cross_val_score(et_clf, X_clstr_masked, y_clstr_masked, scoring=mcc, cv=cv_clstr_masked)"
     ],
     "language": "python",
     "metadata": {},
     "outputs": [],
     "prompt_number": 87
    },
    {
     "cell_type": "code",
     "collapsed": false,
     "input": [
      "data = {\"mcc_score\": np.hstack((scores_morf, scores_pros, scores_clstr,\n",
      "                                scores_morf_masked, scores_pros_masked, scores_clstr_masked)),\n",
      "        \"dataset\": ([\"MoRF\"] * 5 + [\"ProS\"] * 5 + [\"Cluster\"] * 5) * 2,\n",
      "        \"masked\": [\"No\"] * 15 + [\"Yes\"] * 15}\n",
      "data = pd.DataFrame(data)"
     ],
     "language": "python",
     "metadata": {},
     "outputs": [],
     "prompt_number": 89
    },
    {
     "cell_type": "code",
     "collapsed": false,
     "input": [
      "sns.factorplot(\"dataset\", \"mcc_score\", \"masked\", data=data, kind=\"bar\")"
     ],
     "language": "python",
     "metadata": {},
     "outputs": [
      {
       "metadata": {},
       "output_type": "pyout",
       "prompt_number": 90,
       "text": [
        "<seaborn.axisgrid.FacetGrid at 0x7f02e6f6f210>"
       ]
      },
      {
       "metadata": {},
       "output_type": "display_data",
       "png": "[encoded data removed]",
       "text": [
        "<matplotlib.figure.Figure at 0x7f02e6f6f510>"
       ]
      }
     ],
     "prompt_number": 90
    },
    {
     "cell_type": "heading",
     "level": 2,
     "metadata": {},
     "source": [
      "Are protean regions disordered anyways?"
     ]
    },
    {
     "cell_type": "code",
     "collapsed": false,
     "input": [
      "X_morf_protean = X_morf[y_morf.astype(\"bool\")]\n",
      "X_morf_not_protean = X_morf[np.logical_not(y_morf.astype(\"bool\"))]\n",
      "X_pros_protean = X_pros[y_pros.astype(\"bool\")]\n",
      "X_pros_not_protean = X_pros[np.logical_not(y_pros.astype(\"bool\"))]\n",
      "X_clstr_protean = X_clstr[y_clstr.astype(\"bool\")]\n",
      "X_clstr_not_protean = X_clstr[np.logical_not(y_clstr.astype(\"bool\"))]"
     ],
     "language": "python",
     "metadata": {},
     "outputs": [],
     "prompt_number": 91
    },
    {
     "cell_type": "code",
     "collapsed": false,
     "input": [
      "disorder_data = {\"disorder_score\": np.ravel(np.hstack((X_morf_protean[:,320],\n",
      "                                                       X_morf_not_protean[:,320],\n",
      "                                                       X_morf[:,320],\n",
      "                                                       X_pros_protean[:,320],\n",
      "                                                       X_pros_not_protean[:,320],\n",
      "                                                       X_pros[:,320],\n",
      "                                                       X_clstr_protean[:,320],\n",
      "                                                       X_clstr_not_protean[:,320],\n",
      "                                                       X_clstr[:,320]))),\n",
      "                 \"protean_regions\": ([\"Yes\"] * len(X_morf_protean[:,320]) + \n",
      "                                     [\"No\"] * len(X_morf_not_protean[:,320]) +\n",
      "                                     [\"Both\"] * len(X_morf[:,320]) +\n",
      "                                     [\"Yes\"] * len(X_pros_protean[:,320]) + \n",
      "                                     [\"No\"] * len(X_pros_not_protean[:,320]) +\n",
      "                                     [\"Both\"] * len(X_pros[:,320]) +\n",
      "                                     [\"Yes\"] * len(X_clstr_protean[:,320]) + \n",
      "                                     [\"No\"] * len(X_clstr_not_protean[:,320]) +\n",
      "                                     [\"Both\"] * len(X_clstr[:,320])),\n",
      "                 \"dataset\": ([\"MoRF\"] * (len(X_morf[:,320]) * 2) +\n",
      "                             [\"ProS\"] * (len(X_pros[:,320]) * 2) +\n",
      "                             [\"Cluster\"] * (len(X_clstr[:,320]) * 2))}\n",
      "disorder_data = pd.DataFrame(disorder_data)"
     ],
     "language": "python",
     "metadata": {},
     "outputs": [],
     "prompt_number": 92
    },
    {
     "cell_type": "code",
     "collapsed": false,
     "input": [
      "sns.factorplot(\"dataset\", \"disorder_score\", \"protean_regions\", data=disorder_data, kind=\"bar\")"
     ],
     "language": "python",
     "metadata": {},
     "outputs": [
      {
       "metadata": {},
       "output_type": "pyout",
       "prompt_number": 93,
       "text": [
        "<seaborn.axisgrid.FacetGrid at 0x7f02e7191190>"
       ]
      },
      {
       "metadata": {},
       "output_type": "display_data",
       "png": "[encoded data removed]",
       "text": [
        "<matplotlib.figure.Figure at 0x7f02e7191d90>"
       ]
      }
     ],
     "prompt_number": 93
    },
    {
     "cell_type": "heading",
     "level": 3,
     "metadata": {},
     "source": [
      "Visualize disorder prediction and protean regions"
     ]
    },
    {
     "cell_type": "code",
     "collapsed": false,
     "input": [
      "def morf_labels(name):\n",
      "    y = []\n",
      "    data_filepath = \"/home/freso388/nsc/data/MoRF/\"\n",
      "    data_test_filename = data_filepath + \"MoRF_test.fasta\"\n",
      "    data_train_filename = data_filepath + \"MoRF_training.fasta\"\n",
      "    with open(data_test_filename, \"r\") as test_file:\n",
      "        test_lines = test_file.readlines()\n",
      "    with open(data_train_filename, \"r\") as train_file:\n",
      "        train_lines = train_file.readlines()\n",
      "    \n",
      "    found = False\n",
      "    identifier = name[4:]\n",
      "\n",
      "    for line_idx, line in enumerate(test_lines):\n",
      "        inline_idx = line.find(identifier)\n",
      "        if inline_idx != -1:\n",
      "            found = True\n",
      "            train_name = False\n",
      "            break\n",
      "\n",
      "    if not found:\n",
      "        for line_idx, line in enumerate(train_lines):\n",
      "            inline_idx = line.find(identifier)\n",
      "            if inline_idx != -1:\n",
      "                found = True\n",
      "                train_name = True\n",
      "                break\n",
      "\n",
      "    if found:\n",
      "        if not train_name:\n",
      "            y_vals = list(test_lines[line_idx + 2].strip())\n",
      "            y_vals = [int(y_val) for y_val in y_vals]\n",
      "        else:\n",
      "            y_vals = list(train_lines[line_idx + 2].strip())\n",
      "            y_vals = [int(y_val) for y_val in y_vals]\n",
      "    else:\n",
      "        return \"I'm so sorry!\"\n",
      "\n",
      "    y.extend(y_vals)\n",
      "    \n",
      "    return y"
     ],
     "language": "python",
     "metadata": {},
     "outputs": [],
     "prompt_number": 15
    },
    {
     "cell_type": "code",
     "collapsed": false,
     "input": [
      "def pros_labels(name):\n",
      "    y = []\n",
      "    data_filepath = \"/home/freso388/nsc/data/\"\n",
      "    data_filename = data_filepath + \"allRecords.myformat\"\n",
      "    with open(data_filename, \"r\") as data_file:\n",
      "        lines = data_file.readlines()\n",
      "    \n",
      "    found = False\n",
      "\n",
      "    for line_idx, line in enumerate(lines):\n",
      "        inline_idx = line.find(name)\n",
      "        if inline_idx != -1:\n",
      "            found = True\n",
      "            break\n",
      "\n",
      "    if found:\n",
      "            y_vals = list(lines[line_idx + 3].strip())\n",
      "            y_vals = [int(y_val) for y_val in y_vals[8:]]\n",
      "    else:\n",
      "        return \"I'm so sorry!\"\n",
      "\n",
      "    y.extend(y_vals)\n",
      "    \n",
      "    return y"
     ],
     "language": "python",
     "metadata": {},
     "outputs": [],
     "prompt_number": 16
    },
    {
     "cell_type": "code",
     "collapsed": false,
     "input": [
      "def viz_protean_regions(name):\n",
      "    \n",
      "    if name == \"random\":\n",
      "        from random import randint\n",
      "        name = names_clstr[randint(0, len(names_clstr) - 1)]\n",
      "        \n",
      "    filename = \"/home/freso388/nsc/disopred/output/\" + name + \".diso\"\n",
      "    \n",
      "    with open(filename) as f:\n",
      "        lines = f.readlines()[3:]\n",
      "    scores = []\n",
      "    for line in lines:\n",
      "        words = line.split()\n",
      "        scores.append(float(words[3].strip()))\n",
      "    \n",
      "    if name[0:3] == \"IID\":\n",
      "        protean = pros_labels(name)\n",
      "    elif name[0:3] == \"MoR\":\n",
      "        protean = morf_labels(name)\n",
      "    \n",
      "    protean = np.array(protean)\n",
      "        \n",
      "    plt.figure(figsize=(15,5))\n",
      "    plt.plot(range(len(scores)), scores, label=name)\n",
      "    plt.legend()\n",
      "    plt.plot(range(len(scores)), [0.5] * len(scores))\n",
      "    plt.fill_between(range(len(scores)),\n",
      "                     protean * 1,\n",
      "                     protean * 0,\n",
      "                     color=\"g\", alpha=.3)\n",
      "    plt.show()"
     ],
     "language": "python",
     "metadata": {},
     "outputs": [],
     "prompt_number": 56
    },
    {
     "cell_type": "code",
     "collapsed": false,
     "input": [
      "viz_protean_regions(\"random\")"
     ],
     "language": "python",
     "metadata": {},
     "outputs": [
      {
       "metadata": {},
       "output_type": "display_data",
       "png": "[encoded data removed]",
       "text": [
        "<matplotlib.figure.Figure at 0x7fae95b1da50>"
       ]
      }
     ],
     "prompt_number": 59
    },
    {
     "cell_type": "code",
     "collapsed": false,
     "input": [],
     "language": "python",
     "metadata": {},
     "outputs": []
    }
   ],
   "metadata": {}
  }
 ]
}