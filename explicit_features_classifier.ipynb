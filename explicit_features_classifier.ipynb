{
 "metadata": {
  "name": ""
 },
 "nbformat": 3,
 "nbformat_minor": 0,
 "worksheets": [
  {
   "cells": [
    {
     "cell_type": "markdown",
     "metadata": {},
     "source": [
      "Here we stick to the aa_ex features in the clustered set. We will try different classifiers to see which one works best."
     ]
    },
    {
     "cell_type": "code",
     "collapsed": false,
     "input": [
      "import numpy as np\n",
      "import matplotlib.pyplot as plt\n",
      "import seaborn as sns\n",
      "import pandas as pd\n",
      "%matplotlib inline"
     ],
     "language": "python",
     "metadata": {},
     "outputs": [],
     "prompt_number": 1
    },
    {
     "cell_type": "code",
     "collapsed": false,
     "input": [
      "y_clstr = np.load(\"../data/y_clstr.npy\")\n",
      "X_clstr = np.load(\"../data/X_clstr.npy\")\n",
      "X_clstr_aa = X_clstr[:,300:320]\n",
      "X_clstr_ex = X_clstr[:,327:336]\n",
      "X_clstr_aa_ex = np.hstack((X_clstr_aa, X_clstr_ex))"
     ],
     "language": "python",
     "metadata": {},
     "outputs": [],
     "prompt_number": 2
    },
    {
     "cell_type": "code",
     "collapsed": false,
     "input": [
      "from sklearn.metrics import make_scorer\n",
      "from sklearn.metrics import matthews_corrcoef\n",
      "mcc = make_scorer(matthews_corrcoef)\n",
      "\n",
      "from sklearn.cross_validation import cross_val_score\n",
      "from sklearn.cross_validation import KFold\n",
      "cv = KFold(len(y_clstr), n_folds=5, shuffle=False, random_state=42)\n",
      "\n",
      "from sklearn.ensemble import ExtraTreesClassifier\n",
      "et_clf = ExtraTreesClassifier(n_estimators=50, n_jobs=7, random_state=42, class_weight=\"auto\")\n",
      "\n",
      "from sklearn.ensemble import RandomForestClassifier\n",
      "rf_clf = RandomForestClassifier(n_estimators=50, n_jobs=7, random_state=42, class_weight=\"auto\")\n",
      "\n",
      "from sklearn.linear_model import SGDClassifier\n",
      "sgd_clf = SGDClassifier(n_jobs=7, random_state=42, class_weight=\"auto\")\n",
      "\n",
      "from sklearn.svm import LinearSVC\n",
      "svm_clf = LinearSVC(class_weight=\"auto\", random_state=42)"
     ],
     "language": "python",
     "metadata": {},
     "outputs": [],
     "prompt_number": 3
    },
    {
     "cell_type": "code",
     "collapsed": false,
     "input": [
      "%%time\n",
      "mcc_scores_et = cross_val_score(et_clf, X_clstr_aa_ex, y_clstr, scoring=mcc, cv=cv)"
     ],
     "language": "python",
     "metadata": {},
     "outputs": [
      {
       "output_type": "stream",
       "stream": "stdout",
       "text": [
        "CPU times: user 16min 1s, sys: 5.03 s, total: 16min 6s\n",
        "Wall time: 2min 26s\n"
       ]
      }
     ],
     "prompt_number": 4
    },
    {
     "cell_type": "code",
     "collapsed": false,
     "input": [
      "%%time\n",
      "mcc_scores_rf = cross_val_score(rf_clf, X_clstr_aa_ex, y_clstr, scoring=mcc, cv=cv)"
     ],
     "language": "python",
     "metadata": {},
     "outputs": [
      {
       "output_type": "stream",
       "stream": "stdout",
       "text": [
        "CPU times: user 14min 2s, sys: 3.95 s, total: 14min 6s\n",
        "Wall time: 2min 9s\n"
       ]
      }
     ],
     "prompt_number": 5
    },
    {
     "cell_type": "code",
     "collapsed": false,
     "input": [
      "%%time\n",
      "mcc_scores_sgd = cross_val_score(sgd_clf, X_clstr_aa_ex, y_clstr, scoring=mcc, cv=cv)"
     ],
     "language": "python",
     "metadata": {},
     "outputs": [
      {
       "output_type": "stream",
       "stream": "stdout",
       "text": [
        "CPU times: user 3.69 s, sys: 92 ms, total: 3.79 s\n",
        "Wall time: 3.79 s\n"
       ]
      }
     ],
     "prompt_number": 6
    },
    {
     "cell_type": "code",
     "collapsed": false,
     "input": [
      "%%time\n",
      "mcc_scores_svm = cross_val_score(svm_clf, X_clstr_aa_ex, y_clstr, scoring=mcc, cv=cv, n_jobs=7, pre_dispatch=7)"
     ],
     "language": "python",
     "metadata": {},
     "outputs": [
      {
       "output_type": "stream",
       "stream": "stdout",
       "text": [
        "CPU times: user 467 ms, sys: 336 ms, total: 803 ms\n",
        "Wall time: 5min 34s\n"
       ]
      }
     ],
     "prompt_number": 7
    },
    {
     "cell_type": "code",
     "collapsed": false,
     "input": [
      "clf_data = {\"mcc_score\": np.hstack((mcc_scores_et,\n",
      "                                    mcc_scores_rf,\n",
      "                                    mcc_scores_sgd,\n",
      "                                    mcc_scores_svm)),\n",
      "            \"classifier\": ([\"Extra Trees\"] * 5 +\n",
      "                           [\"Random Forest\"] * 5 +\n",
      "                           [\"SGD\"] * 5 +\n",
      "                           [\"SVM\"] * 5)\n",
      "            }\n",
      "clf_data = pd.DataFrame(clf_data)\n",
      "%store clf_data"
     ],
     "language": "python",
     "metadata": {},
     "outputs": [
      {
       "output_type": "stream",
       "stream": "stdout",
       "text": [
        "Stored 'clf_data' (DataFrame)\n"
       ]
      }
     ],
     "prompt_number": 8
    },
    {
     "cell_type": "code",
     "collapsed": false,
     "input": [
      "sns.factorplot(\"classifier\", \"mcc_score\",\n",
      "               data=clf_data, kind=\"bar\",\n",
      "               x_order=[classifier for classifier in (clf_data.groupby([\"classifier\"])\n",
      "                                                      [\"mcc_score\"].mean().reset_index()\n",
      "                                                      .sort(\"mcc_score\", ascending=False)\n",
      "                                                      [\"classifier\"])])"
     ],
     "language": "python",
     "metadata": {},
     "outputs": [
      {
       "metadata": {},
       "output_type": "pyout",
       "prompt_number": 10,
       "text": [
        "<seaborn.axisgrid.FacetGrid at 0x7f00f8be4590>"
       ]
      },
      {
       "metadata": {},
       "output_type": "display_data",
       "png": "[encoded data removed]",
       "text": [
        "<matplotlib.figure.Figure at 0x7f00f8be45d0>"
       ]
      }
     ],
     "prompt_number": 10
    },
    {
     "cell_type": "code",
     "collapsed": false,
     "input": [],
     "language": "python",
     "metadata": {},
     "outputs": []
    }
   ],
   "metadata": {}
  }
 ]
}