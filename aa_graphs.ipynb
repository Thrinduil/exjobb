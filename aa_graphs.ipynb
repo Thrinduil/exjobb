{
 "metadata": {
  "name": ""
 },
 "nbformat": 3,
 "nbformat_minor": 0,
 "worksheets": [
  {
   "cells": [
    {
     "cell_type": "code",
     "collapsed": false,
     "input": [
      "import numpy as np\n",
      "import matplotlib.pyplot as plt\n",
      "import seaborn as sns\n",
      "import pandas as pd\n",
      "%matplotlib inline\n",
      "sns.set(context='paper', style='darkgrid', palette='deep', font='sans-serif', font_scale=1.2, rc=None)"
     ],
     "language": "python",
     "metadata": {},
     "outputs": [],
     "prompt_number": 5
    },
    {
     "cell_type": "code",
     "collapsed": false,
     "input": [
      "with open(\"../data/allRecords.fasta\", \"r\") as fasta_file:\n",
      "    lines = fasta_file.readlines()\n",
      "records = {}\n",
      "for line in lines:\n",
      "    if line[0] == \">\":\n",
      "        name = line[1:].split()[0]\n",
      "        records[name] = {}\n",
      "        records[name][\"seq\"] = []\n",
      "    else:\n",
      "        records[name][\"seq\"].extend(list(line.strip()))"
     ],
     "language": "python",
     "metadata": {},
     "outputs": [],
     "prompt_number": 6
    },
    {
     "cell_type": "code",
     "collapsed": false,
     "input": [
      "def morf_labels(name):\n",
      "    y = []\n",
      "    data_filepath = \"/home/freso388/nsc/data/MoRF/\"\n",
      "    data_test_filename = data_filepath + \"MoRF_test.fasta\"\n",
      "    data_train_filename = data_filepath + \"MoRF_training.fasta\"\n",
      "    with open(data_test_filename, \"r\") as test_file:\n",
      "        test_lines = test_file.readlines()\n",
      "    with open(data_train_filename, \"r\") as train_file:\n",
      "        train_lines = train_file.readlines()\n",
      "    \n",
      "    found = False\n",
      "    identifier = name[4:]\n",
      "\n",
      "    for line_idx, line in enumerate(test_lines):\n",
      "        inline_idx = line.find(identifier)\n",
      "        if inline_idx != -1:\n",
      "            found = True\n",
      "            train_name = False\n",
      "            break\n",
      "\n",
      "    if not found:\n",
      "        for line_idx, line in enumerate(train_lines):\n",
      "            inline_idx = line.find(identifier)\n",
      "            if inline_idx != -1:\n",
      "                found = True\n",
      "                train_name = True\n",
      "                break\n",
      "\n",
      "    if found:\n",
      "        if not train_name:\n",
      "            y_vals = list(test_lines[line_idx + 2].strip())\n",
      "            y_vals = [int(y_val) for y_val in y_vals]\n",
      "        else:\n",
      "            y_vals = list(train_lines[line_idx + 2].strip())\n",
      "            y_vals = [int(y_val) for y_val in y_vals]\n",
      "    else:\n",
      "        return \"I'm so sorry!\"\n",
      "\n",
      "    y.extend(y_vals)\n",
      "    \n",
      "    return y"
     ],
     "language": "python",
     "metadata": {},
     "outputs": [],
     "prompt_number": 7
    },
    {
     "cell_type": "code",
     "collapsed": false,
     "input": [
      "def pros_labels(name):\n",
      "    y = []\n",
      "    data_filepath = \"/home/freso388/nsc/data/\"\n",
      "    data_filename = data_filepath + \"allRecords.myformat\"\n",
      "    with open(data_filename, \"r\") as data_file:\n",
      "        lines = data_file.readlines()\n",
      "    \n",
      "    found = False\n",
      "\n",
      "    for line_idx, line in enumerate(lines):\n",
      "        inline_idx = line.find(name)\n",
      "        if inline_idx != -1:\n",
      "            found = True\n",
      "            break\n",
      "\n",
      "    if found:\n",
      "            y_vals = list(lines[line_idx + 3].strip())\n",
      "            y_vals = [int(y_val) for y_val in y_vals[8:]]\n",
      "    else:\n",
      "        return \"I'm so sorry!\"\n",
      "\n",
      "    y.extend(y_vals)\n",
      "    \n",
      "    return y"
     ],
     "language": "python",
     "metadata": {},
     "outputs": [],
     "prompt_number": 8
    },
    {
     "cell_type": "code",
     "collapsed": false,
     "input": [
      "for name in records.keys():\n",
      "    if name[0] == \"I\":\n",
      "        records[name][\"labels\"] = pros_labels(name)\n",
      "    elif name[0] == \"M\":\n",
      "        records[name][\"labels\"] = morf_labels(name)"
     ],
     "language": "python",
     "metadata": {},
     "outputs": [],
     "prompt_number": 9
    },
    {
     "cell_type": "heading",
     "level": 2,
     "metadata": {},
     "source": [
      "Amino acid composition for protean/non-protean"
     ]
    },
    {
     "cell_type": "code",
     "collapsed": false,
     "input": [
      "import itertools\n",
      "all_seqs = []\n",
      "pros_seqs = []\n",
      "morf_seqs = []\n",
      "all_seqs_protean = []\n",
      "pros_seqs_protean = []\n",
      "morf_seqs_protean = []\n",
      "all_seqs_nonprotean = []\n",
      "pros_seqs_nonprotean = []\n",
      "morf_seqs_nonprotean = []\n",
      "for name in records.keys():\n",
      "    all_seqs.extend(records[name][\"seq\"])\n",
      "    all_seqs_protean.extend(list(itertools.compress(records[name][\"seq\"], records[name][\"labels\"])))\n",
      "    all_seqs_nonprotean.extend(list(itertools.compress(records[name][\"seq\"], [(label+1)%2 for label in records[name][\"labels\"]])))\n",
      "    if name[0] == \"I\":\n",
      "        pros_seqs.extend(records[name][\"seq\"])\n",
      "        pros_seqs_protean.extend(list(itertools.compress(records[name][\"seq\"], records[name][\"labels\"])))\n",
      "        pros_seqs_nonprotean.extend(list(itertools.compress(records[name][\"seq\"], [(label+1)%2 for label in records[name][\"labels\"]])))\n",
      "\n",
      "    elif name[0] == \"M\":\n",
      "        morf_seqs.extend(records[name][\"seq\"])\n",
      "        morf_seqs_protean.extend(list(itertools.compress(records[name][\"seq\"], records[name][\"labels\"])))\n",
      "        morf_seqs_nonprotean.extend(list(itertools.compress(records[name][\"seq\"], [(label+1)%2 for label in records[name][\"labels\"]])))"
     ],
     "language": "python",
     "metadata": {},
     "outputs": [],
     "prompt_number": 6
    },
    {
     "cell_type": "code",
     "collapsed": false,
     "input": [
      "aa_list = ['A', 'C', 'D', 'E', 'F', 'G', 'H', 'I', 'K', 'L',\n",
      "           'M', 'N', 'P', 'Q', 'R', 'S', 'T', 'V', 'W', 'Y']\n",
      "all_percentages = []\n",
      "morf_percentages = []\n",
      "pros_percentages = []\n",
      "all_protean_percentages = []\n",
      "morf_protean_percentages = []\n",
      "pros_protean_percentages = []\n",
      "all_nonprotean_percentages = []\n",
      "morf_nonprotean_percentages = []\n",
      "pros_nonprotean_percentages = []\n",
      "\n",
      "for aa in aa_list:\n",
      "    all_percentages.append(float(all_seqs.count(aa)) / len(all_seqs))\n",
      "    morf_percentages.append(float(morf_seqs.count(aa)) / len(morf_seqs))\n",
      "    pros_percentages.append(float(pros_seqs.count(aa)) / len(pros_seqs))\n",
      "    \n",
      "    all_protean_percentages.append(float(all_seqs_protean.count(aa)) / len(all_seqs_protean))\n",
      "    morf_protean_percentages.append(float(morf_seqs_protean.count(aa)) / len(morf_seqs_protean))\n",
      "    pros_protean_percentages.append(float(pros_seqs_protean.count(aa)) / len(pros_seqs_protean))\n",
      "    \n",
      "    all_nonprotean_percentages.append(float(all_seqs_nonprotean.count(aa)) / len(all_seqs_nonprotean))\n",
      "    morf_nonprotean_percentages.append(float(morf_seqs_nonprotean.count(aa)) / len(morf_seqs_nonprotean))\n",
      "    pros_nonprotean_percentages.append(float(pros_seqs_nonprotean.count(aa)) / len(pros_seqs_nonprotean))"
     ],
     "language": "python",
     "metadata": {},
     "outputs": [],
     "prompt_number": 7
    },
    {
     "cell_type": "code",
     "collapsed": false,
     "input": [
      "data = {\"Amino acid\": aa_list * 9,\n",
      "        \"Percentage\": (all_percentages + morf_percentages + pros_percentages +\n",
      "                    all_protean_percentages + morf_protean_percentages + pros_protean_percentages +\n",
      "                    all_nonprotean_percentages + morf_nonprotean_percentages + pros_nonprotean_percentages),\n",
      "        \"Dataset\": ([\"MoRF & ProS\"] * 20 + [\"MoRF\"] * 20 + [\"ProS\"] * 20) * 3,\n",
      "        \"Selection\": [\"All\"] * 60 + [\"Protean\"] * 60 + [\"Non-protean\"] * 60}\n",
      "data = pd.DataFrame(data)\n",
      "%store data"
     ],
     "language": "python",
     "metadata": {},
     "outputs": [
      {
       "output_type": "stream",
       "stream": "stdout",
       "text": [
        "Stored 'data' (DataFrame)\n"
       ]
      }
     ],
     "prompt_number": 8
    },
    {
     "cell_type": "code",
     "collapsed": false,
     "input": [
      "sns.factorplot(\"Amino acid\", \"Percentage\", \"Selection\", data=data, row=\"Dataset\", kind=\"bar\", size=4, aspect=7./4.)"
     ],
     "language": "python",
     "metadata": {},
     "outputs": [
      {
       "metadata": {},
       "output_type": "pyout",
       "prompt_number": 9,
       "text": [
        "<seaborn.axisgrid.FacetGrid at 0x7f099e7b7e90>"
       ]
      },
      {
       "metadata": {},
       "output_type": "display_data",
       "png": "[encoded data removed]",
       "text": [
        "<matplotlib.figure.Figure at 0x7f099e7b7490>"
       ]
      }
     ],
     "prompt_number": 9
    },
    {
     "cell_type": "code",
     "collapsed": false,
     "input": [
      "all_diff = np.array(all_nonprotean_percentages) - np.array(all_protean_percentages)\n",
      "morf_diff = np.array(morf_nonprotean_percentages) - np.array(morf_protean_percentages)\n",
      "pros_diff = np.array(pros_nonprotean_percentages) - np.array(pros_protean_percentages)"
     ],
     "language": "python",
     "metadata": {},
     "outputs": [],
     "prompt_number": 10
    },
    {
     "cell_type": "code",
     "collapsed": false,
     "input": [
      "data_diff = {\"Amino acid\": aa_list * 3,\n",
      "             \"Difference\": np.ravel(np.vstack((all_diff, morf_diff, pros_diff))),\n",
      "             \"Dataset\": ([\"MoRF & ProS\"] * 20 + [\"MoRF\"] * 20 + [\"ProS\"] * 20)}\n",
      "data_diff = pd.DataFrame(data_diff)\n",
      "%store data_diff"
     ],
     "language": "python",
     "metadata": {},
     "outputs": [
      {
       "output_type": "stream",
       "stream": "stdout",
       "text": [
        "Stored 'data_diff' (DataFrame)\n"
       ]
      }
     ],
     "prompt_number": 11
    },
    {
     "cell_type": "code",
     "collapsed": false,
     "input": [
      "sns.factorplot(\"Amino acid\", \"Difference\", \"Dataset\", data=data_diff, kind=\"bar\", size=4.5, aspect=7./4.5, legend_out=False,\n",
      "               hue_order=[\"MoRF\", \"ProS\", \"MoRF & ProS\"],\n",
      "               x_order=['A', 'V', 'I', 'L', 'M', 'F', 'Y', 'W', 'S', 'T', 'N', 'Q', 'R', 'H', 'K', 'D', 'E', 'C', 'G', 'P'])\n",
      "plt.savefig('amino_acid_diff.pdf', bbox_inches='tight')"
     ],
     "language": "python",
     "metadata": {},
     "outputs": [
      {
       "metadata": {},
       "output_type": "display_data",
       "png": "[encoded data removed]",
       "text": [
        "<matplotlib.figure.Figure at 0x7eff3a023410>"
       ]
      }
     ],
     "prompt_number": 2
    },
    {
     "cell_type": "heading",
     "level": 2,
     "metadata": {},
     "source": [
      "Amino acid composition for order/disorder"
     ]
    },
    {
     "cell_type": "code",
     "collapsed": false,
     "input": [
      "import itertools\n",
      "all_seqs = []\n",
      "pros_seqs = []\n",
      "morf_seqs = []\n",
      "all_seqs_disorder = []\n",
      "pros_seqs_disorder = []\n",
      "morf_seqs_disorder = []\n",
      "all_seqs_order = []\n",
      "pros_seqs_order = []\n",
      "morf_seqs_order = []\n",
      "for name in records.keys():\n",
      "    \n",
      "    filename = \"/home/freso388/nsc/disopred/output/\" + name + \".diso\"\n",
      "    disorder_cutoff = 0.5\n",
      "    \n",
      "    with open(filename) as f:\n",
      "        lines = f.readlines()[3:]\n",
      "    disorder = []\n",
      "    for line in lines:\n",
      "        score = float(line.split()[3])\n",
      "        if score >= disorder_cutoff:\n",
      "            disorder.append(1)\n",
      "        if score < disorder_cutoff:\n",
      "            disorder.append(0)\n",
      "        \n",
      "    all_seqs.extend(records[name][\"seq\"])\n",
      "    all_seqs_disorder.extend(list(itertools.compress(records[name][\"seq\"], disorder)))\n",
      "    all_seqs_order.extend(list(itertools.compress(records[name][\"seq\"], [(label+1)%2 for label in disorder])))\n",
      "    if name[0] == \"I\":\n",
      "        pros_seqs.extend(records[name][\"seq\"])\n",
      "        pros_seqs_disorder.extend(list(itertools.compress(records[name][\"seq\"], disorder)))\n",
      "        pros_seqs_order.extend(list(itertools.compress(records[name][\"seq\"], [(label+1)%2 for label in disorder])))\n",
      "\n",
      "    elif name[0] == \"M\":\n",
      "        morf_seqs.extend(records[name][\"seq\"])\n",
      "        morf_seqs_disorder.extend(list(itertools.compress(records[name][\"seq\"], disorder)))\n",
      "        morf_seqs_order.extend(list(itertools.compress(records[name][\"seq\"], [(label+1)%2 for label in disorder])))"
     ],
     "language": "python",
     "metadata": {},
     "outputs": [],
     "prompt_number": 38
    },
    {
     "cell_type": "code",
     "collapsed": false,
     "input": [
      "aa_list = ['A', 'C', 'D', 'E', 'F', 'G', 'H', 'I', 'K', 'L',\n",
      "           'M', 'N', 'P', 'Q', 'R', 'S', 'T', 'V', 'W', 'Y']\n",
      "all_percentages = []\n",
      "morf_percentages = []\n",
      "pros_percentages = []\n",
      "all_disorder_percentages = []\n",
      "morf_disorder_percentages = []\n",
      "pros_disorder_percentages = []\n",
      "all_order_percentages = []\n",
      "morf_order_percentages = []\n",
      "pros_order_percentages = []\n",
      "\n",
      "for aa in aa_list:\n",
      "    all_percentages.append(float(all_seqs.count(aa)) / len(all_seqs))\n",
      "    morf_percentages.append(float(morf_seqs.count(aa)) / len(morf_seqs))\n",
      "    pros_percentages.append(float(pros_seqs.count(aa)) / len(pros_seqs))\n",
      "    \n",
      "    all_disorder_percentages.append(float(all_seqs_disorder.count(aa)) / len(all_seqs_disorder))\n",
      "    morf_disorder_percentages.append(float(morf_seqs_disorder.count(aa)) / len(morf_seqs_disorder))\n",
      "    pros_disorder_percentages.append(float(pros_seqs_disorder.count(aa)) / len(pros_seqs_disorder))\n",
      "    \n",
      "    all_order_percentages.append(float(all_seqs_order.count(aa)) / len(all_seqs_order))\n",
      "    morf_order_percentages.append(float(morf_seqs_order.count(aa)) / len(morf_seqs_order))\n",
      "    pros_order_percentages.append(float(pros_seqs_order.count(aa)) / len(pros_seqs_order))"
     ],
     "language": "python",
     "metadata": {},
     "outputs": [],
     "prompt_number": 42
    },
    {
     "cell_type": "code",
     "collapsed": false,
     "input": [
      "all_disorder_diff = np.array(all_order_percentages) - np.array(all_disorder_percentages)\n",
      "morf_disorder_diff = np.array(morf_order_percentages) - np.array(morf_disorder_percentages)\n",
      "pros_disorder_diff = np.array(pros_order_percentages) - np.array(pros_disorder_percentages)"
     ],
     "language": "python",
     "metadata": {},
     "outputs": [],
     "prompt_number": 43
    },
    {
     "cell_type": "code",
     "collapsed": false,
     "input": [
      "data_disorder_diff = {\"Amino acid\": aa_list * 3,\n",
      "                      \"Difference\": np.ravel(np.vstack((all_disorder_diff, morf_disorder_diff, pros_disorder_diff))),\n",
      "                      \"Dataset\": ([\"MoRF & ProS\"] * 20 + [\"MoRF\"] * 20 + [\"ProS\"] * 20)}\n",
      "data_disorder_diff = pd.DataFrame(data_disorder_diff)\n",
      "%store data_disorder_diff"
     ],
     "language": "python",
     "metadata": {},
     "outputs": [
      {
       "output_type": "stream",
       "stream": "stdout",
       "text": [
        "Stored 'data_disorder_diff' (DataFrame)\n"
       ]
      }
     ],
     "prompt_number": 44
    },
    {
     "cell_type": "code",
     "collapsed": false,
     "input": [
      "sns.factorplot(\"Amino acid\", \"Difference\", \"Dataset\", data=data_disorder_diff, kind=\"bar\", size=4.5, aspect=7./4.5, legend_out=False,\n",
      "               hue_order=[\"MoRF\", \"ProS\", \"MoRF & ProS\"],\n",
      "               x_order=['A', 'V', 'I', 'L', 'M', 'F', 'Y', 'W', 'S', 'T', 'N', 'Q', 'R', 'H', 'K', 'D', 'E', 'C', 'G', 'P'])\n",
      "plt.savefig('amino_acid_diff_disorder.pdf', bbox_inches='tight')"
     ],
     "language": "python",
     "metadata": {},
     "outputs": [
      {
       "metadata": {},
       "output_type": "display_data",
       "png": "[encoded data removed]",
       "text": [
        "<matplotlib.figure.Figure at 0x7eff39d650d0>"
       ]
      }
     ],
     "prompt_number": 45
    },
    {
     "cell_type": "heading",
     "level": 2,
     "metadata": {},
     "source": [
      "Amino acid properties"
     ]
    },
    {
     "cell_type": "code",
     "collapsed": false,
     "input": [
      "aa_data = {\"A\": {\"polar\": 0,\n",
      "                 \"nonpolar\": 1,\n",
      "                 \"a_polar\": 0,\n",
      "                 \"b_polar\": 0,\n",
      "                 \"neutral\": 1,\n",
      "                 \"positive\": 0,\n",
      "                 \"negative\": 0,\n",
      "                 \"hydropathy\": 1.8,\n",
      "                 \"weight\": 89},\n",
      "           \"C\": {\"polar\": 0,\n",
      "                 \"nonpolar\": 1,\n",
      "                 \"a_polar\": 0,\n",
      "                 \"b_polar\": 0,\n",
      "                 \"neutral\": 1,\n",
      "                 \"positive\": 0,\n",
      "                 \"negative\": 0,\n",
      "                 \"hydropathy\": 2.5,\n",
      "                 \"weight\": 121},\n",
      "           \"D\": {\"polar\": 0,\n",
      "                 \"nonpolar\": 0,\n",
      "                 \"a_polar\": 1,\n",
      "                 \"b_polar\": 0,\n",
      "                 \"neutral\": 0,\n",
      "                 \"positive\": 0,\n",
      "                 \"negative\": 1,\n",
      "                 \"hydropathy\": -3.5,\n",
      "                 \"weight\": 133},\n",
      "           \"E\": {\"polar\": 0,\n",
      "                 \"nonpolar\": 0,\n",
      "                 \"a_polar\": 1,\n",
      "                 \"b_polar\": 0,\n",
      "                 \"neutral\": 0,\n",
      "                 \"positive\": 0,\n",
      "                 \"negative\": 1,\n",
      "                 \"hydropathy\": -3.5,\n",
      "                 \"weight\": 147},\n",
      "           \"F\": {\"polar\": 0,\n",
      "                 \"nonpolar\": 1,\n",
      "                 \"a_polar\": 0,\n",
      "                 \"b_polar\": 0,\n",
      "                 \"neutral\": 1,\n",
      "                 \"positive\": 0,\n",
      "                 \"negative\": 0,\n",
      "                 \"hydropathy\": 2.8,\n",
      "                 \"weight\": 165},\n",
      "           \"G\": {\"polar\": 0,\n",
      "                 \"nonpolar\": 1,\n",
      "                 \"a_polar\": 0,\n",
      "                 \"b_polar\": 0,\n",
      "                 \"neutral\": 1,\n",
      "                 \"positive\": 0,\n",
      "                 \"negative\": 0,\n",
      "                 \"hydropathy\": -0.4,\n",
      "                 \"weight\": 75},\n",
      "           \"H\": {\"polar\": 0,\n",
      "                 \"nonpolar\": 0,\n",
      "                 \"a_polar\": 0,\n",
      "                 \"b_polar\": 1,\n",
      "                 \"neutral\": 0.9,\n",
      "                 \"positive\": 0.1,\n",
      "                 \"negative\": 0,\n",
      "                 \"hydropathy\": -3.2,\n",
      "                 \"weight\": 155},\n",
      "           \"I\": {\"polar\": 0,\n",
      "                 \"nonpolar\": 1,\n",
      "                 \"a_polar\": 0,\n",
      "                 \"b_polar\": 0,\n",
      "                 \"neutral\": 1,\n",
      "                 \"positive\": 0,\n",
      "                 \"negative\": 0,\n",
      "                 \"hydropathy\": 4.5,\n",
      "                 \"weight\": 131},\n",
      "           \"K\": {\"polar\": 0,\n",
      "                 \"nonpolar\": 0,\n",
      "                 \"a_polar\": 0,\n",
      "                 \"b_polar\": 1,\n",
      "                 \"neutral\": 0,\n",
      "                 \"positive\": 1,\n",
      "                 \"negative\": 0,\n",
      "                 \"hydropathy\": -3.9,\n",
      "                 \"weight\": 146},\n",
      "           \"L\": {\"polar\": 0,\n",
      "                 \"nonpolar\": 1,\n",
      "                 \"a_polar\": 0,\n",
      "                 \"b_polar\": 0,\n",
      "                 \"neutral\": 1,\n",
      "                 \"positive\": 0,\n",
      "                 \"negative\": 0,\n",
      "                 \"hydropathy\": 3.8,\n",
      "                 \"weight\": 131},\n",
      "           \"M\": {\"polar\": 0,\n",
      "                 \"nonpolar\": 1,\n",
      "                 \"a_polar\": 0,\n",
      "                 \"b_polar\": 0,\n",
      "                 \"neutral\": 1,\n",
      "                 \"positive\": 0,\n",
      "                 \"negative\": 0,\n",
      "                 \"hydropathy\": 1.9,\n",
      "                 \"weight\": 149},\n",
      "           \"N\": {\"polar\": 1,\n",
      "                 \"nonpolar\": 0,\n",
      "                 \"a_polar\": 0,\n",
      "                 \"b_polar\": 0,\n",
      "                 \"neutral\": 1,\n",
      "                 \"positive\": 0,\n",
      "                 \"negative\": 0,\n",
      "                 \"hydropathy\": -3.5,\n",
      "                 \"weight\": 132},\n",
      "           \"P\": {\"polar\": 0,\n",
      "                 \"nonpolar\": 1,\n",
      "                 \"a_polar\": 0,\n",
      "                 \"b_polar\": 0,\n",
      "                 \"neutral\": 1,\n",
      "                 \"positive\": 0,\n",
      "                 \"negative\": 0,\n",
      "                 \"hydropathy\": -1.6,\n",
      "                 \"weight\": 115},\n",
      "           \"Q\": {\"polar\": 1,\n",
      "                 \"nonpolar\": 0,\n",
      "                 \"a_polar\": 0,\n",
      "                 \"b_polar\": 0,\n",
      "                 \"neutral\": 1,\n",
      "                 \"positive\": 0,\n",
      "                 \"negative\": 0,\n",
      "                 \"hydropathy\": -3.5,\n",
      "                 \"weight\": 146},\n",
      "           \"R\": {\"polar\": 0,\n",
      "                 \"nonpolar\": 0,\n",
      "                 \"a_polar\": 0,\n",
      "                 \"b_polar\": 1,\n",
      "                 \"neutral\": 0,\n",
      "                 \"positive\": 1,\n",
      "                 \"negative\": 0,\n",
      "                 \"hydropathy\": -4.5,\n",
      "                 \"weight\": 174},\n",
      "           \"S\": {\"polar\": 1,\n",
      "                 \"nonpolar\": 0,\n",
      "                 \"a_polar\": 0,\n",
      "                 \"b_polar\": 0,\n",
      "                 \"neutral\": 1,\n",
      "                 \"positive\": 0,\n",
      "                 \"negative\": 0,\n",
      "                 \"hydropathy\": -0.8,\n",
      "                 \"weight\": 105},\n",
      "           \"T\": {\"polar\": 1,\n",
      "                 \"nonpolar\": 0,\n",
      "                 \"a_polar\": 0,\n",
      "                 \"b_polar\": 0,\n",
      "                 \"neutral\": 1,\n",
      "                 \"positive\": 0,\n",
      "                 \"negative\": 0,\n",
      "                 \"hydropathy\": -0.7,\n",
      "                 \"weight\": 119},\n",
      "           \"V\": {\"polar\": 0,\n",
      "                 \"nonpolar\": 1,\n",
      "                 \"a_polar\": 0,\n",
      "                 \"b_polar\": 0,\n",
      "                 \"neutral\": 1,\n",
      "                 \"positive\": 0,\n",
      "                 \"negative\": 0,\n",
      "                 \"hydropathy\": 4.2,\n",
      "                 \"weight\": 117},\n",
      "           \"W\": {\"polar\": 0,\n",
      "                 \"nonpolar\": 1,\n",
      "                 \"a_polar\": 0,\n",
      "                 \"b_polar\": 0,\n",
      "                 \"neutral\": 1,\n",
      "                 \"positive\": 0,\n",
      "                 \"negative\": 0,\n",
      "                 \"hydropathy\": -0.9,\n",
      "                 \"weight\": 204},\n",
      "           \"Y\": {\"polar\": 1,\n",
      "                 \"nonpolar\": 0,\n",
      "                 \"a_polar\": 0,\n",
      "                 \"b_polar\": 0,\n",
      "                 \"neutral\": 1,\n",
      "                 \"positive\": 0,\n",
      "                 \"negative\": 0,\n",
      "                 \"hydropathy\": -1.3,\n",
      "                 \"weight\": 181}\n",
      "           }"
     ],
     "language": "python",
     "metadata": {},
     "outputs": [],
     "prompt_number": 13
    },
    {
     "cell_type": "code",
     "collapsed": false,
     "input": [
      "all_properties = {}\n",
      "morf_properties = {}\n",
      "pros_properties = {}\n",
      "\n",
      "all_protean_properties = {}\n",
      "morf_protean_properties = {}\n",
      "pros_protean_properties = {}\n",
      "\n",
      "all_nonprotean_properties = {}\n",
      "morf_nonprotean_properties = {}\n",
      "pros_nonprotean_properties = {}\n",
      "\n",
      "keys = [\"polar\", \"nonpolar\", \"a_polar\", \"b_polar\", \"neutral\", \"positive\", \"negative\", \"hydropathy\", \"weight\"]\n",
      "\n",
      "for key in keys:\n",
      "    all_properties[key] = []\n",
      "    morf_properties[key] = []\n",
      "    pros_properties[key] = []\n",
      "    \n",
      "    all_protean_properties[key] = []\n",
      "    morf_protean_properties[key] = []\n",
      "    pros_protean_properties[key] = []\n",
      "    \n",
      "    all_nonprotean_properties[key] = []\n",
      "    morf_nonprotean_properties[key] = []\n",
      "    pros_nonprotean_properties[key] = []\n",
      "    \n",
      "    for idx, aa in enumerate(aa_list):\n",
      "        all_properties[key].append(all_percentages[idx] * aa_data[aa][key])\n",
      "        morf_properties[key].append(morf_percentages[idx] * aa_data[aa][key])\n",
      "        pros_properties[key].append(pros_percentages[idx] * aa_data[aa][key])\n",
      "        \n",
      "        all_protean_properties[key].append(all_protean_percentages[idx] * aa_data[aa][key])\n",
      "        morf_protean_properties[key].append(morf_protean_percentages[idx] * aa_data[aa][key])\n",
      "        pros_protean_properties[key].append(pros_protean_percentages[idx] * aa_data[aa][key])\n",
      "        \n",
      "        all_nonprotean_properties[key].append(all_nonprotean_percentages[idx] * aa_data[aa][key])\n",
      "        morf_nonprotean_properties[key].append(morf_nonprotean_percentages[idx] * aa_data[aa][key])\n",
      "        pros_nonprotean_properties[key].append(pros_nonprotean_percentages[idx] * aa_data[aa][key])\n",
      "\n",
      "    all_properties[key] = np.array(all_properties[key]).sum()\n",
      "    morf_properties[key] = np.array(morf_properties[key]).sum()\n",
      "    pros_properties[key] = np.array(pros_properties[key]).sum()\n",
      "    \n",
      "    all_protean_properties[key] = np.array(all_protean_properties[key]).sum()\n",
      "    morf_protean_properties[key] = np.array(morf_protean_properties[key]).sum()\n",
      "    pros_protean_properties[key] = np.array(pros_protean_properties[key]).sum()\n",
      "    \n",
      "    all_nonprotean_properties[key] = np.array(all_nonprotean_properties[key]).sum()\n",
      "    morf_nonprotean_properties[key] = np.array(morf_nonprotean_properties[key]).sum()\n",
      "    pros_nonprotean_properties[key] = np.array(pros_nonprotean_properties[key]).sum()"
     ],
     "language": "python",
     "metadata": {},
     "outputs": [],
     "prompt_number": 14
    },
    {
     "cell_type": "code",
     "collapsed": false,
     "input": [
      "all_prop_diff = []\n",
      "morf_prop_diff = []\n",
      "pros_prop_diff = []\n",
      "keys_names = [\"Polar\", \"Nonpolar\", \"Acidic polar\", \"Basic polar\", \"Neu. charge\", \"Pos. charge\", \"Neg. charge\", \"Hydropathy\", \"Weight\"]\n",
      "for key in keys:\n",
      "    all_prop_diff.append(all_nonprotean_properties[key] - all_protean_properties[key])\n",
      "    morf_prop_diff.append(morf_nonprotean_properties[key] - morf_protean_properties[key])\n",
      "    pros_prop_diff.append(pros_nonprotean_properties[key] - pros_protean_properties[key])"
     ],
     "language": "python",
     "metadata": {},
     "outputs": [],
     "prompt_number": 15
    },
    {
     "cell_type": "code",
     "collapsed": false,
     "input": [
      "data_prop = {\"Property\": keys_names * 3,\n",
      "             \"Difference\": np.ravel(np.vstack((all_prop_diff, morf_prop_diff, pros_prop_diff))),\n",
      "             \"Dataset\": ([\"MoRF & ProS\"] * 9 + [\"MoRF\"] * 9 + [\"ProS\"] * 9)}\n",
      "data_prop = pd.DataFrame(data_prop)\n",
      "%store data_prop"
     ],
     "language": "python",
     "metadata": {},
     "outputs": [
      {
       "output_type": "stream",
       "stream": "stdout",
       "text": [
        "Stored 'data_prop' (DataFrame)\n"
       ]
      }
     ],
     "prompt_number": 16
    },
    {
     "cell_type": "code",
     "collapsed": false,
     "input": [
      "g = sns.factorplot(\"Property\", \"Difference\", \"Dataset\", data=data_prop,\n",
      "                   kind=\"bar\", size=3, aspect=7./3., legend_out=False,\n",
      "                   x_order = keys_names[:-1],\n",
      "                   hue_order=[\"MoRF\", \"ProS\", \"MoRF & ProS\"])\n",
      "g.set_xticklabels(rotation=30)\n",
      "plt.savefig('properties_diff.pdf', bbox_inches='tight')"
     ],
     "language": "python",
     "metadata": {},
     "outputs": [
      {
       "metadata": {},
       "output_type": "display_data",
       "png": "[encoded data removed]",
       "text": [
        "<matplotlib.figure.Figure at 0x7f099e307190>"
       ]
      }
     ],
     "prompt_number": 17
    },
    {
     "cell_type": "heading",
     "level": 2,
     "metadata": {},
     "source": [
      "Conservation"
     ]
    },
    {
     "cell_type": "code",
     "collapsed": false,
     "input": [
      "def get_conservation_features(name):\n",
      "\n",
      "    filename = \"/home/freso388/nsc/disopred/output2/\" + name + \".psi\"\n",
      "    with open(filename) as f:\n",
      "        lines = f.readlines()[3:-6]\n",
      "    con_scores = []\n",
      "    for line in lines:\n",
      "        words = line.split()\n",
      "        con_scores.append([float(words[42].strip())])\n",
      "    \n",
      "    con_scores = np.array(con_scores)\n",
      "\n",
      "    return con_scores"
     ],
     "language": "python",
     "metadata": {},
     "outputs": [],
     "prompt_number": 18
    },
    {
     "cell_type": "code",
     "collapsed": false,
     "input": [
      "import itertools\n",
      "all_con = []\n",
      "pros_con = []\n",
      "morf_con = []\n",
      "all_con_protean = []\n",
      "pros_con_protean = []\n",
      "morf_con_protean = []\n",
      "all_con_nonprotean = []\n",
      "pros_con_nonprotean = []\n",
      "morf_con_nonprotean = []\n",
      "for name in records.keys():\n",
      "    con_scores = get_conservation_features(name).ravel()\n",
      "    \n",
      "    all_con.extend(con_scores)\n",
      "    all_con_protean.extend(list(itertools.compress(con_scores, records[name][\"labels\"])))\n",
      "    all_con_nonprotean.extend(list(itertools.compress(con_scores, [(label+1)%2 for label in records[name][\"labels\"]])))\n",
      "    \n",
      "    if name[0] == \"I\":\n",
      "        pros_con.extend(con_scores)\n",
      "        pros_con_protean.extend(list(itertools.compress(con_scores, records[name][\"labels\"])))\n",
      "        pros_con_nonprotean.extend(list(itertools.compress(con_scores, [(label+1)%2 for label in records[name][\"labels\"]])))\n",
      "\n",
      "    elif name[0] == \"M\":\n",
      "        morf_con.extend(con_scores)\n",
      "        morf_con_protean.extend(list(itertools.compress(con_scores, records[name][\"labels\"])))\n",
      "        morf_con_nonprotean.extend(list(itertools.compress(con_scores, [(label+1)%2 for label in records[name][\"labels\"]])))"
     ],
     "language": "python",
     "metadata": {},
     "outputs": [],
     "prompt_number": 19
    },
    {
     "cell_type": "code",
     "collapsed": false,
     "input": [
      "data_con = {\"Average conservation score\": (all_con_nonprotean +\n",
      "                                           all_con_protean +\n",
      "                                           morf_con_nonprotean +\n",
      "                                           morf_con_protean +\n",
      "                                           pros_con_nonprotean +\n",
      "                                           pros_con_protean),\n",
      "             \"Region\": ([\"Non-protean\"] * len(all_con_nonprotean) + [\"Protean\"] * len(all_con_protean) +\n",
      "                        [\"Non-protean\"] * len(morf_con_nonprotean) + [\"Protean\"] * len(morf_con_protean) +\n",
      "                        [\"Non-protean\"] * len(pros_con_nonprotean) + [\"Protean\"] * len(pros_con_protean)),\n",
      "             \"Dataset\": ([\"MoRF & ProS\"] * len(all_con) + [\"MoRF\"] * len(morf_con) + [\"ProS\"] * len(pros_con))}\n",
      "data_con = pd.DataFrame(data_con)\n",
      "%store data_con"
     ],
     "language": "python",
     "metadata": {},
     "outputs": [
      {
       "output_type": "stream",
       "stream": "stdout",
       "text": [
        "Stored 'data_con' (DataFrame)\n"
       ]
      }
     ],
     "prompt_number": 25
    },
    {
     "cell_type": "code",
     "collapsed": false,
     "input": [
      "g = sns.factorplot(\"Dataset\", \"Average conservation score\", \"Region\", data=data_con,\n",
      "                   kind=\"bar\", size=3.8, aspect=7./3.8, legend_out=False, n_boot=1000,\n",
      "                   x_order=[\"MoRF\", \"ProS\", \"MoRF & ProS\"],\n",
      "                   hue_order=[\"Non-protean\", \"Protean\"])\n",
      "g.set(ylim=(0, 1))\n",
      "plt.savefig('average_conservation.pdf', bbox_inches='tight')"
     ],
     "language": "python",
     "metadata": {},
     "outputs": [
      {
       "metadata": {},
       "output_type": "display_data",
       "png": "[encoded data removed]",
       "text": [
        "<matplotlib.figure.Figure at 0x7f099e5d4290>"
       ]
      }
     ],
     "prompt_number": 31
    },
    {
     "cell_type": "code",
     "collapsed": false,
     "input": [],
     "language": "python",
     "metadata": {},
     "outputs": [],
     "prompt_number": 27
    }
   ],
   "metadata": {}
  }
 ]
}