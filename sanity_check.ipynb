{
 "metadata": {
  "name": ""
 },
 "nbformat": 3,
 "nbformat_minor": 0,
 "worksheets": [
  {
   "cells": [
    {
     "cell_type": "heading",
     "level": 1,
     "metadata": {},
     "source": [
      "Sanity Check"
     ]
    },
    {
     "cell_type": "code",
     "collapsed": false,
     "input": [
      "import numpy as np\n",
      "import matplotlib.pyplot as plt\n",
      "import seaborn as sns\n",
      "import pandas as pd\n",
      "%matplotlib inline"
     ],
     "language": "python",
     "metadata": {},
     "outputs": [],
     "prompt_number": 8
    },
    {
     "cell_type": "code",
     "collapsed": false,
     "input": [
      "X_disopred_morf = np.load(\"../data/X_disopred_morf.npy\")\n",
      "X_myfeat_morf = np.load(\"../data/X_myfeat_morf.npy\")\n",
      "y_morf = np.load(\"../data/y_morf.npy\")"
     ],
     "language": "python",
     "metadata": {},
     "outputs": [],
     "prompt_number": 9
    },
    {
     "cell_type": "code",
     "collapsed": false,
     "input": [
      "X_disopred_morf_nops = X_disopred_morf[:,300:]\n",
      "X_myfeat_morf_nops = X_myfeat_morf[:,300:]"
     ],
     "language": "python",
     "metadata": {},
     "outputs": [],
     "prompt_number": 10
    },
    {
     "cell_type": "code",
     "collapsed": false,
     "input": [
      "from sklearn.metrics import make_scorer\n",
      "from sklearn.metrics import matthews_corrcoef\n",
      "mcc = make_scorer(matthews_corrcoef)\n",
      "\n",
      "from sklearn.cross_validation import StratifiedKFold\n",
      "cv_morf = StratifiedKFold(y_morf, n_folds=5,\n",
      "                          shuffle=True, random_state=42)\n",
      "\n",
      "from sklearn.cross_validation import cross_val_score\n",
      "\n",
      "from sklearn.ensemble import ExtraTreesClassifier\n",
      "\n",
      "et_clf = ExtraTreesClassifier(n_estimators=50,\n",
      "                              class_weight=\"auto\",\n",
      "                              random_state=42)"
     ],
     "language": "python",
     "metadata": {},
     "outputs": [],
     "prompt_number": 11
    },
    {
     "cell_type": "code",
     "collapsed": false,
     "input": [
      "disopred_morf_scores = cross_val_score(et_clf, X_disopred_morf, y_morf, scoring=mcc, cv=cv_morf, n_jobs=5)\n",
      "myfeat_morf_scores = cross_val_score(et_clf, X_myfeat_morf, y_morf, scoring=mcc, cv=cv_morf, n_jobs=5)"
     ],
     "language": "python",
     "metadata": {},
     "outputs": [],
     "prompt_number": 12
    },
    {
     "cell_type": "code",
     "collapsed": false,
     "input": [
      "disopred_nops_morf_scores = cross_val_score(et_clf, X_disopred_morf_nops, y_morf, scoring=mcc, cv=cv_morf, n_jobs=5)\n",
      "myfeat_nops_morf_scores = cross_val_score(et_clf, X_myfeat_morf_nops, y_morf, scoring=mcc, cv=cv_morf, n_jobs=5)"
     ],
     "language": "python",
     "metadata": {},
     "outputs": [],
     "prompt_number": 13
    },
    {
     "cell_type": "code",
     "collapsed": false,
     "input": [
      "myfeat_data = {\"mcc_score\": np.hstack((disopred_morf_scores,\n",
      "                                       myfeat_morf_scores,\n",
      "                                       disopred_nops_morf_scores,\n",
      "                                       myfeat_nops_morf_scores)),\n",
      "               \"feature_source\": ([\"disopred\"] * 5 +\n",
      "                                  [\"myfeat\"] * 5) * 2,\n",
      "               \"features\": ([\"all\"] * 10 +\n",
      "                            [\"nops\"] * 10)\n",
      "              }\n",
      "myfeat_data = pd.DataFrame(myfeat_data)\n",
      "sns.factorplot(\"features\", \"mcc_score\", \"feature_source\",\n",
      "               data=myfeat_data, kind=\"bar\")"
     ],
     "language": "python",
     "metadata": {},
     "outputs": [
      {
       "metadata": {},
       "output_type": "pyout",
       "prompt_number": 16,
       "text": [
        "<seaborn.axisgrid.FacetGrid at 0x7f78648cb6d0>"
       ]
      },
      {
       "metadata": {},
       "output_type": "display_data",
       "png": "[encoded data removed]",
       "text": [
        "<matplotlib.figure.Figure at 0x7f78648cb710>"
       ]
      }
     ],
     "prompt_number": 16
    },
    {
     "cell_type": "code",
     "collapsed": false,
     "input": [],
     "language": "python",
     "metadata": {},
     "outputs": [],
     "prompt_number": 14
    }
   ],
   "metadata": {}
  }
 ]
}